{
 "cells": [
  {
   "cell_type": "markdown",
   "metadata": {
    "id": "Me4bLMo3nG6C"
   },
   "source": [
    "# Task 1: Data Preprocessing"
   ]
  },
  {
   "cell_type": "markdown",
   "metadata": {
    "id": "ZCagW4Umm6jY"
   },
   "source": [
    "### Implement the package needed"
   ]
  },
  {
   "cell_type": "code",
   "execution_count": 3,
   "metadata": {
    "id": "Ddz5UA_rZZpH"
   },
   "outputs": [
    {
     "name": "stderr",
     "output_type": "stream",
     "text": [
      "C:\\Users\\pjy_t\\anaconda3\\lib\\site-packages\\sklearn\\utils\\deprecation.py:143: FutureWarning: The sklearn.utils.testing module is  deprecated in version 0.22 and will be removed in version 0.24. The corresponding classes / functions should instead be imported from sklearn.utils. Anything that cannot be imported from sklearn.utils is now part of the private API.\n",
      "  warnings.warn(message, FutureWarning)\n"
     ]
    }
   ],
   "source": [
    "import numpy as np\n",
    "%matplotlib notebook\n",
    "%matplotlib inline\n",
    "import matplotlib.pyplot as plt\n",
    "from IPython.core.debugger import set_trace\n",
    "from sklearn.feature_extraction.text import CountVectorizer\n",
    "import pandas as pd\n",
    "from sklearn.naive_bayes import MultinomialNB\n",
    "from sklearn.utils.testing import ignore_warnings\n",
    "import pickle\n"
   ]
  },
  {
   "cell_type": "markdown",
   "metadata": {
    "id": "TKP1qvtrnQtB"
   },
   "source": [
    "## Processing dataset *twenty news groups*\n",
    "\n"
   ]
  },
  {
   "cell_type": "markdown",
   "metadata": {
    "id": "sVBERDYp91da"
   },
   "source": [
    "### Simplest data processing with no resctriction (Version 1)"
   ]
  },
  {
   "cell_type": "code",
   "execution_count": 4,
   "metadata": {
    "colab": {
     "base_uri": "https://localhost:8080/"
    },
    "id": "xqYxdg5Xng3w",
    "outputId": "1feacf8a-a5f5-49db-c4f1-ea11205f9ee3"
   },
   "outputs": [
    {
     "name": "stdout",
     "output_type": "stream",
     "text": [
      "shape of vectorizer:(11314, 101631)\n"
     ]
    }
   ],
   "source": [
    "from sklearn.datasets import fetch_20newsgroups\n",
    "from sklearn.feature_extraction.text import TfidfTransformer\n",
    "twenty_train = fetch_20newsgroups(subset='train', remove=('headers', 'footers', 'quotes'))\n",
    "twenty_test = fetch_20newsgroups(subset='test', remove=('headers', 'footers', 'quotes'))\n",
    "\n",
    "\n",
    "#twenty_train.target_names\n",
    "#print(len(twenty_train.data))\n",
    "#print(len(twenty_train.filenames))\n",
    "\n",
    "#Initialize the model used to transfrom the data from text to vector\n",
    "#with special condition to increase the accuracy.\n",
    "vectorizer_v1 = CountVectorizer()\n",
    "labels_train_twenty = twenty_train.target\n",
    "labels_test_twenty = twenty_test.target\n",
    "\n",
    "twenty_train_v1 = vectorizer_v1.fit_transform(twenty_train.data)\n",
    "twenty_test_v1 = vectorizer_v1.transform(twenty_test.data)\n",
    "\n",
    "print(\"shape of vectorizer:\" + str(twenty_train_v1.toarray().shape))"
   ]
  },
  {
   "cell_type": "markdown",
   "metadata": {
    "id": "IwxZDrn--Pew"
   },
   "source": [
    "### Take care of only stop_words and meaningless combination of number and letters (Version 2)"
   ]
  },
  {
   "cell_type": "code",
   "execution_count": 5,
   "metadata": {
    "colab": {
     "base_uri": "https://localhost:8080/"
    },
    "id": "YiRQ9AaP-hUp",
    "outputId": "1b081e03-8150-4a68-8318-d14973e09fbe"
   },
   "outputs": [
    {
     "name": "stderr",
     "output_type": "stream",
     "text": [
      "[nltk_data] Downloading package stopwords to\n",
      "[nltk_data]     C:\\Users\\pjy_t\\AppData\\Roaming\\nltk_data...\n",
      "[nltk_data]   Package stopwords is already up-to-date!\n"
     ]
    },
    {
     "name": "stdout",
     "output_type": "stream",
     "text": [
      "(11314, 72790)\n",
      "(7532, 72790)\n"
     ]
    }
   ],
   "source": [
    "#Take care of the stop_words\n",
    "import nltk\n",
    "from nltk.corpus import stopwords\n",
    "nltk.download('stopwords')\n",
    "sw = stopwords.words('english')\n",
    "\n",
    "\n",
    "# print(sw)\n",
    "\n",
    "vectorizer_v2 = CountVectorizer(stop_words = sw, token_pattern = '[a-z]+')\n",
    "\n",
    "twenty_train_v2 = vectorizer_v2.fit_transform(twenty_train.data)\n",
    "twenty_test_v2 = vectorizer_v2.transform(twenty_test.data)\n",
    "#print(vectorizer_v2.get_feature_names())\n",
    "#print(type(twenty_test_v2.toarray()))\n",
    "print(twenty_train_v2.shape)\n",
    "print(twenty_test_v2.shape)\n",
    "\n",
    "\n",
    "# print(np.array(twenty_train_v2).shape)"
   ]
  },
  {
   "cell_type": "markdown",
   "metadata": {
    "id": "sQhdo2vK-tgJ"
   },
   "source": [
    "### Take care of high frequency words and low frequency words (Version 3)"
   ]
  },
  {
   "cell_type": "code",
   "execution_count": 6,
   "metadata": {
    "colab": {
     "base_uri": "https://localhost:8080/"
    },
    "id": "OnSHvIN1Bnfv",
    "outputId": "7b2e0bca-e132-43d8-9e7a-051cacb4ccbc"
   },
   "outputs": [
    {
     "name": "stdout",
     "output_type": "stream",
     "text": [
      "(11314, 9349)\n",
      "(7532, 9349)\n"
     ]
    }
   ],
   "source": [
    "vectorizer_v3 = CountVectorizer(max_df = 0.5)\n",
    "\n",
    "twenty_train_v3 = vectorizer_v3.fit_transform(twenty_train.data)\n",
    "twenty_test_v3 = vectorizer_v3.transform(twenty_test.data)\n",
    "\n",
    "#print(twenty_train_v3.shape)\n",
    "# print(vectorizer_v3.get_feature_names())\n",
    "\n",
    "vectorizer_v4 = CountVectorizer(min_df = 0.001)\n",
    "\n",
    "twenty_train_v4 = vectorizer_v4.fit_transform(twenty_train.data)\n",
    "twenty_test_v4 = vectorizer_v4.transform(twenty_test.data)\n",
    "print(twenty_train_v4.shape)\n",
    "print(twenty_test_v4.shape)\n",
    "#print(vectorizer_v4.get_feature_names())sdf"
   ]
  },
  {
   "cell_type": "code",
   "execution_count": 7,
   "metadata": {},
   "outputs": [
    {
     "name": "stdout",
     "output_type": "stream",
     "text": [
      "(11314, 8740)\n",
      "(7532, 8740)\n"
     ]
    }
   ],
   "source": [
    "vectorizer_v5 = CountVectorizer(stop_words = sw, token_pattern = '[a-z]+', min_df = 0.001)\n",
    "\n",
    "twenty_train_v5 = vectorizer_v5.fit_transform(twenty_train.data)\n",
    "twenty_test_v5 = vectorizer_v5.transform(twenty_test.data)\n",
    "\n",
    "print(twenty_train_v5.shape)\n",
    "print(twenty_test_v5.shape)"
   ]
  },
  {
   "cell_type": "markdown",
   "metadata": {
    "id": "8Rs5Zvv4bMEL"
   },
   "source": [
    "### Tfidf data processing on different version of countVectorizer"
   ]
  },
  {
   "cell_type": "code",
   "execution_count": 8,
   "metadata": {
    "id": "AOtDoMGDbtu5"
   },
   "outputs": [],
   "source": [
    "#Using a new model to eliminate the problem of different weight on words. Using machine instead of manually\n",
    "tfidf_transformer = TfidfTransformer()\n",
    "\n",
    "twenty_train_tfidf_v1 = tfidf_transformer.fit_transform(twenty_train_v1)\n",
    "twenty_test_tfidf_v1 = tfidf_transformer.transform(twenty_test_v1)\n",
    "#print(twenty_train_tfidf.shape)\n",
    "\n",
    "twenty_train_tfidf_v2 = tfidf_transformer.fit_transform(twenty_train_v2)\n",
    "twenty_test_tfidf_v2 = tfidf_transformer.transform(twenty_test_v2)\n",
    "\n",
    "twenty_train_tfidf_v3 = tfidf_transformer.fit_transform(twenty_train_v3)\n",
    "twenty_test_tfidf_v3 = tfidf_transformer.transform(twenty_train_v3)\n",
    "\n",
    "twenty_train_tfidf_v4 = tfidf_transformer.fit_transform(twenty_train_v4)\n",
    "twenty_test_tfidf_v4 = tfidf_transformer.transform(twenty_train_v4)"
   ]
  },
  {
   "cell_type": "markdown",
   "metadata": {
    "id": "tg0x0bAKnnf2"
   },
   "source": [
    "##Processing dataset *IMDB review*\n",
    "\n"
   ]
  },
  {
   "cell_type": "code",
   "execution_count": 9,
   "metadata": {
    "id": "4_lZLJUaKSA7"
   },
   "outputs": [],
   "source": [
    "def load_imdb_train():\n",
    "    with open('imdb_train.pickle', 'rb') as handle:\n",
    "        result = pickle.load(handle)\n",
    "    return result\n",
    "\n",
    "def load_imdb_test():\n",
    "    with open('imdb_test.pickle', 'rb') as handle:\n",
    "        result = pickle.load(handle)\n",
    "    return result"
   ]
  },
  {
   "cell_type": "code",
   "execution_count": 10,
   "metadata": {
    "colab": {
     "base_uri": "https://localhost:8080/",
     "height": 367
    },
    "id": "fU78UYotKUsB",
    "outputId": "192415a0-ed7e-4043-b830-3bc61f628740"
   },
   "outputs": [],
   "source": [
    "#Please download data from http://ai.stanford.edu/~amaas/data/sentiment/ and upload to collab and put under folder \"content\"\n",
    "\n",
    "#Uncompress the aclimdb)v1.tar.gz\n",
    "import os\n",
    "os.system('tar zxvf %s' % 'aclImdb_v1.tar.gz' )\n",
    "\n",
    "#-----------------------------------------------------------------------\n",
    "# Import data into the code\n",
    "from sklearn.datasets import load_files\n",
    "imdb_train = load_files('aclImdb/train')\n",
    "imdb_test = load_files('aclImdb/test')\n",
    "#-----------------------------------------------------------------------\n",
    "# with open('imdb_train.pickle', 'wb') as handle:\n",
    "#     pickle.dump(imdb_train ,handle, protocol = pickle.HIGHEST_PROTOCOL)\n",
    "    \n",
    "# with open('imdb_test.pickle', 'wb') as handle:\n",
    "#     pickle.dump(imdb_test, handle, protocol = pickle.HIGHEST_PROTOCOL)\n",
    "#-----------------------------------------------------------------------\n",
    "\n",
    "# OS takes a long time to load files from disk, therefore we saved the imdb_train and imdb_test set using pickle\n",
    "# imdb_train = load_imdb_train()\n",
    "# imdb_test = load_imdb_test()\n",
    "#-----------------------------------------------------------------------\n",
    "labels_train_imdb = imdb_train.target\n",
    "labels_test_imdb = imdb_test.target"
   ]
  },
  {
   "cell_type": "markdown",
   "metadata": {
    "id": "7y-BcS9Wk7kc"
   },
   "source": [
    "### Simplest data processing with no restriction (Version 1)"
   ]
  },
  {
   "cell_type": "code",
   "execution_count": 11,
   "metadata": {
    "id": "5R-dlRWynrT2"
   },
   "outputs": [],
   "source": [
    "#Train the data using the same special vectorize as above\n",
    "imdb_train_v1 = vectorizer_v1.fit_transform(imdb_train.data)\n",
    "imdb_test_v1 = vectorizer_v1.transform(imdb_test.data)"
   ]
  },
  {
   "cell_type": "markdown",
   "metadata": {
    "id": "KJ2CjXmBk6e9"
   },
   "source": [
    "### Take care of only stop_words and meaningless combination of number and letters (Version 2)"
   ]
  },
  {
   "cell_type": "code",
   "execution_count": 12,
   "metadata": {
    "id": "VLTyLx1NlNUj"
   },
   "outputs": [],
   "source": [
    "imdb_train_v2 = vectorizer_v2.fit_transform(imdb_train.data)\n",
    "imdb_test_v2 = vectorizer_v2.transform(imdb_test.data)"
   ]
  },
  {
   "cell_type": "markdown",
   "metadata": {
    "id": "sgcysyxwlmuv"
   },
   "source": [
    "### Take care of high frequency words and low frequency words"
   ]
  },
  {
   "cell_type": "code",
   "execution_count": 13,
   "metadata": {
    "id": "R_KrcNbjlslX"
   },
   "outputs": [],
   "source": [
    "imdb_train_v3 = vectorizer_v3.fit_transform(imdb_train.data)\n",
    "imdb_test_v3 = vectorizer_v3.transform(imdb_test.data)\n",
    "\n",
    "imdb_train_v4 = vectorizer_v4.fit_transform(imdb_train.data)\n",
    "imdb_test_v4 = vectorizer_v4.transform(imdb_test.data)"
   ]
  },
  {
   "cell_type": "markdown",
   "metadata": {
    "id": "UB0cYeeTKcO6"
   },
   "source": [
    "### remove stopwords, words with low accuracy, and meaningless number"
   ]
  },
  {
   "cell_type": "code",
   "execution_count": 14,
   "metadata": {
    "id": "Bs6Clq8OK3P_"
   },
   "outputs": [],
   "source": [
    "# This version works well for the IMDB dataset since min_df removes most unfrequent words\n",
    "# so that we have sufficient memory for computation.\n",
    "vectorizer_v5 = CountVectorizer(stop_words = sw, token_pattern = '[a-z]+', min_df = 0.001)\n",
    "imdb_train_v5 = vectorizer_v5.fit_transform(imdb_train.data)\n",
    "imdb_test_v5 = vectorizer_v5.transform(imdb_test.data)\n"
   ]
  },
  {
   "cell_type": "markdown",
   "metadata": {
    "id": "POaFpx5olxKp"
   },
   "source": [
    "### Tfidf data processing on different version of countVectorizer"
   ]
  },
  {
   "cell_type": "code",
   "execution_count": 15,
   "metadata": {
    "id": "-SlQKqdumAvk"
   },
   "outputs": [],
   "source": [
    "imdb_train_tfidf_v1 = tfidf_transformer.fit_transform(imdb_train_v1)\n",
    "imdb_test_tfidf_v1 = tfidf_transformer.transform(imdb_test_v1)\n",
    "#print(imdb_train_tfidf.shape)\n",
    "\n",
    "imdb_train_tfidf_v2 = tfidf_transformer.fit_transform(imdb_train_v2)\n",
    "imdb_test_tfidf_v2 = tfidf_transformer.transform(imdb_test_v2)\n",
    "\n",
    "imdb_train_tfidf_v3 = tfidf_transformer.fit_transform(imdb_train_v3)\n",
    "imdb_test_tfidf_v3 = tfidf_transformer.transform(imdb_train_v3)\n",
    "\n",
    "imdb_train_tfidf_v4 = tfidf_transformer.fit_transform(imdb_train_v4)\n",
    "imdb_test_tfidf_v4 = tfidf_transformer.transform(imdb_train_v4)\n"
   ]
  },
  {
   "cell_type": "markdown",
   "metadata": {
    "id": "uehUO7s5odhz"
   },
   "source": [
    "# Task 2: Implement Naive Bayes and k-fold cross validation"
   ]
  },
  {
   "cell_type": "markdown",
   "metadata": {
    "id": "4CKxbmHLo01R"
   },
   "source": [
    "## Fitting the data\n",
    "Below, first we implement the `fit` function that learns the model parameters. We use Laplace smoothing for the class prior using $\\alpha=\\beta=1$."
   ]
  },
  {
   "cell_type": "markdown",
   "metadata": {
    "id": "B8I1Cz0J09kr"
   },
   "source": [
    "## Bernoulli Naive Bayes"
   ]
  },
  {
   "cell_type": "markdown",
   "metadata": {
    "id": "TluKrrag-I4e"
   },
   "source": [
    "#### The following model will be used to classify datasets with two classes."
   ]
  },
  {
   "cell_type": "markdown",
   "metadata": {
    "id": "b26CumjZIP03"
   },
   "source": [
    "## Multinomial model for Naive Bayes"
   ]
  },
  {
   "cell_type": "code",
   "execution_count": 16,
   "metadata": {
    "id": "4MrVBHbnIg4U"
   },
   "outputs": [],
   "source": [
    "class MultinomialNaiveBayes:\n",
    "    def __init__(self):\n",
    "        return\n",
    "\n",
    "    def fit(self, x, y, sigma=1):\n",
    "        N, D = x.shape                          # get the shape from input data\n",
    "        C = np.max(y) + 1                       # number of class(y)\n",
    "        prob_table = np.zeros((C,D))            # table with occurance of word given class c. \n",
    "                                                # It goes from y = 1, ... , y = C\n",
    "        # From here on the implementation will be different, since we're dealing with multinomial dist.\n",
    "        Nc = np.zeros(C)\n",
    "        for c in range(C):\n",
    "            x_c = x[y == c]                     # slice all elements with a given label y\n",
    "            Nc[c] = x_c.shape[0]                # number of elements of class c\n",
    "            # calculates probability table with smoothing, default: alpha = beta = 1\n",
    "            prob_table[c,:] = (sigma + np.sum(x_c, axis = 0))  / (sigma*C  + np.sum(x_c))\n",
    "        \n",
    "        # Prior believe with smoothing (alpha_y, beta_y)\n",
    "        self.pi = (Nc + sigma)/(np.sum(Nc) + sigma*C)\n",
    "        self.prob_table = prob_table\n",
    "        return self\n",
    "\n",
    "        \n",
    "    def logsumexp(self, Z):                                                # dimension C x N\n",
    "        Zmax = np.max(Z,axis=0)                             # max over C\n",
    "        log_sum_exp = Zmax + np.log(np.sum(np.exp(Z - Zmax), axis=0))\n",
    "        return log_sum_exp\n",
    "\n",
    "    \n",
    "    def predict(self, input):\n",
    "        # The input is a numpy array of shape (C, D), it's acquired by fitting the test set\n",
    "        # on the vectorizer for training.\n",
    "        # Sigma being the normalization constant.\n",
    "\n",
    "        C, D = self.prob_table.shape            # obtain dimension of probability matrix\n",
    "        A = input.shape[0]                      # size of test set\n",
    "        # for numerical stability we work in the log domain\n",
    "        # we add a dimension because this is added to the log-likelihood matrix \n",
    "        # that assigns a likelihood for each class (C) to each test point, and so it is C x N\n",
    "        log_prior = np.log(self.pi)\n",
    "#         print(\"prior = \" + str(self.pi))\n",
    "#         print(log_prior.shape)\n",
    "        result = np.zeros((A, C))   # A x C\n",
    "#         print(result.shape)\n",
    "        for a in range (A):\n",
    "            log_prob = np.zeros(C)\n",
    "            if a % 1000 == 0:\n",
    "                print(f\"Currently predicting instance {a}\")\n",
    "            # loop over all class labels \n",
    "            for c in range(C):\n",
    "                # show progress since it takes a long tim\n",
    "                temp_c = self.prob_table[c]\n",
    "                exist = temp_c[input[a] > 0]\n",
    "                notExist = temp_c[input[a] == 0]\n",
    "                log_prob[c] = np.sum(np.log(exist))+np.sum(np.log(1-notExist)) \n",
    "                log_posterior = log_prior + log_prob\n",
    "#                 print(\"log_prior.shape: \" + str(log_prior.shape))\n",
    "#                 print(\"log_prob.shape: \" + str(log_prob.shape))\n",
    "#                 print(\"dimension of log_posterior: \" + str(log_posterior.shape))\n",
    "                # normalization involving logsumexp trick\n",
    "                result[a,:] = np.exp(log_posterior - self.logsumexp(log_posterior))\n",
    "        return result\n",
    "        "
   ]
  },
  {
   "cell_type": "markdown",
   "metadata": {
    "id": "yM1GmtnVytbB"
   },
   "source": [
    "## Prediction for new data"
   ]
  },
  {
   "cell_type": "code",
   "execution_count": 17,
   "metadata": {
    "id": "G-P5YIkO4eyo"
   },
   "outputs": [],
   "source": [
    "def evaluate_acc(y, y_hat):\n",
    "    accuracy = np.sum(y == y_hat) / y.shape[0]\n",
    "    return accuracy"
   ]
  },
  {
   "cell_type": "code",
   "execution_count": 38,
   "metadata": {
    "id": "ehboRQOAjyy0"
   },
   "outputs": [],
   "source": [
    "def cross_validation_split(x,k_folds):\n",
    "    #x: clean training dataset\n",
    "    #k_folds: The amount of folds we want to split the data into\n",
    "    # get the number of data samples in each split\n",
    "    N, D = x.shape  \n",
    "             # get the shape from input data\n",
    "    #N= 5\n",
    "    #print(N)\n",
    "    n_val = N // k_folds\n",
    "    #print(n_val)\n",
    "    tr_inds = []\n",
    "    val_inds = [] \n",
    "    \n",
    "    for f in range(k_folds): \n",
    "    \n",
    "     \n",
    "        #get the validation indexes\n",
    "                      \n",
    "        val_inds.append(list(range(f * n_val, (f+1)*n_val))) \n",
    "        #print(list(range(f * n_val, (f+1)*n_val+1)))\n",
    "        #get the train indexes\n",
    "        if f > 0:\n",
    "            tr_inds.append(list(range(f * n_val))) \n",
    "            #print(list(range(f * n_val)))\n",
    "        if f == 0: \n",
    "          tr_inds.append(list(range((f+1) * n_val, N))); \n",
    "         # print(list(range((f+1) * n_val, N)))\n",
    "        if (f < k_folds and f !=0):\n",
    "            tr_inds[f] = (tr_inds[f] + list(range((f+1) * n_val, N)))   \n",
    "\n",
    "    return val_inds, tr_inds  \n",
    "\n",
    "def kfoldCV(data, labels, val_inds, tr_inds, model, k, sigma):\n",
    "    accuracy_test= np.zeros(k);\n",
    "    for f, (val,tr) in enumerate(zip(val_inds,tr_inds)):\n",
    "        print(\"Fold \" + str(f+1) + \": \")\n",
    "        #print(val)\n",
    "        #print(tr);\n",
    "        #model1 = model.fit(twenty_train_v4.toarray(), labels_train_twenty, 1);\n",
    "        #y_prob = model1.predict(twenty_test_v4.toarray()); \n",
    "        #y_pred = np.argmax(y_prob, axis = 1);\n",
    "        model.fit(data[tr], labels[tr], sigma)\n",
    "        y_prob = model.predict(data[val])\n",
    "\n",
    "        y_pred = np.argmax(y_prob, axis = 1)\n",
    "        print()\n",
    "        accuracy_test[f] = evaluate_acc(y = labels[val], y_hat = y_pred);\n",
    "    \n",
    "    average = sum(accuracy_test)/len(accuracy_test); \n",
    "    return average; \n",
    "\n",
    "def kfoldCV2(data, labels, val_inds, tr_inds, model,k):\n",
    "    accuracy_test= np.zeros(k);\n",
    "    for f, (val,tr) in enumerate(zip(val_inds,tr_inds)):\n",
    "        print(\"Fold \" + str(f+1) + \": \")\n",
    "        #print(val)\n",
    "        #print(tr);\n",
    "        #model1 = model.fit(twenty_train_v4.toarray(), labels_train_twenty, 1);\n",
    "        #y_prob = model1.predict(twenty_test_v4.toarray()); \n",
    "        #y_pred = np.argmax(y_prob, axis = 1);\n",
    "        model.fit(data[tr], labels[tr], k)\n",
    "        y_prob = model.predict(data[val])\n",
    "\n",
    "        y_pred = np.argmax(y_prob, axis = 1)\n",
    "        print()\n",
    "        accuracy_test[f] = evaluate_acc(y = labels[val], y_hat = y_pred);\n",
    "     \n",
    "    return accuracy_test \n"
   ]
  },
  {
   "cell_type": "markdown",
   "metadata": {},
   "source": [
    "### Test kFoldCV"
   ]
  },
  {
   "cell_type": "code",
   "execution_count": 39,
   "metadata": {
    "colab": {
     "base_uri": "https://localhost:8080/"
    },
    "id": "KTAo279awySI",
    "outputId": "1557c021-6138-4adf-c948-e9b890d7586d"
   },
   "outputs": [
    {
     "name": "stdout",
     "output_type": "stream",
     "text": [
      "(2262, 20)\n",
      "Currently predicting instance 0\n"
     ]
    },
    {
     "name": "stderr",
     "output_type": "stream",
     "text": [
      "<ipython-input-32-0aee2dc763ae>:55: RuntimeWarning: divide by zero encountered in log\n",
      "  log_prob[c] = np.sum(np.log(exist))+np.sum(np.log(1-notExist))\n",
      "<ipython-input-32-0aee2dc763ae>:26: RuntimeWarning: invalid value encountered in subtract\n",
      "  log_sum_exp = Zmax + np.log(np.sum(np.exp(Z - Zmax), axis=0))\n"
     ]
    },
    {
     "name": "stdout",
     "output_type": "stream",
     "text": [
      "Currently predicting instance 1000\n",
      "Currently predicting instance 2000\n",
      "\n",
      "(2262, 20)\n",
      "Currently predicting instance 0\n",
      "Currently predicting instance 1000\n",
      "Currently predicting instance 2000\n",
      "\n",
      "(2262, 20)\n",
      "Currently predicting instance 0\n",
      "Currently predicting instance 1000\n",
      "Currently predicting instance 2000\n",
      "\n",
      "(2262, 20)\n",
      "Currently predicting instance 0\n",
      "Currently predicting instance 1000\n",
      "Currently predicting instance 2000\n",
      "\n",
      "(2262, 20)\n",
      "Currently predicting instance 0\n",
      "Currently predicting instance 1000\n",
      "Currently predicting instance 2000\n",
      "\n",
      "(2262, 20)\n",
      "Currently predicting instance 0\n",
      "Currently predicting instance 1000\n",
      "Currently predicting instance 2000\n",
      "\n",
      "(2262, 20)\n",
      "Currently predicting instance 0\n",
      "Currently predicting instance 1000\n",
      "Currently predicting instance 2000\n",
      "\n",
      "(2262, 20)\n",
      "Currently predicting instance 0\n",
      "Currently predicting instance 1000\n",
      "Currently predicting instance 2000\n",
      "\n",
      "(2262, 20)\n",
      "Currently predicting instance 0\n",
      "Currently predicting instance 1000\n",
      "Currently predicting instance 2000\n",
      "\n",
      "(2262, 20)\n",
      "Currently predicting instance 0\n",
      "Currently predicting instance 1000\n",
      "Currently predicting instance 2000\n",
      "\n",
      "(2262, 20)\n",
      "Currently predicting instance 0\n",
      "Currently predicting instance 1000\n",
      "Currently predicting instance 2000\n",
      "\n",
      "(2262, 20)\n",
      "Currently predicting instance 0\n",
      "Currently predicting instance 1000\n",
      "Currently predicting instance 2000\n",
      "\n",
      "(2262, 20)\n",
      "Currently predicting instance 0\n",
      "Currently predicting instance 1000\n",
      "Currently predicting instance 2000\n",
      "\n",
      "(2262, 20)\n",
      "Currently predicting instance 0\n",
      "Currently predicting instance 1000\n",
      "Currently predicting instance 2000\n",
      "\n",
      "(2262, 20)\n",
      "Currently predicting instance 0\n",
      "Currently predicting instance 1000\n",
      "Currently predicting instance 2000\n",
      "\n",
      "(2262, 20)\n",
      "Currently predicting instance 0\n",
      "Currently predicting instance 1000\n",
      "Currently predicting instance 2000\n",
      "\n",
      "(2262, 20)\n",
      "Currently predicting instance 0\n",
      "Currently predicting instance 1000\n",
      "Currently predicting instance 2000\n",
      "\n",
      "(2262, 20)\n",
      "Currently predicting instance 0\n",
      "Currently predicting instance 1000\n",
      "Currently predicting instance 2000\n",
      "\n",
      "(2262, 20)\n",
      "Currently predicting instance 0\n",
      "Currently predicting instance 1000\n",
      "Currently predicting instance 2000\n",
      "\n",
      "(2262, 20)\n",
      "Currently predicting instance 0\n",
      "Currently predicting instance 1000\n",
      "Currently predicting instance 2000\n",
      "\n",
      "(2262, 20)\n",
      "Currently predicting instance 0\n",
      "Currently predicting instance 1000\n",
      "Currently predicting instance 2000\n",
      "\n",
      "(2262, 20)\n",
      "Currently predicting instance 0\n",
      "Currently predicting instance 1000\n",
      "Currently predicting instance 2000\n",
      "\n",
      "(2262, 20)\n",
      "Currently predicting instance 0\n",
      "Currently predicting instance 1000\n",
      "Currently predicting instance 2000\n",
      "\n",
      "(2262, 20)\n",
      "Currently predicting instance 0\n",
      "Currently predicting instance 1000\n",
      "Currently predicting instance 2000\n",
      "\n",
      "(2262, 20)\n",
      "Currently predicting instance 0\n",
      "Currently predicting instance 1000\n",
      "Currently predicting instance 2000\n",
      "\n",
      "(2262, 20)\n",
      "Currently predicting instance 0\n",
      "Currently predicting instance 1000\n",
      "Currently predicting instance 2000\n",
      "\n",
      "(2262, 20)\n",
      "Currently predicting instance 0\n",
      "Currently predicting instance 1000\n",
      "Currently predicting instance 2000\n",
      "\n",
      "(2262, 20)\n",
      "Currently predicting instance 0\n",
      "Currently predicting instance 1000\n",
      "Currently predicting instance 2000\n",
      "\n",
      "(2262, 20)\n",
      "Currently predicting instance 0\n",
      "Currently predicting instance 1000\n",
      "Currently predicting instance 2000\n",
      "\n",
      "(2262, 20)\n",
      "Currently predicting instance 0\n",
      "Currently predicting instance 1000\n",
      "Currently predicting instance 2000\n",
      "\n",
      "(2262, 20)\n",
      "Currently predicting instance 0\n",
      "Currently predicting instance 1000\n",
      "Currently predicting instance 2000\n",
      "\n",
      "(2262, 20)\n",
      "Currently predicting instance 0\n",
      "Currently predicting instance 1000\n",
      "Currently predicting instance 2000\n",
      "\n",
      "(2262, 20)\n",
      "Currently predicting instance 0\n",
      "Currently predicting instance 1000\n",
      "Currently predicting instance 2000\n",
      "\n",
      "(2262, 20)\n",
      "Currently predicting instance 0\n",
      "Currently predicting instance 1000\n",
      "Currently predicting instance 2000\n",
      "\n",
      "(2262, 20)\n",
      "Currently predicting instance 0\n",
      "Currently predicting instance 1000\n",
      "Currently predicting instance 2000\n",
      "\n",
      "(2262, 20)\n",
      "Currently predicting instance 0\n",
      "Currently predicting instance 1000\n",
      "Currently predicting instance 2000\n",
      "\n",
      "(2262, 20)\n",
      "Currently predicting instance 0\n",
      "Currently predicting instance 1000\n",
      "Currently predicting instance 2000\n",
      "\n",
      "(2262, 20)\n",
      "Currently predicting instance 0\n",
      "Currently predicting instance 1000\n",
      "Currently predicting instance 2000\n",
      "\n",
      "(2262, 20)\n",
      "Currently predicting instance 0\n",
      "Currently predicting instance 1000\n",
      "Currently predicting instance 2000\n",
      "\n",
      "(2262, 20)\n",
      "Currently predicting instance 0\n",
      "Currently predicting instance 1000\n",
      "Currently predicting instance 2000\n",
      "\n",
      "(2262, 20)\n",
      "Currently predicting instance 0\n",
      "Currently predicting instance 1000\n",
      "Currently predicting instance 2000\n",
      "\n",
      "(2262, 20)\n",
      "Currently predicting instance 0\n",
      "Currently predicting instance 1000\n",
      "Currently predicting instance 2000\n",
      "\n",
      "(2262, 20)\n",
      "Currently predicting instance 0\n",
      "Currently predicting instance 1000\n",
      "Currently predicting instance 2000\n",
      "\n",
      "(2262, 20)\n",
      "Currently predicting instance 0\n",
      "Currently predicting instance 1000\n",
      "Currently predicting instance 2000\n",
      "\n",
      "(2262, 20)\n",
      "Currently predicting instance 0\n",
      "Currently predicting instance 1000\n",
      "Currently predicting instance 2000\n",
      "\n",
      "(2262, 20)\n",
      "Currently predicting instance 0\n",
      "Currently predicting instance 1000\n",
      "Currently predicting instance 2000\n",
      "\n",
      "(2262, 20)\n",
      "Currently predicting instance 0\n",
      "Currently predicting instance 1000\n",
      "Currently predicting instance 2000\n",
      "\n",
      "(2262, 20)\n",
      "Currently predicting instance 0\n",
      "Currently predicting instance 1000\n",
      "Currently predicting instance 2000\n",
      "\n",
      "(2262, 20)\n",
      "Currently predicting instance 0\n",
      "Currently predicting instance 1000\n",
      "Currently predicting instance 2000\n",
      "\n",
      "(2262, 20)\n",
      "Currently predicting instance 0\n",
      "Currently predicting instance 1000\n",
      "Currently predicting instance 2000\n",
      "\n"
     ]
    }
   ],
   "source": [
    "x = twenty_train_v4.toarray();\n",
    "model_cv = MultinomialNaiveBayes()\n",
    "a,b = cross_validation_split(x,5);\n",
    "average=[];\n",
    "for i in range(10): \n",
    "    average.append(kfoldCV(x, labels_train_twenty, a, b,model_cv,i));"
   ]
  },
  {
   "cell_type": "code",
   "execution_count": 24,
   "metadata": {
    "colab": {
     "base_uri": "https://localhost:8080/"
    },
    "id": "BtORGylCxwmG",
    "outputId": "3dab21b7-e3fb-47ec-e803-3488fea9801f"
   },
   "outputs": [
    {
     "name": "stdout",
     "output_type": "stream",
     "text": [
      "0.6120552310143388\n"
     ]
    }
   ],
   "source": [
    "clf3 = MultinomialNB()\n",
    "clf3.fit(twenty_train_v4, labels_train_twenty)\n",
    "y_pred_sklearn = clf3.predict(twenty_test_v4)\n",
    "accuracy_sklearn = evaluate_acc(y = labels_test_twenty, y_hat = y_pred_sklearn)\n",
    "print(accuracy_sklearn)"
   ]
  },
  {
   "cell_type": "code",
   "execution_count": null,
   "metadata": {
    "colab": {
     "base_uri": "https://localhost:8080/"
    },
    "id": "hjO0KA7EoXyp",
    "outputId": "7bb5b23a-f236-4b50-91d7-55b00e2035e0"
   },
   "outputs": [
    {
     "name": "stdout",
     "output_type": "stream",
     "text": [
      "0.6242263483642794\n"
     ]
    }
   ],
   "source": [
    "print(average)"
   ]
  },
  {
   "cell_type": "markdown",
   "metadata": {
    "id": "OWfU96ldPqKl"
   },
   "source": [
    "# Task 3: Experiment"
   ]
  },
  {
   "cell_type": "markdown",
   "metadata": {},
   "source": [
    "### Running Naive Bayes on both datasets with cross validation"
   ]
  },
  {
   "cell_type": "markdown",
   "metadata": {
    "id": "I7k9k1VbvTFK"
   },
   "source": [
    "#### Use logistic regression on 20 news groups dataset and find the best hyperparameter"
   ]
  },
  {
   "cell_type": "code",
   "execution_count": 58,
   "metadata": {},
   "outputs": [
    {
     "name": "stdout",
     "output_type": "stream",
     "text": [
      "testing hyperparameter: alpha = 0\n",
      "Fold 1: \n",
      "Currently predicting instance 0\n"
     ]
    },
    {
     "name": "stderr",
     "output_type": "stream",
     "text": [
      "<ipython-input-44-9adc327daa20>:55: RuntimeWarning: divide by zero encountered in log\n",
      "  log_prob[c] = np.sum(np.log(exist))+np.sum(np.log(1-notExist))\n",
      "<ipython-input-44-9adc327daa20>:26: RuntimeWarning: invalid value encountered in subtract\n",
      "  log_sum_exp = Zmax + np.log(np.sum(np.exp(Z - Zmax), axis=0))\n"
     ]
    },
    {
     "name": "stdout",
     "output_type": "stream",
     "text": [
      "Currently predicting instance 1000\n",
      "Currently predicting instance 2000\n",
      "\n",
      "Fold 2: \n",
      "Currently predicting instance 0\n",
      "Currently predicting instance 1000\n",
      "Currently predicting instance 2000\n",
      "\n",
      "Fold 3: \n",
      "Currently predicting instance 0\n",
      "Currently predicting instance 1000\n",
      "Currently predicting instance 2000\n",
      "\n",
      "Fold 4: \n",
      "Currently predicting instance 0\n",
      "Currently predicting instance 1000\n",
      "Currently predicting instance 2000\n",
      "\n",
      "Fold 5: \n",
      "Currently predicting instance 0\n",
      "Currently predicting instance 1000\n",
      "Currently predicting instance 2000\n",
      "\n",
      "Currently predicting instance 0\n",
      "Currently predicting instance 1000\n",
      "Currently predicting instance 2000\n",
      "Currently predicting instance 3000\n",
      "Currently predicting instance 4000\n",
      "Currently predicting instance 5000\n",
      "Currently predicting instance 6000\n",
      "Currently predicting instance 7000\n",
      "testing hyperparameter: alpha = 1\n",
      "Fold 1: \n",
      "Currently predicting instance 0\n",
      "Currently predicting instance 1000\n",
      "Currently predicting instance 2000\n",
      "\n",
      "Fold 2: \n",
      "Currently predicting instance 0\n",
      "Currently predicting instance 1000\n",
      "Currently predicting instance 2000\n",
      "\n",
      "Fold 3: \n",
      "Currently predicting instance 0\n",
      "Currently predicting instance 1000\n",
      "Currently predicting instance 2000\n",
      "\n",
      "Fold 4: \n",
      "Currently predicting instance 0\n",
      "Currently predicting instance 1000\n",
      "Currently predicting instance 2000\n",
      "\n",
      "Fold 5: \n",
      "Currently predicting instance 0\n",
      "Currently predicting instance 1000\n",
      "Currently predicting instance 2000\n",
      "\n",
      "Currently predicting instance 0\n",
      "Currently predicting instance 1000\n",
      "Currently predicting instance 2000\n",
      "Currently predicting instance 3000\n",
      "Currently predicting instance 4000\n",
      "Currently predicting instance 5000\n",
      "Currently predicting instance 6000\n",
      "Currently predicting instance 7000\n",
      "testing hyperparameter: alpha = 2\n",
      "Fold 1: \n",
      "Currently predicting instance 0\n",
      "Currently predicting instance 1000\n",
      "Currently predicting instance 2000\n",
      "\n",
      "Fold 2: \n",
      "Currently predicting instance 0\n",
      "Currently predicting instance 1000\n",
      "Currently predicting instance 2000\n",
      "\n",
      "Fold 3: \n",
      "Currently predicting instance 0\n",
      "Currently predicting instance 1000\n",
      "Currently predicting instance 2000\n",
      "\n",
      "Fold 4: \n",
      "Currently predicting instance 0\n",
      "Currently predicting instance 1000\n",
      "Currently predicting instance 2000\n",
      "\n",
      "Fold 5: \n",
      "Currently predicting instance 0\n",
      "Currently predicting instance 1000\n",
      "Currently predicting instance 2000\n",
      "\n",
      "Currently predicting instance 0\n",
      "Currently predicting instance 1000\n",
      "Currently predicting instance 2000\n",
      "Currently predicting instance 3000\n",
      "Currently predicting instance 4000\n",
      "Currently predicting instance 5000\n",
      "Currently predicting instance 6000\n",
      "Currently predicting instance 7000\n",
      "testing hyperparameter: alpha = 3\n",
      "Fold 1: \n",
      "Currently predicting instance 0\n",
      "Currently predicting instance 1000\n",
      "Currently predicting instance 2000\n",
      "\n",
      "Fold 2: \n",
      "Currently predicting instance 0\n",
      "Currently predicting instance 1000\n",
      "Currently predicting instance 2000\n",
      "\n",
      "Fold 3: \n",
      "Currently predicting instance 0\n",
      "Currently predicting instance 1000\n",
      "Currently predicting instance 2000\n",
      "\n",
      "Fold 4: \n",
      "Currently predicting instance 0\n",
      "Currently predicting instance 1000\n",
      "Currently predicting instance 2000\n",
      "\n",
      "Fold 5: \n",
      "Currently predicting instance 0\n",
      "Currently predicting instance 1000\n",
      "Currently predicting instance 2000\n",
      "\n",
      "Currently predicting instance 0\n",
      "Currently predicting instance 1000\n",
      "Currently predicting instance 2000\n",
      "Currently predicting instance 3000\n",
      "Currently predicting instance 4000\n",
      "Currently predicting instance 5000\n",
      "Currently predicting instance 6000\n",
      "Currently predicting instance 7000\n",
      "testing hyperparameter: alpha = 4\n",
      "Fold 1: \n",
      "Currently predicting instance 0\n",
      "Currently predicting instance 1000\n",
      "Currently predicting instance 2000\n",
      "\n",
      "Fold 2: \n",
      "Currently predicting instance 0\n",
      "Currently predicting instance 1000\n",
      "Currently predicting instance 2000\n",
      "\n",
      "Fold 3: \n",
      "Currently predicting instance 0\n",
      "Currently predicting instance 1000\n",
      "Currently predicting instance 2000\n",
      "\n",
      "Fold 4: \n",
      "Currently predicting instance 0\n",
      "Currently predicting instance 1000\n",
      "Currently predicting instance 2000\n",
      "\n",
      "Fold 5: \n",
      "Currently predicting instance 0\n",
      "Currently predicting instance 1000\n",
      "Currently predicting instance 2000\n",
      "\n",
      "Currently predicting instance 0\n",
      "Currently predicting instance 1000\n",
      "Currently predicting instance 2000\n",
      "Currently predicting instance 3000\n",
      "Currently predicting instance 4000\n",
      "Currently predicting instance 5000\n",
      "Currently predicting instance 6000\n",
      "Currently predicting instance 7000\n",
      "testing hyperparameter: alpha = 5\n",
      "Fold 1: \n",
      "Currently predicting instance 0\n",
      "Currently predicting instance 1000\n",
      "Currently predicting instance 2000\n",
      "\n",
      "Fold 2: \n",
      "Currently predicting instance 0\n",
      "Currently predicting instance 1000\n",
      "Currently predicting instance 2000\n",
      "\n",
      "Fold 3: \n",
      "Currently predicting instance 0\n",
      "Currently predicting instance 1000\n",
      "Currently predicting instance 2000\n",
      "\n",
      "Fold 4: \n",
      "Currently predicting instance 0\n",
      "Currently predicting instance 1000\n",
      "Currently predicting instance 2000\n",
      "\n",
      "Fold 5: \n",
      "Currently predicting instance 0\n",
      "Currently predicting instance 1000\n",
      "Currently predicting instance 2000\n",
      "\n",
      "Currently predicting instance 0\n",
      "Currently predicting instance 1000\n",
      "Currently predicting instance 2000\n",
      "Currently predicting instance 3000\n",
      "Currently predicting instance 4000\n",
      "Currently predicting instance 5000\n",
      "Currently predicting instance 6000\n",
      "Currently predicting instance 7000\n",
      "testing hyperparameter: alpha = 6\n",
      "Fold 1: \n",
      "Currently predicting instance 0\n",
      "Currently predicting instance 1000\n",
      "Currently predicting instance 2000\n",
      "\n",
      "Fold 2: \n",
      "Currently predicting instance 0\n",
      "Currently predicting instance 1000\n",
      "Currently predicting instance 2000\n",
      "\n",
      "Fold 3: \n",
      "Currently predicting instance 0\n",
      "Currently predicting instance 1000\n",
      "Currently predicting instance 2000\n",
      "\n",
      "Fold 4: \n",
      "Currently predicting instance 0\n",
      "Currently predicting instance 1000\n",
      "Currently predicting instance 2000\n",
      "\n",
      "Fold 5: \n",
      "Currently predicting instance 0\n",
      "Currently predicting instance 1000\n",
      "Currently predicting instance 2000\n",
      "\n",
      "Currently predicting instance 0\n",
      "Currently predicting instance 1000\n",
      "Currently predicting instance 2000\n",
      "Currently predicting instance 3000\n",
      "Currently predicting instance 4000\n",
      "Currently predicting instance 5000\n",
      "Currently predicting instance 6000\n",
      "Currently predicting instance 7000\n",
      "testing hyperparameter: alpha = 7\n",
      "Fold 1: \n",
      "Currently predicting instance 0\n",
      "Currently predicting instance 1000\n",
      "Currently predicting instance 2000\n",
      "\n",
      "Fold 2: \n",
      "Currently predicting instance 0\n",
      "Currently predicting instance 1000\n",
      "Currently predicting instance 2000\n",
      "\n",
      "Fold 3: \n",
      "Currently predicting instance 0\n",
      "Currently predicting instance 1000\n",
      "Currently predicting instance 2000\n",
      "\n",
      "Fold 4: \n",
      "Currently predicting instance 0\n",
      "Currently predicting instance 1000\n",
      "Currently predicting instance 2000\n",
      "\n",
      "Fold 5: \n",
      "Currently predicting instance 0\n",
      "Currently predicting instance 1000\n",
      "Currently predicting instance 2000\n",
      "\n",
      "Currently predicting instance 0\n",
      "Currently predicting instance 1000\n",
      "Currently predicting instance 2000\n",
      "Currently predicting instance 3000\n",
      "Currently predicting instance 4000\n",
      "Currently predicting instance 5000\n",
      "Currently predicting instance 6000\n",
      "Currently predicting instance 7000\n",
      "testing hyperparameter: alpha = 8\n",
      "Fold 1: \n",
      "Currently predicting instance 0\n",
      "Currently predicting instance 1000\n",
      "Currently predicting instance 2000\n",
      "\n",
      "Fold 2: \n",
      "Currently predicting instance 0\n",
      "Currently predicting instance 1000\n",
      "Currently predicting instance 2000\n",
      "\n",
      "Fold 3: \n",
      "Currently predicting instance 0\n",
      "Currently predicting instance 1000\n",
      "Currently predicting instance 2000\n",
      "\n",
      "Fold 4: \n",
      "Currently predicting instance 0\n",
      "Currently predicting instance 1000\n",
      "Currently predicting instance 2000\n",
      "\n",
      "Fold 5: \n",
      "Currently predicting instance 0\n",
      "Currently predicting instance 1000\n",
      "Currently predicting instance 2000\n",
      "\n",
      "Currently predicting instance 0\n",
      "Currently predicting instance 1000\n",
      "Currently predicting instance 2000\n",
      "Currently predicting instance 3000\n",
      "Currently predicting instance 4000\n",
      "Currently predicting instance 5000\n",
      "Currently predicting instance 6000\n",
      "Currently predicting instance 7000\n",
      "testing hyperparameter: alpha = 9\n",
      "Fold 1: \n",
      "Currently predicting instance 0\n",
      "Currently predicting instance 1000\n",
      "Currently predicting instance 2000\n",
      "\n",
      "Fold 2: \n",
      "Currently predicting instance 0\n",
      "Currently predicting instance 1000\n",
      "Currently predicting instance 2000\n",
      "\n",
      "Fold 3: \n",
      "Currently predicting instance 0\n",
      "Currently predicting instance 1000\n",
      "Currently predicting instance 2000\n",
      "\n",
      "Fold 4: \n",
      "Currently predicting instance 0\n",
      "Currently predicting instance 1000\n"
     ]
    },
    {
     "name": "stdout",
     "output_type": "stream",
     "text": [
      "Currently predicting instance 2000\n",
      "\n",
      "Fold 5: \n",
      "Currently predicting instance 0\n",
      "Currently predicting instance 1000\n",
      "Currently predicting instance 2000\n",
      "\n",
      "Currently predicting instance 0\n",
      "Currently predicting instance 1000\n",
      "Currently predicting instance 2000\n",
      "Currently predicting instance 3000\n",
      "Currently predicting instance 4000\n",
      "Currently predicting instance 5000\n",
      "Currently predicting instance 6000\n",
      "Currently predicting instance 7000\n"
     ]
    }
   ],
   "source": [
    "x = twenty_train_v2.toarray()\n",
    "model_cv_twenty_v2 = MultinomialNaiveBayes()\n",
    "a,b = cross_validation_split(x,5)\n",
    "average_twenty_v2=[]\n",
    "predict_acc_v2=[]\n",
    "for i in range(10): \n",
    "    print(f\"testing hyperparameter: alpha = {i}\")\n",
    "    #Execute k fold validation \n",
    "    average_twenty_v2.append(kfoldCV(x, labels_train_twenty, a, b, model_cv_twenty_v2 ,i));\n",
    "    \n",
    "    #On each fold, use the hyperparameter to make actual prediction on the test set\n",
    "    model_cv_twenty_v2_pred = MultinomialNaiveBayes()\n",
    "    model_cv_twenty_v2_pred.fit(twenty_train_v2.toarray(), labels_train_twenty, i)\n",
    "    y_prob = model_cv_twenty_v2_pred.predict(twenty_test_v2.toarray())\n",
    "    y_pred = np.argmax(y_prob, axis = 1)\n",
    "    accuracy = evaluate_acc(y = labels_test_twenty, y_hat = y_pred)\n",
    "    predict_acc_v2.append(accuracy)"
   ]
  },
  {
   "cell_type": "code",
   "execution_count": 69,
   "metadata": {},
   "outputs": [
    {
     "data": {
      "image/png": "[encoded data removed]",
      "text/plain": [
       "<Figure size 432x288 with 1 Axes>"
      ]
     },
     "metadata": {
      "needs_background": "light"
     },
     "output_type": "display_data"
    }
   ],
   "source": [
    "K_list = range(10)\n",
    "plt.plot(K_list, average_twenty_v2,  label='validation')\n",
    "# plt.plot(K_list, average_twenty_v2, average_twenty_v2, label='validation')\n",
    "plt.plot(K_list, predict_acc_v2, label = 'test')\n",
    "#plt.errorbar(K_list, np.mean(average, axis=1), np.std(average, axis=1), label='validation')\n",
    "plt.legend()\n",
    "plt.xlabel('hyperparameter')\n",
    "plt.ylabel('validation accuracy')\n",
    "plt.title('20 News Groups Version 2')\n",
    "plt.savefig('20_News_Groups_V2')\n",
    "plt.show()"
   ]
  },
  {
   "cell_type": "code",
   "execution_count": 53,
   "metadata": {},
   "outputs": [
    {
     "name": "stdout",
     "output_type": "stream",
     "text": [
      "testing hyperparameter: alpha = 0\n",
      "Fold 1: \n",
      "Currently predicting instance 0\n"
     ]
    },
    {
     "name": "stderr",
     "output_type": "stream",
     "text": [
      "<ipython-input-44-9adc327daa20>:55: RuntimeWarning: divide by zero encountered in log\n",
      "  log_prob[c] = np.sum(np.log(exist))+np.sum(np.log(1-notExist))\n",
      "<ipython-input-44-9adc327daa20>:26: RuntimeWarning: invalid value encountered in subtract\n",
      "  log_sum_exp = Zmax + np.log(np.sum(np.exp(Z - Zmax), axis=0))\n"
     ]
    },
    {
     "name": "stdout",
     "output_type": "stream",
     "text": [
      "Currently predicting instance 1000\n",
      "Currently predicting instance 2000\n",
      "\n",
      "Fold 2: \n",
      "Currently predicting instance 0\n",
      "Currently predicting instance 1000\n",
      "Currently predicting instance 2000\n",
      "\n",
      "Fold 3: \n",
      "Currently predicting instance 0\n",
      "Currently predicting instance 1000\n",
      "Currently predicting instance 2000\n",
      "\n",
      "Fold 4: \n",
      "Currently predicting instance 0\n",
      "Currently predicting instance 1000\n",
      "Currently predicting instance 2000\n",
      "\n",
      "Fold 5: \n",
      "Currently predicting instance 0\n",
      "Currently predicting instance 1000\n",
      "Currently predicting instance 2000\n",
      "\n",
      "Currently predicting instance 0\n",
      "Currently predicting instance 1000\n",
      "Currently predicting instance 2000\n",
      "Currently predicting instance 3000\n",
      "Currently predicting instance 4000\n",
      "Currently predicting instance 5000\n",
      "Currently predicting instance 6000\n",
      "Currently predicting instance 7000\n",
      "testing hyperparameter: alpha = 1\n",
      "Fold 1: \n",
      "Currently predicting instance 0\n",
      "Currently predicting instance 1000\n",
      "Currently predicting instance 2000\n",
      "\n",
      "Fold 2: \n",
      "Currently predicting instance 0\n",
      "Currently predicting instance 1000\n",
      "Currently predicting instance 2000\n",
      "\n",
      "Fold 3: \n",
      "Currently predicting instance 0\n",
      "Currently predicting instance 1000\n",
      "Currently predicting instance 2000\n",
      "\n",
      "Fold 4: \n",
      "Currently predicting instance 0\n",
      "Currently predicting instance 1000\n",
      "Currently predicting instance 2000\n",
      "\n",
      "Fold 5: \n",
      "Currently predicting instance 0\n",
      "Currently predicting instance 1000\n",
      "Currently predicting instance 2000\n",
      "\n",
      "Currently predicting instance 0\n",
      "Currently predicting instance 1000\n",
      "Currently predicting instance 2000\n",
      "Currently predicting instance 3000\n",
      "Currently predicting instance 4000\n",
      "Currently predicting instance 5000\n",
      "Currently predicting instance 6000\n",
      "Currently predicting instance 7000\n",
      "testing hyperparameter: alpha = 2\n",
      "Fold 1: \n",
      "Currently predicting instance 0\n",
      "Currently predicting instance 1000\n",
      "Currently predicting instance 2000\n",
      "\n",
      "Fold 2: \n",
      "Currently predicting instance 0\n",
      "Currently predicting instance 1000\n",
      "Currently predicting instance 2000\n",
      "\n",
      "Fold 3: \n",
      "Currently predicting instance 0\n",
      "Currently predicting instance 1000\n",
      "Currently predicting instance 2000\n",
      "\n",
      "Fold 4: \n",
      "Currently predicting instance 0\n",
      "Currently predicting instance 1000\n",
      "Currently predicting instance 2000\n",
      "\n",
      "Fold 5: \n",
      "Currently predicting instance 0\n",
      "Currently predicting instance 1000\n",
      "Currently predicting instance 2000\n",
      "\n",
      "Currently predicting instance 0\n",
      "Currently predicting instance 1000\n",
      "Currently predicting instance 2000\n",
      "Currently predicting instance 3000\n",
      "Currently predicting instance 4000\n",
      "Currently predicting instance 5000\n",
      "Currently predicting instance 6000\n",
      "Currently predicting instance 7000\n",
      "testing hyperparameter: alpha = 3\n",
      "Fold 1: \n",
      "Currently predicting instance 0\n",
      "Currently predicting instance 1000\n",
      "Currently predicting instance 2000\n",
      "\n",
      "Fold 2: \n",
      "Currently predicting instance 0\n",
      "Currently predicting instance 1000\n",
      "Currently predicting instance 2000\n",
      "\n",
      "Fold 3: \n",
      "Currently predicting instance 0\n",
      "Currently predicting instance 1000\n",
      "Currently predicting instance 2000\n",
      "\n",
      "Fold 4: \n",
      "Currently predicting instance 0\n",
      "Currently predicting instance 1000\n",
      "Currently predicting instance 2000\n",
      "\n",
      "Fold 5: \n",
      "Currently predicting instance 0\n",
      "Currently predicting instance 1000\n",
      "Currently predicting instance 2000\n",
      "\n",
      "Currently predicting instance 0\n",
      "Currently predicting instance 1000\n",
      "Currently predicting instance 2000\n",
      "Currently predicting instance 3000\n",
      "Currently predicting instance 4000\n",
      "Currently predicting instance 5000\n",
      "Currently predicting instance 6000\n",
      "Currently predicting instance 7000\n",
      "testing hyperparameter: alpha = 4\n",
      "Fold 1: \n",
      "Currently predicting instance 0\n",
      "Currently predicting instance 1000\n",
      "Currently predicting instance 2000\n",
      "\n",
      "Fold 2: \n",
      "Currently predicting instance 0\n",
      "Currently predicting instance 1000\n",
      "Currently predicting instance 2000\n",
      "\n",
      "Fold 3: \n",
      "Currently predicting instance 0\n",
      "Currently predicting instance 1000\n",
      "Currently predicting instance 2000\n",
      "\n",
      "Fold 4: \n",
      "Currently predicting instance 0\n",
      "Currently predicting instance 1000\n",
      "Currently predicting instance 2000\n",
      "\n",
      "Fold 5: \n",
      "Currently predicting instance 0\n",
      "Currently predicting instance 1000\n",
      "Currently predicting instance 2000\n",
      "\n",
      "Currently predicting instance 0\n",
      "Currently predicting instance 1000\n",
      "Currently predicting instance 2000\n",
      "Currently predicting instance 3000\n",
      "Currently predicting instance 4000\n",
      "Currently predicting instance 5000\n",
      "Currently predicting instance 6000\n",
      "Currently predicting instance 7000\n",
      "testing hyperparameter: alpha = 5\n",
      "Fold 1: \n",
      "Currently predicting instance 0\n",
      "Currently predicting instance 1000\n",
      "Currently predicting instance 2000\n",
      "\n",
      "Fold 2: \n",
      "Currently predicting instance 0\n",
      "Currently predicting instance 1000\n",
      "Currently predicting instance 2000\n",
      "\n",
      "Fold 3: \n",
      "Currently predicting instance 0\n",
      "Currently predicting instance 1000\n",
      "Currently predicting instance 2000\n",
      "\n",
      "Fold 4: \n",
      "Currently predicting instance 0\n",
      "Currently predicting instance 1000\n",
      "Currently predicting instance 2000\n",
      "\n",
      "Fold 5: \n",
      "Currently predicting instance 0\n",
      "Currently predicting instance 1000\n",
      "Currently predicting instance 2000\n",
      "\n",
      "Currently predicting instance 0\n",
      "Currently predicting instance 1000\n",
      "Currently predicting instance 2000\n",
      "Currently predicting instance 3000\n",
      "Currently predicting instance 4000\n",
      "Currently predicting instance 5000\n",
      "Currently predicting instance 6000\n",
      "Currently predicting instance 7000\n",
      "testing hyperparameter: alpha = 6\n",
      "Fold 1: \n",
      "Currently predicting instance 0\n",
      "Currently predicting instance 1000\n",
      "Currently predicting instance 2000\n",
      "\n",
      "Fold 2: \n",
      "Currently predicting instance 0\n",
      "Currently predicting instance 1000\n",
      "Currently predicting instance 2000\n",
      "\n",
      "Fold 3: \n",
      "Currently predicting instance 0\n",
      "Currently predicting instance 1000\n",
      "Currently predicting instance 2000\n",
      "\n",
      "Fold 4: \n",
      "Currently predicting instance 0\n",
      "Currently predicting instance 1000\n",
      "Currently predicting instance 2000\n",
      "\n",
      "Fold 5: \n",
      "Currently predicting instance 0\n",
      "Currently predicting instance 1000\n",
      "Currently predicting instance 2000\n",
      "\n",
      "Currently predicting instance 0\n",
      "Currently predicting instance 1000\n",
      "Currently predicting instance 2000\n",
      "Currently predicting instance 3000\n",
      "Currently predicting instance 4000\n",
      "Currently predicting instance 5000\n",
      "Currently predicting instance 6000\n",
      "Currently predicting instance 7000\n",
      "testing hyperparameter: alpha = 7\n",
      "Fold 1: \n",
      "Currently predicting instance 0\n",
      "Currently predicting instance 1000\n",
      "Currently predicting instance 2000\n",
      "\n",
      "Fold 2: \n",
      "Currently predicting instance 0\n",
      "Currently predicting instance 1000\n",
      "Currently predicting instance 2000\n",
      "\n",
      "Fold 3: \n",
      "Currently predicting instance 0\n",
      "Currently predicting instance 1000\n",
      "Currently predicting instance 2000\n",
      "\n",
      "Fold 4: \n",
      "Currently predicting instance 0\n",
      "Currently predicting instance 1000\n",
      "Currently predicting instance 2000\n",
      "\n",
      "Fold 5: \n",
      "Currently predicting instance 0\n",
      "Currently predicting instance 1000\n",
      "Currently predicting instance 2000\n",
      "\n",
      "Currently predicting instance 0\n",
      "Currently predicting instance 1000\n",
      "Currently predicting instance 2000\n",
      "Currently predicting instance 3000\n",
      "Currently predicting instance 4000\n",
      "Currently predicting instance 5000\n",
      "Currently predicting instance 6000\n",
      "Currently predicting instance 7000\n",
      "testing hyperparameter: alpha = 8\n",
      "Fold 1: \n",
      "Currently predicting instance 0\n",
      "Currently predicting instance 1000\n",
      "Currently predicting instance 2000\n",
      "\n",
      "Fold 2: \n",
      "Currently predicting instance 0\n",
      "Currently predicting instance 1000\n",
      "Currently predicting instance 2000\n",
      "\n",
      "Fold 3: \n",
      "Currently predicting instance 0\n",
      "Currently predicting instance 1000\n",
      "Currently predicting instance 2000\n",
      "\n",
      "Fold 4: \n",
      "Currently predicting instance 0\n",
      "Currently predicting instance 1000\n",
      "Currently predicting instance 2000\n",
      "\n",
      "Fold 5: \n",
      "Currently predicting instance 0\n",
      "Currently predicting instance 1000\n",
      "Currently predicting instance 2000\n",
      "\n",
      "Currently predicting instance 0\n",
      "Currently predicting instance 1000\n",
      "Currently predicting instance 2000\n",
      "Currently predicting instance 3000\n",
      "Currently predicting instance 4000\n",
      "Currently predicting instance 5000\n",
      "Currently predicting instance 6000\n",
      "Currently predicting instance 7000\n",
      "testing hyperparameter: alpha = 9\n",
      "Fold 1: \n",
      "Currently predicting instance 0\n",
      "Currently predicting instance 1000\n",
      "Currently predicting instance 2000\n",
      "\n",
      "Fold 2: \n",
      "Currently predicting instance 0\n",
      "Currently predicting instance 1000\n",
      "Currently predicting instance 2000\n",
      "\n",
      "Fold 3: \n",
      "Currently predicting instance 0\n",
      "Currently predicting instance 1000\n",
      "Currently predicting instance 2000\n",
      "\n",
      "Fold 4: \n",
      "Currently predicting instance 0\n",
      "Currently predicting instance 1000\n"
     ]
    },
    {
     "name": "stdout",
     "output_type": "stream",
     "text": [
      "Currently predicting instance 2000\n",
      "\n",
      "Fold 5: \n",
      "Currently predicting instance 0\n",
      "Currently predicting instance 1000\n",
      "Currently predicting instance 2000\n",
      "\n",
      "Currently predicting instance 0\n",
      "Currently predicting instance 1000\n",
      "Currently predicting instance 2000\n",
      "Currently predicting instance 3000\n",
      "Currently predicting instance 4000\n",
      "Currently predicting instance 5000\n",
      "Currently predicting instance 6000\n",
      "Currently predicting instance 7000\n"
     ]
    }
   ],
   "source": [
    "# run on version 4\n",
    "\n",
    "x = twenty_train_v4.toarray()\n",
    "model_cv_twenty_v4 = MultinomialNaiveBayes()\n",
    "a,b = cross_validation_split(x,5)\n",
    "average_twenty_v4=[]\n",
    "predict_acc_v4=[]\n",
    "for i in range(10): \n",
    "    print(f\"testing hyperparameter: alpha = {i}\")\n",
    "    #Execute k fold validation \n",
    "    average_twenty_v4.append(kfoldCV(x, labels_train_twenty, a, b, model_cv_twenty_v4 ,i));\n",
    "    \n",
    "    #On each fold, use the hyperparameter to make actual prediction on the test set\n",
    "    model_cv_twenty_v4_pred = MultinomialNaiveBayes()\n",
    "    model_cv_twenty_v4_pred.fit(twenty_train_v4.toarray(), labels_train_twenty, i)\n",
    "    y_prob = model_cv_twenty_v4_pred.predict(twenty_test_v4.toarray())\n",
    "    y_pred = np.argmax(y_prob, axis = 1)\n",
    "    accuracy = evaluate_acc(y = labels_test_twenty, y_hat = y_pred)\n",
    "    predict_acc_v4.append(accuracy)"
   ]
  },
  {
   "cell_type": "code",
   "execution_count": 62,
   "metadata": {
    "scrolled": true
   },
   "outputs": [
    {
     "data": {
      "image/png": "[encoded data removed]",
      "text/plain": [
       "<Figure size 432x288 with 1 Axes>"
      ]
     },
     "metadata": {
      "needs_background": "light"
     },
     "output_type": "display_data"
    }
   ],
   "source": [
    "K_list = range(10)\n",
    "plt.plot(K_list, average_twenty_v4,  label='validation')\n",
    "plt.plot(K_list, predict_acc_v4, label = 'test')\n",
    "#plt.errorbar(K_list, np.mean(average, axis=1), np.std(average, axis=1), label='validation')\n",
    "plt.legend()\n",
    "plt.xlabel('hyperparameter')\n",
    "plt.ylabel('validation accuracy')\n",
    "plt.title('Twenty News Group Version 4')\n",
    "plt.show()"
   ]
  },
  {
   "cell_type": "code",
   "execution_count": 92,
   "metadata": {},
   "outputs": [
    {
     "name": "stdout",
     "output_type": "stream",
     "text": [
      "testing hyperparameter: alpha = 0\n",
      "Fold 1: \n",
      "Currently predicting instance 0\n"
     ]
    },
    {
     "name": "stderr",
     "output_type": "stream",
     "text": [
      "<ipython-input-44-9adc327daa20>:55: RuntimeWarning: divide by zero encountered in log\n",
      "  log_prob[c] = np.sum(np.log(exist))+np.sum(np.log(1-notExist))\n",
      "<ipython-input-44-9adc327daa20>:26: RuntimeWarning: invalid value encountered in subtract\n",
      "  log_sum_exp = Zmax + np.log(np.sum(np.exp(Z - Zmax), axis=0))\n"
     ]
    },
    {
     "name": "stdout",
     "output_type": "stream",
     "text": [
      "Currently predicting instance 1000\n",
      "Currently predicting instance 2000\n",
      "\n",
      "Fold 2: \n",
      "Currently predicting instance 0\n",
      "Currently predicting instance 1000\n",
      "Currently predicting instance 2000\n",
      "\n",
      "Fold 3: \n",
      "Currently predicting instance 0\n",
      "Currently predicting instance 1000\n",
      "Currently predicting instance 2000\n",
      "\n",
      "Fold 4: \n",
      "Currently predicting instance 0\n",
      "Currently predicting instance 1000\n",
      "Currently predicting instance 2000\n",
      "\n",
      "Fold 5: \n",
      "Currently predicting instance 0\n",
      "Currently predicting instance 1000\n",
      "Currently predicting instance 2000\n",
      "\n",
      "Currently predicting instance 0\n",
      "Currently predicting instance 1000\n",
      "Currently predicting instance 2000\n",
      "Currently predicting instance 3000\n",
      "Currently predicting instance 4000\n",
      "Currently predicting instance 5000\n",
      "Currently predicting instance 6000\n",
      "Currently predicting instance 7000\n",
      "testing hyperparameter: alpha = 1\n",
      "Fold 1: \n",
      "Currently predicting instance 0\n",
      "Currently predicting instance 1000\n",
      "Currently predicting instance 2000\n",
      "\n",
      "Fold 2: \n",
      "Currently predicting instance 0\n",
      "Currently predicting instance 1000\n",
      "Currently predicting instance 2000\n",
      "\n",
      "Fold 3: \n",
      "Currently predicting instance 0\n",
      "Currently predicting instance 1000\n",
      "Currently predicting instance 2000\n",
      "\n",
      "Fold 4: \n",
      "Currently predicting instance 0\n",
      "Currently predicting instance 1000\n",
      "Currently predicting instance 2000\n",
      "\n",
      "Fold 5: \n",
      "Currently predicting instance 0\n",
      "Currently predicting instance 1000\n",
      "Currently predicting instance 2000\n",
      "\n",
      "Currently predicting instance 0\n",
      "Currently predicting instance 1000\n",
      "Currently predicting instance 2000\n",
      "Currently predicting instance 3000\n",
      "Currently predicting instance 4000\n",
      "Currently predicting instance 5000\n",
      "Currently predicting instance 6000\n",
      "Currently predicting instance 7000\n",
      "testing hyperparameter: alpha = 2\n",
      "Fold 1: \n",
      "Currently predicting instance 0\n",
      "Currently predicting instance 1000\n",
      "Currently predicting instance 2000\n",
      "\n",
      "Fold 2: \n",
      "Currently predicting instance 0\n",
      "Currently predicting instance 1000\n",
      "Currently predicting instance 2000\n",
      "\n",
      "Fold 3: \n",
      "Currently predicting instance 0\n",
      "Currently predicting instance 1000\n",
      "Currently predicting instance 2000\n",
      "\n",
      "Fold 4: \n",
      "Currently predicting instance 0\n",
      "Currently predicting instance 1000\n",
      "Currently predicting instance 2000\n",
      "\n",
      "Fold 5: \n",
      "Currently predicting instance 0\n",
      "Currently predicting instance 1000\n",
      "Currently predicting instance 2000\n",
      "\n",
      "Currently predicting instance 0\n",
      "Currently predicting instance 1000\n",
      "Currently predicting instance 2000\n",
      "Currently predicting instance 3000\n",
      "Currently predicting instance 4000\n",
      "Currently predicting instance 5000\n",
      "Currently predicting instance 6000\n",
      "Currently predicting instance 7000\n",
      "testing hyperparameter: alpha = 3\n",
      "Fold 1: \n",
      "Currently predicting instance 0\n",
      "Currently predicting instance 1000\n",
      "Currently predicting instance 2000\n",
      "\n",
      "Fold 2: \n",
      "Currently predicting instance 0\n",
      "Currently predicting instance 1000\n",
      "Currently predicting instance 2000\n",
      "\n",
      "Fold 3: \n",
      "Currently predicting instance 0\n",
      "Currently predicting instance 1000\n",
      "Currently predicting instance 2000\n",
      "\n",
      "Fold 4: \n",
      "Currently predicting instance 0\n",
      "Currently predicting instance 1000\n",
      "Currently predicting instance 2000\n",
      "\n",
      "Fold 5: \n",
      "Currently predicting instance 0\n",
      "Currently predicting instance 1000\n",
      "Currently predicting instance 2000\n",
      "\n",
      "Currently predicting instance 0\n",
      "Currently predicting instance 1000\n",
      "Currently predicting instance 2000\n",
      "Currently predicting instance 3000\n",
      "Currently predicting instance 4000\n",
      "Currently predicting instance 5000\n",
      "Currently predicting instance 6000\n",
      "Currently predicting instance 7000\n",
      "testing hyperparameter: alpha = 4\n",
      "Fold 1: \n",
      "Currently predicting instance 0\n",
      "Currently predicting instance 1000\n",
      "Currently predicting instance 2000\n",
      "\n",
      "Fold 2: \n",
      "Currently predicting instance 0\n",
      "Currently predicting instance 1000\n",
      "Currently predicting instance 2000\n",
      "\n",
      "Fold 3: \n",
      "Currently predicting instance 0\n",
      "Currently predicting instance 1000\n",
      "Currently predicting instance 2000\n",
      "\n",
      "Fold 4: \n",
      "Currently predicting instance 0\n",
      "Currently predicting instance 1000\n",
      "Currently predicting instance 2000\n",
      "\n",
      "Fold 5: \n",
      "Currently predicting instance 0\n",
      "Currently predicting instance 1000\n",
      "Currently predicting instance 2000\n",
      "\n",
      "Currently predicting instance 0\n",
      "Currently predicting instance 1000\n",
      "Currently predicting instance 2000\n",
      "Currently predicting instance 3000\n",
      "Currently predicting instance 4000\n",
      "Currently predicting instance 5000\n",
      "Currently predicting instance 6000\n",
      "Currently predicting instance 7000\n",
      "testing hyperparameter: alpha = 5\n",
      "Fold 1: \n",
      "Currently predicting instance 0\n",
      "Currently predicting instance 1000\n",
      "Currently predicting instance 2000\n",
      "\n",
      "Fold 2: \n",
      "Currently predicting instance 0\n",
      "Currently predicting instance 1000\n",
      "Currently predicting instance 2000\n",
      "\n",
      "Fold 3: \n",
      "Currently predicting instance 0\n",
      "Currently predicting instance 1000\n",
      "Currently predicting instance 2000\n",
      "\n",
      "Fold 4: \n",
      "Currently predicting instance 0\n",
      "Currently predicting instance 1000\n",
      "Currently predicting instance 2000\n",
      "\n",
      "Fold 5: \n",
      "Currently predicting instance 0\n",
      "Currently predicting instance 1000\n",
      "Currently predicting instance 2000\n",
      "\n",
      "Currently predicting instance 0\n",
      "Currently predicting instance 1000\n",
      "Currently predicting instance 2000\n",
      "Currently predicting instance 3000\n",
      "Currently predicting instance 4000\n",
      "Currently predicting instance 5000\n",
      "Currently predicting instance 6000\n",
      "Currently predicting instance 7000\n",
      "testing hyperparameter: alpha = 6\n",
      "Fold 1: \n",
      "Currently predicting instance 0\n",
      "Currently predicting instance 1000\n",
      "Currently predicting instance 2000\n",
      "\n",
      "Fold 2: \n",
      "Currently predicting instance 0\n",
      "Currently predicting instance 1000\n",
      "Currently predicting instance 2000\n",
      "\n",
      "Fold 3: \n",
      "Currently predicting instance 0\n",
      "Currently predicting instance 1000\n",
      "Currently predicting instance 2000\n",
      "\n",
      "Fold 4: \n",
      "Currently predicting instance 0\n",
      "Currently predicting instance 1000\n",
      "Currently predicting instance 2000\n",
      "\n",
      "Fold 5: \n",
      "Currently predicting instance 0\n",
      "Currently predicting instance 1000\n",
      "Currently predicting instance 2000\n",
      "\n",
      "Currently predicting instance 0\n",
      "Currently predicting instance 1000\n",
      "Currently predicting instance 2000\n",
      "Currently predicting instance 3000\n",
      "Currently predicting instance 4000\n",
      "Currently predicting instance 5000\n",
      "Currently predicting instance 6000\n",
      "Currently predicting instance 7000\n",
      "testing hyperparameter: alpha = 7\n",
      "Fold 1: \n",
      "Currently predicting instance 0\n",
      "Currently predicting instance 1000\n",
      "Currently predicting instance 2000\n",
      "\n",
      "Fold 2: \n",
      "Currently predicting instance 0\n",
      "Currently predicting instance 1000\n",
      "Currently predicting instance 2000\n",
      "\n",
      "Fold 3: \n",
      "Currently predicting instance 0\n",
      "Currently predicting instance 1000\n",
      "Currently predicting instance 2000\n",
      "\n",
      "Fold 4: \n",
      "Currently predicting instance 0\n",
      "Currently predicting instance 1000\n",
      "Currently predicting instance 2000\n",
      "\n",
      "Fold 5: \n",
      "Currently predicting instance 0\n",
      "Currently predicting instance 1000\n",
      "Currently predicting instance 2000\n",
      "\n",
      "Currently predicting instance 0\n",
      "Currently predicting instance 1000\n",
      "Currently predicting instance 2000\n",
      "Currently predicting instance 3000\n",
      "Currently predicting instance 4000\n",
      "Currently predicting instance 5000\n",
      "Currently predicting instance 6000\n",
      "Currently predicting instance 7000\n",
      "testing hyperparameter: alpha = 8\n",
      "Fold 1: \n",
      "Currently predicting instance 0\n",
      "Currently predicting instance 1000\n",
      "Currently predicting instance 2000\n",
      "\n",
      "Fold 2: \n",
      "Currently predicting instance 0\n",
      "Currently predicting instance 1000\n",
      "Currently predicting instance 2000\n",
      "\n",
      "Fold 3: \n",
      "Currently predicting instance 0\n",
      "Currently predicting instance 1000\n",
      "Currently predicting instance 2000\n",
      "\n",
      "Fold 4: \n",
      "Currently predicting instance 0\n",
      "Currently predicting instance 1000\n",
      "Currently predicting instance 2000\n",
      "\n",
      "Fold 5: \n",
      "Currently predicting instance 0\n",
      "Currently predicting instance 1000\n",
      "Currently predicting instance 2000\n",
      "\n",
      "Currently predicting instance 0\n",
      "Currently predicting instance 1000\n",
      "Currently predicting instance 2000\n",
      "Currently predicting instance 3000\n",
      "Currently predicting instance 4000\n",
      "Currently predicting instance 5000\n",
      "Currently predicting instance 6000\n",
      "Currently predicting instance 7000\n",
      "testing hyperparameter: alpha = 9\n",
      "Fold 1: \n",
      "Currently predicting instance 0\n",
      "Currently predicting instance 1000\n",
      "Currently predicting instance 2000\n",
      "\n",
      "Fold 2: \n",
      "Currently predicting instance 0\n",
      "Currently predicting instance 1000\n",
      "Currently predicting instance 2000\n",
      "\n",
      "Fold 3: \n",
      "Currently predicting instance 0\n",
      "Currently predicting instance 1000\n",
      "Currently predicting instance 2000\n",
      "\n",
      "Fold 4: \n",
      "Currently predicting instance 0\n",
      "Currently predicting instance 1000\n"
     ]
    },
    {
     "name": "stdout",
     "output_type": "stream",
     "text": [
      "Currently predicting instance 2000\n",
      "\n",
      "Fold 5: \n",
      "Currently predicting instance 0\n",
      "Currently predicting instance 1000\n",
      "Currently predicting instance 2000\n",
      "\n",
      "Currently predicting instance 0\n",
      "Currently predicting instance 1000\n",
      "Currently predicting instance 2000\n",
      "Currently predicting instance 3000\n",
      "Currently predicting instance 4000\n",
      "Currently predicting instance 5000\n",
      "Currently predicting instance 6000\n",
      "Currently predicting instance 7000\n"
     ]
    }
   ],
   "source": [
    "# run on version 5\n",
    "x = twenty_train_v5.toarray()\n",
    "model_cv_twenty_v5 = MultinomialNaiveBayes()\n",
    "a,b = cross_validation_split(x,5)\n",
    "average_twenty_v5=[]\n",
    "predict_acc_v5=[]\n",
    "for i in range(10): \n",
    "    print(f\"testing hyperparameter: alpha = {i}\")\n",
    "    #Execute k fold validation \n",
    "    average_twenty_v5.append(kfoldCV2(x, labels_train_twenty, a, b, model_cv_twenty_v5 ,i));\n",
    "    \n",
    "    #On each fold, use the hyperparameter to make actual prediction on the test set\n",
    "    model_cv_twenty_v5_pred = MultinomialNaiveBayes()\n",
    "    model_cv_twenty_v5_pred.fit(twenty_train_v5.toarray(), labels_train_twenty, i)\n",
    "    y_prob = model_cv_twenty_v5_pred.predict(twenty_test_v5.toarray())\n",
    "    y_pred = np.argmax(y_prob, axis = 1)\n",
    "    accuracy = evaluate_acc(y = labels_test_twenty, y_hat = y_pred)\n",
    "    predict_acc_v5.append(accuracy)"
   ]
  },
  {
   "cell_type": "code",
   "execution_count": 107,
   "metadata": {},
   "outputs": [
    {
     "name": "stdout",
     "output_type": "stream",
     "text": [
      "[array([0.24756852, 0.24358974, 0.26436782, 0.26613616, 0.25862069]), array([0.62953139, 0.63262599, 0.63129973, 0.65428824, 0.62422635]), array([0.59416446, 0.5862069 , 0.59637489, 0.60831123, 0.57780725]), array([0.54818744, 0.54420866, 0.55835544, 0.57161804, 0.53846154]), array([0.51503095, 0.49823165, 0.52166225, 0.53536693, 0.50353669]), array([0.48938992, 0.46816976, 0.49160035, 0.50044209, 0.48408488]), array([0.46507515, 0.44297082, 0.46330681, 0.47391689, 0.46153846]), array([0.44341291, 0.4204244 , 0.44164456, 0.44827586, 0.43943413]), array([0.42617153, 0.40583554, 0.42440318, 0.41909814, 0.42351901]), array([0.41114058, 0.38992042, 0.40848806, 0.40008842, 0.41202476])]\n",
      "<class 'numpy.ndarray'>\n",
      "[[0.24756852 0.24358974 0.26436782 0.26613616 0.25862069]\n",
      " [0.62953139 0.63262599 0.63129973 0.65428824 0.62422635]\n",
      " [0.59416446 0.5862069  0.59637489 0.60831123 0.57780725]\n",
      " [0.54818744 0.54420866 0.55835544 0.57161804 0.53846154]\n",
      " [0.51503095 0.49823165 0.52166225 0.53536693 0.50353669]\n",
      " [0.48938992 0.46816976 0.49160035 0.50044209 0.48408488]\n",
      " [0.46507515 0.44297082 0.46330681 0.47391689 0.46153846]\n",
      " [0.44341291 0.4204244  0.44164456 0.44827586 0.43943413]\n",
      " [0.42617153 0.40583554 0.42440318 0.41909814 0.42351901]\n",
      " [0.41114058 0.38992042 0.40848806 0.40008842 0.41202476]]\n"
     ]
    }
   ],
   "source": [
    "print(average_twenty_v5)\n",
    "print(type(average_twenty_v5[0]))\n",
    "average_twenty_v5_matrix = np.zeros((10,5))\n",
    "for i in range(len(average_twenty_v5)):\n",
    "    average_twenty_v5_matrix[i] = average_twenty_v5[i]"
   ]
  },
  {
   "cell_type": "code",
   "execution_count": 128,
   "metadata": {},
   "outputs": [
    {
     "data": {
      "image/png": "[encoded data removed]",
      "text/plain": [
       "<Figure size 432x288 with 1 Axes>"
      ]
     },
     "metadata": {
      "needs_background": "light"
     },
     "output_type": "display_data"
    }
   ],
   "source": [
    "K_list = range(10)\n",
    "plt.errorbar(K_list, np.mean(average_twenty_v5_matrix, axis=1), np.std(average_twenty_v5_matrix, axis=1), label='validation')\n",
    "plt.plot(K_list, predict_acc_v5, label = 'test')\n",
    "#plt.errorbar(K_list, np.mean(average, axis=1), np.std(average, axis=1), label='validation')\n",
    "plt.legend()\n",
    "plt.xlabel('hyperparameter')\n",
    "plt.ylabel('Accuracy')\n",
    "plt.title('Twenty News Group Version 5')\n",
    "plt.grid(color='gray', linestyle='--', linewidth=0.5)\n",
    "plt.savefig('20_News_Group_v5')\n",
    "plt.show()"
   ]
  },
  {
   "cell_type": "code",
   "execution_count": null,
   "metadata": {},
   "outputs": [],
   "source": []
  },
  {
   "cell_type": "markdown",
   "metadata": {},
   "source": [
    "### Create table that contains the accuracys for each model"
   ]
  },
  {
   "cell_type": "markdown",
   "metadata": {},
   "source": [
    "Preprocessing is important in terms of text input, here we will apply cross validation with the best hyperparameter found to five models. Each model was created using different preprocessing techniques, and we will do it for both IMDB and 20NewsGroups datasets."
   ]
  },
  {
   "cell_type": "code",
   "execution_count": 83,
   "metadata": {},
   "outputs": [
    {
     "name": "stdout",
     "output_type": "stream",
     "text": [
      "Fold 1: \n",
      "Currently predicting instance 0\n",
      "Currently predicting instance 1000\n",
      "Currently predicting instance 2000\n",
      "\n",
      "Fold 2: \n",
      "Currently predicting instance 0\n",
      "Currently predicting instance 1000\n",
      "Currently predicting instance 2000\n",
      "\n",
      "Fold 3: \n",
      "Currently predicting instance 0\n",
      "Currently predicting instance 1000\n",
      "Currently predicting instance 2000\n",
      "\n",
      "Fold 4: \n",
      "Currently predicting instance 0\n",
      "Currently predicting instance 1000\n",
      "Currently predicting instance 2000\n",
      "\n",
      "Fold 5: \n",
      "Currently predicting instance 0\n",
      "Currently predicting instance 1000\n",
      "Currently predicting instance 2000\n",
      "\n",
      "[0.60963749 0.6127321  0.61317418 0.63660477 0.6127321 ]\n"
     ]
    }
   ],
   "source": [
    "# 20NesGroup version 1 array \n",
    "x = twenty_train_v1.toarray()\n",
    "model_cv_twenty_v1 = MultinomialNaiveBayes()\n",
    "a,b = cross_validation_split(x,5)\n",
    "validation_twenty_v1 = np.empty((0,5))\n",
    "#Execute k fold validation \n",
    "validation_twenty_v1 = np.append(validation_twenty_v1, kfoldCV2(x, labels_train_twenty, a, b, model_cv_twenty_v1 ,1))\n",
    "\n",
    "print(validation_twenty_v1)\n",
    "print(\"accuracy of 20NewsGroups version 1: \"+ str(np.sum(validation_twenty_v1)/validation_twenty_v1.shape[0]))"
   ]
  },
  {
   "cell_type": "code",
   "execution_count": 136,
   "metadata": {},
   "outputs": [
    {
     "name": "stdout",
     "output_type": "stream",
     "text": [
      "accuracy of 20NewsGroups version 1: 0.6169761273209549\n"
     ]
    }
   ],
   "source": [
    "print(\"accuracy of 20NewsGroups version 1: \"+ str(np.sum(validation_twenty_v1)/validation_twenty_v1.shape[0]))"
   ]
  },
  {
   "cell_type": "code",
   "execution_count": 82,
   "metadata": {},
   "outputs": [
    {
     "name": "stdout",
     "output_type": "stream",
     "text": [
      "Fold 1: \n",
      "Currently predicting instance 0\n",
      "Currently predicting instance 1000\n",
      "Currently predicting instance 2000\n",
      "\n",
      "Fold 2: \n",
      "Currently predicting instance 0\n",
      "Currently predicting instance 1000\n",
      "Currently predicting instance 2000\n",
      "\n",
      "Fold 3: \n",
      "Currently predicting instance 0\n",
      "Currently predicting instance 1000\n",
      "Currently predicting instance 2000\n",
      "\n",
      "Fold 4: \n",
      "Currently predicting instance 0\n",
      "Currently predicting instance 1000\n",
      "Currently predicting instance 2000\n",
      "\n",
      "Fold 5: \n",
      "Currently predicting instance 0\n",
      "Currently predicting instance 1000\n",
      "Currently predicting instance 2000\n",
      "\n",
      "[0.62422635 0.63218391 0.63041556 0.64146773 0.62820513]\n"
     ]
    }
   ],
   "source": [
    "# 20NesGroup version 2 array \n",
    "x = twenty_train_v2.toarray()\n",
    "model_cv_twenty_v2 = MultinomialNaiveBayes()\n",
    "a,b = cross_validation_split(x,5)\n",
    "validation_twenty_v2 = np.empty((0,5))\n",
    "#Execute k fold validation \n",
    "validation_twenty_v2 = np.append(validation_twenty_v2, kfoldCV2(x, labels_train_twenty, a, b, model_cv_twenty_v2 ,1))\n",
    "\n",
    "print(validation_twenty_v2)\n",
    "print(\"accuracy of 20NewsGroups version 2: \"+ str(np.sum(validation_twenty_v2)/validation_twenty_v2.shape[0]))"
   ]
  },
  {
   "cell_type": "code",
   "execution_count": 137,
   "metadata": {},
   "outputs": [
    {
     "name": "stdout",
     "output_type": "stream",
     "text": [
      "accuracy of 20NewsGroups version 2: 0.6312997347480106\n"
     ]
    }
   ],
   "source": [
    "print(\"accuracy of 20NewsGroups version 2: \"+ str(np.sum(validation_twenty_v2)/validation_twenty_v2.shape[0]))"
   ]
  },
  {
   "cell_type": "code",
   "execution_count": 81,
   "metadata": {
    "scrolled": true
   },
   "outputs": [
    {
     "name": "stdout",
     "output_type": "stream",
     "text": [
      "Fold 1: \n",
      "Currently predicting instance 0\n",
      "Currently predicting instance 1000\n",
      "Currently predicting instance 2000\n",
      "\n",
      "Fold 2: \n",
      "Currently predicting instance 0\n",
      "Currently predicting instance 1000\n",
      "Currently predicting instance 2000\n",
      "\n",
      "Fold 3: \n",
      "Currently predicting instance 0\n",
      "Currently predicting instance 1000\n",
      "Currently predicting instance 2000\n",
      "\n",
      "Fold 4: \n",
      "Currently predicting instance 0\n",
      "Currently predicting instance 1000\n",
      "Currently predicting instance 2000\n",
      "\n",
      "Fold 5: \n",
      "Currently predicting instance 0\n",
      "Currently predicting instance 1000\n",
      "Currently predicting instance 2000\n",
      "\n",
      "[0.61052166 0.61803714 0.61229001 0.63351017 0.61803714]\n"
     ]
    }
   ],
   "source": [
    "# 20NesGroup version 3 array \n",
    "x = twenty_train_v3.toarray()\n",
    "model_cv_twenty_v3 = MultinomialNaiveBayes()\n",
    "a,b = cross_validation_split(x,5)\n",
    "validation_twenty_v3 = np.empty((0,5))\n",
    "#Execute k fold validation \n",
    "validation_twenty_v3 = np.append(validation_twenty_v3, kfoldCV2(x, labels_train_twenty, a, b, model_cv_twenty_v3 ,1))\n",
    "\n",
    "print(validation_twenty_v3)\n",
    "print(\"accuracy of 20NewsGroups version 3: \"+ str(np.sum(validation_twenty_v3)/validation_twenty_v3.shape[0]))"
   ]
  },
  {
   "cell_type": "code",
   "execution_count": 138,
   "metadata": {},
   "outputs": [
    {
     "name": "stdout",
     "output_type": "stream",
     "text": [
      "accuracy of 20NewsGroups version 3: 0.6184792219274977\n"
     ]
    }
   ],
   "source": [
    "print(\"accuracy of 20NewsGroups version 3: \"+ str(np.sum(validation_twenty_v3)/validation_twenty_v3.shape[0]))"
   ]
  },
  {
   "cell_type": "code",
   "execution_count": 80,
   "metadata": {
    "id": "qlvK3M11vYUj"
   },
   "outputs": [
    {
     "name": "stdout",
     "output_type": "stream",
     "text": [
      "Fold 1: \n",
      "Currently predicting instance 0\n",
      "Currently predicting instance 1000\n",
      "Currently predicting instance 2000\n",
      "\n",
      "Fold 2: \n",
      "Currently predicting instance 0\n",
      "Currently predicting instance 1000\n",
      "Currently predicting instance 2000\n",
      "\n",
      "Fold 3: \n",
      "Currently predicting instance 0\n",
      "Currently predicting instance 1000\n",
      "Currently predicting instance 2000\n",
      "\n",
      "Fold 4: \n",
      "Currently predicting instance 0\n",
      "Currently predicting instance 1000\n",
      "Currently predicting instance 2000\n",
      "\n",
      "Fold 5: \n",
      "Currently predicting instance 0\n",
      "Currently predicting instance 1000\n",
      "Currently predicting instance 2000\n",
      "\n",
      "[0.61494253 0.61803714 0.62290009 0.64190981 0.62334218]\n"
     ]
    }
   ],
   "source": [
    "# 20NewsGroup version 4 array \n",
    "x = twenty_train_v4.toarray()\n",
    "model_cv_twenty_v4 = MultinomialNaiveBayes()\n",
    "a,b = cross_validation_split(x,5)\n",
    "validation_twenty_v4 = np.empty((0,5))\n",
    "#Execute k fold validation \n",
    "validation_twenty_v4 = np.append(validation_twenty_v4, kfoldCV2(x, labels_train_twenty, a, b, model_cv_twenty_v4 ,1))\n",
    "\n",
    "print(validation_twenty_v4)\n",
    "print(\"accuracy of 20NewsGroups version 4: \"+ str(np.sum(validation_twenty_v4)/validation_twenty_v4.shape[0]))"
   ]
  },
  {
   "cell_type": "code",
   "execution_count": 139,
   "metadata": {},
   "outputs": [
    {
     "name": "stdout",
     "output_type": "stream",
     "text": [
      "accuracy of 20NewsGroups version 4: 0.6242263483642794\n"
     ]
    }
   ],
   "source": [
    "print(\"accuracy of 20NewsGroups version 4: \"+ str(np.sum(validation_twenty_v4)/validation_twenty_v4.shape[0]))"
   ]
  },
  {
   "cell_type": "code",
   "execution_count": 84,
   "metadata": {},
   "outputs": [
    {
     "name": "stdout",
     "output_type": "stream",
     "text": [
      "Fold 1: \n",
      "Currently predicting instance 0\n",
      "Currently predicting instance 1000\n",
      "Currently predicting instance 2000\n",
      "\n",
      "Fold 2: \n",
      "Currently predicting instance 0\n",
      "Currently predicting instance 1000\n",
      "Currently predicting instance 2000\n",
      "\n",
      "Fold 3: \n",
      "Currently predicting instance 0\n",
      "Currently predicting instance 1000\n",
      "Currently predicting instance 2000\n",
      "\n",
      "Fold 4: \n",
      "Currently predicting instance 0\n",
      "Currently predicting instance 1000\n",
      "Currently predicting instance 2000\n",
      "\n",
      "Fold 5: \n",
      "Currently predicting instance 0\n",
      "Currently predicting instance 1000\n",
      "Currently predicting instance 2000\n",
      "\n",
      "[0.62953139 0.63262599 0.63129973 0.65428824 0.62422635]\n"
     ]
    }
   ],
   "source": [
    "# 20NesGroup version 5 array \n",
    "x = twenty_train_v5.toarray()\n",
    "model_cv_twenty_v5 = MultinomialNaiveBayes()\n",
    "a,b = cross_validation_split(x,5)\n",
    "validation_twenty_v5 = np.empty((0,5))\n",
    "#Execute k fold validation \n",
    "validation_twenty_v5 = np.append(validation_twenty_v5, kfoldCV2(x, labels_train_twenty, a, b, model_cv_twenty_v5 ,1))\n",
    "\n",
    "print(validation_twenty_v5)\n",
    "print(\"accuracy of 20NewsGroups version 5: \"+ str(np.sum(validation_twenty_v5)/validation_twenty_v5.shape[0]))"
   ]
  },
  {
   "cell_type": "code",
   "execution_count": 140,
   "metadata": {},
   "outputs": [
    {
     "name": "stdout",
     "output_type": "stream",
     "text": [
      "accuracy of 20NewsGroups version 5: 0.634394341290893\n"
     ]
    }
   ],
   "source": [
    "print(\"accuracy of 20NewsGroups version 5: \"+ str(np.sum(validation_twenty_v5)/validation_twenty_v5.shape[0]))"
   ]
  },
  {
   "cell_type": "markdown",
   "metadata": {},
   "source": [
    "##### Preprocessing versions 1-3 results in a matrix too large for the RAM in colab. Therefore, we only evaluate the matrix using version 4 and 5"
   ]
  },
  {
   "cell_type": "code",
   "execution_count": 133,
   "metadata": {},
   "outputs": [
    {
     "name": "stdout",
     "output_type": "stream",
     "text": [
      "Fold 1: \n",
      "Currently predicting instance 0\n",
      "Currently predicting instance 1000\n",
      "Currently predicting instance 2000\n",
      "Currently predicting instance 3000\n",
      "Currently predicting instance 4000\n",
      "\n",
      "Fold 2: \n",
      "Currently predicting instance 0\n",
      "Currently predicting instance 1000\n",
      "Currently predicting instance 2000\n",
      "Currently predicting instance 3000\n",
      "Currently predicting instance 4000\n",
      "\n",
      "Fold 3: \n",
      "Currently predicting instance 0\n",
      "Currently predicting instance 1000\n",
      "Currently predicting instance 2000\n",
      "Currently predicting instance 3000\n",
      "Currently predicting instance 4000\n",
      "\n",
      "Fold 4: \n",
      "Currently predicting instance 0\n",
      "Currently predicting instance 1000\n",
      "Currently predicting instance 2000\n",
      "Currently predicting instance 3000\n",
      "Currently predicting instance 4000\n",
      "\n",
      "Fold 5: \n",
      "Currently predicting instance 0\n",
      "Currently predicting instance 1000\n",
      "Currently predicting instance 2000\n",
      "Currently predicting instance 3000\n",
      "Currently predicting instance 4000\n",
      "\n",
      "[0.844  0.8412 0.856  0.8466 0.846 ]\n",
      "accuracy of imdb version 4: 0.84676\n"
     ]
    }
   ],
   "source": [
    "x = imdb_train_v4.toarray()\n",
    "model_cv_imdb_v4 = MultinomialNaiveBayes()\n",
    "a,b = cross_validation_split(x,5)\n",
    "validation_imdb_v4 = np.empty((0,5))\n",
    "#Execute k fold validation \n",
    "validation_imdb_v4 = np.append(validation_imdb_v4, kfoldCV2(x, labels_train_imdb, a, b, model_cv_imdb_v4 ,1))\n",
    "\n",
    "print(validation_imdb_v4)\n",
    "print(\"accuracy of imdb version 4: \"+ str(np.sum(validation_imdb_v4)/validation_imdb_v4.shape[0]))"
   ]
  },
  {
   "cell_type": "code",
   "execution_count": 134,
   "metadata": {},
   "outputs": [
    {
     "name": "stdout",
     "output_type": "stream",
     "text": [
      "Fold 1: \n",
      "Currently predicting instance 0\n",
      "Currently predicting instance 1000\n",
      "Currently predicting instance 2000\n",
      "Currently predicting instance 3000\n",
      "Currently predicting instance 4000\n",
      "\n",
      "Fold 2: \n",
      "Currently predicting instance 0\n",
      "Currently predicting instance 1000\n",
      "Currently predicting instance 2000\n",
      "Currently predicting instance 3000\n",
      "Currently predicting instance 4000\n",
      "\n",
      "Fold 3: \n",
      "Currently predicting instance 0\n",
      "Currently predicting instance 1000\n",
      "Currently predicting instance 2000\n",
      "Currently predicting instance 3000\n",
      "Currently predicting instance 4000\n",
      "\n",
      "Fold 4: \n",
      "Currently predicting instance 0\n",
      "Currently predicting instance 1000\n",
      "Currently predicting instance 2000\n",
      "Currently predicting instance 3000\n",
      "Currently predicting instance 4000\n",
      "\n",
      "Fold 5: \n",
      "Currently predicting instance 0\n",
      "Currently predicting instance 1000\n",
      "Currently predicting instance 2000\n",
      "Currently predicting instance 3000\n",
      "Currently predicting instance 4000\n",
      "\n",
      "[0.85   0.8532 0.868  0.8572 0.8558]\n",
      "accuracy of imdb version 5: 0.85684\n"
     ]
    }
   ],
   "source": [
    "# IMDB version 5 array \n",
    "x = imdb_train_v5.toarray()\n",
    "model_cv_imdb_v5 = MultinomialNaiveBayes()\n",
    "a,b = cross_validation_split(x,5)\n",
    "validation_imdb_v5 = np.empty((0,5))\n",
    "#Execute k fold validation \n",
    "validation_imdb_v5 = np.append(validation_imdb_v5, kfoldCV2(x, labels_train_imdb, a, b, model_cv_imdb_v5 ,1))\n",
    "\n",
    "print(validation_imdb_v5)\n",
    "print(\"accuracy of imdb version 5: \"+ str(np.sum(validation_imdb_v5)/validation_imdb_v5.shape[0]))"
   ]
  },
  {
   "cell_type": "code",
   "execution_count": null,
   "metadata": {},
   "outputs": [],
   "source": [
    "K_list = range(10)\n",
    "plt.plot(K_list, validation_twenty_v5,  label='validation')\n",
    "plt.plot(K_list, validation_twenty_v5, label = 'test')\n",
    "#plt.errorbar(K_list, np.mean(average, axis=1), np.std(average, axis=1), label='validation')\n",
    "plt.legend()\n",
    "plt.xlabel('hyperparameter')\n",
    "plt.ylabel('validation accuracy')\n",
    "plt.title('Twenty News Group Version 4')\n",
    "plt.show()"
   ]
  },
  {
   "cell_type": "code",
   "execution_count": 87,
   "metadata": {},
   "outputs": [
    {
     "name": "stdout",
     "output_type": "stream",
     "text": [
      "(5,)\n",
      "0.634394341290893\n",
      "0.6312997347480106\n"
     ]
    }
   ],
   "source": [
    "print(validation_twenty_v5.shape)\n",
    "print(np.sum(validation_twenty_v5)/validation_twenty_v5.shape[0])"
   ]
  },
  {
   "cell_type": "code",
   "execution_count": 30,
   "metadata": {},
   "outputs": [
    {
     "ename": "MemoryError",
     "evalue": "Unable to allocate 8.57 GiB for an array with shape (11314, 101622) and data type int64",
     "output_type": "error",
     "traceback": [
      "\u001b[1;31m---------------------------------------------------------------------------\u001b[0m",
      "\u001b[1;31mMemoryError\u001b[0m                               Traceback (most recent call last)",
      "\u001b[1;32m<ipython-input-30-ec1f6df28fc8>\u001b[0m in \u001b[0;36m<module>\u001b[1;34m\u001b[0m\n\u001b[0;32m      1\u001b[0m \u001b[1;31m# 20NewsGroup dataset with Naive Bayes:\u001b[0m\u001b[1;33m\u001b[0m\u001b[1;33m\u001b[0m\u001b[1;33m\u001b[0m\u001b[0m\n\u001b[1;32m----> 2\u001b[1;33m \u001b[0mx\u001b[0m \u001b[1;33m=\u001b[0m \u001b[1;33m[\u001b[0m\u001b[0mtwenty_train_v1\u001b[0m\u001b[1;33m.\u001b[0m\u001b[0mtoarray\u001b[0m\u001b[1;33m(\u001b[0m\u001b[1;33m)\u001b[0m\u001b[1;33m,\u001b[0m \u001b[0mtwenty_train_v2\u001b[0m\u001b[1;33m.\u001b[0m\u001b[0mtoarray\u001b[0m\u001b[1;33m(\u001b[0m\u001b[1;33m)\u001b[0m\u001b[1;33m,\u001b[0m \u001b[0mtwenty_train_v3\u001b[0m\u001b[1;33m.\u001b[0m\u001b[0mtoarray\u001b[0m\u001b[1;33m(\u001b[0m\u001b[1;33m)\u001b[0m\u001b[1;33m,\u001b[0m \u001b[0mtwenty_train_v4\u001b[0m\u001b[1;33m.\u001b[0m\u001b[0mtoarray\u001b[0m\u001b[1;33m(\u001b[0m\u001b[1;33m)\u001b[0m\u001b[1;33m,\u001b[0m \u001b[0mtwenty_train_v5\u001b[0m\u001b[1;33m.\u001b[0m\u001b[0mtoarray\u001b[0m\u001b[1;33m(\u001b[0m\u001b[1;33m)\u001b[0m\u001b[1;33m]\u001b[0m\u001b[1;33m\u001b[0m\u001b[1;33m\u001b[0m\u001b[0m\n\u001b[0m\u001b[0;32m      3\u001b[0m \u001b[0mvalidation_twenty\u001b[0m \u001b[1;33m=\u001b[0m \u001b[0mnp\u001b[0m\u001b[1;33m.\u001b[0m\u001b[0mzeros\u001b[0m\u001b[1;33m(\u001b[0m\u001b[1;33m(\u001b[0m\u001b[1;36m5\u001b[0m\u001b[1;33m,\u001b[0m\u001b[1;36m5\u001b[0m\u001b[1;33m)\u001b[0m\u001b[1;33m)\u001b[0m\u001b[1;33m\u001b[0m\u001b[1;33m\u001b[0m\u001b[0m\n\u001b[0;32m      4\u001b[0m \u001b[1;32mfor\u001b[0m \u001b[0mi\u001b[0m \u001b[1;32min\u001b[0m \u001b[0mrange\u001b[0m\u001b[1;33m(\u001b[0m\u001b[0mlen\u001b[0m\u001b[1;33m(\u001b[0m\u001b[0mx\u001b[0m\u001b[1;33m)\u001b[0m\u001b[1;33m)\u001b[0m\u001b[1;33m:\u001b[0m\u001b[1;33m\u001b[0m\u001b[1;33m\u001b[0m\u001b[0m\n\u001b[0;32m      5\u001b[0m     \u001b[0mprint\u001b[0m\u001b[1;33m(\u001b[0m\u001b[1;34mf\"Processing model {i}:\"\u001b[0m\u001b[1;33m)\u001b[0m\u001b[1;33m\u001b[0m\u001b[1;33m\u001b[0m\u001b[0m\n",
      "\u001b[1;32m~\\anaconda3\\lib\\site-packages\\scipy\\sparse\\compressed.py\u001b[0m in \u001b[0;36mtoarray\u001b[1;34m(self, order, out)\u001b[0m\n\u001b[0;32m   1023\u001b[0m         \u001b[1;32mif\u001b[0m \u001b[0mout\u001b[0m \u001b[1;32mis\u001b[0m \u001b[1;32mNone\u001b[0m \u001b[1;32mand\u001b[0m \u001b[0morder\u001b[0m \u001b[1;32mis\u001b[0m \u001b[1;32mNone\u001b[0m\u001b[1;33m:\u001b[0m\u001b[1;33m\u001b[0m\u001b[1;33m\u001b[0m\u001b[0m\n\u001b[0;32m   1024\u001b[0m             \u001b[0morder\u001b[0m \u001b[1;33m=\u001b[0m \u001b[0mself\u001b[0m\u001b[1;33m.\u001b[0m\u001b[0m_swap\u001b[0m\u001b[1;33m(\u001b[0m\u001b[1;34m'cf'\u001b[0m\u001b[1;33m)\u001b[0m\u001b[1;33m[\u001b[0m\u001b[1;36m0\u001b[0m\u001b[1;33m]\u001b[0m\u001b[1;33m\u001b[0m\u001b[1;33m\u001b[0m\u001b[0m\n\u001b[1;32m-> 1025\u001b[1;33m         \u001b[0mout\u001b[0m \u001b[1;33m=\u001b[0m \u001b[0mself\u001b[0m\u001b[1;33m.\u001b[0m\u001b[0m_process_toarray_args\u001b[0m\u001b[1;33m(\u001b[0m\u001b[0morder\u001b[0m\u001b[1;33m,\u001b[0m \u001b[0mout\u001b[0m\u001b[1;33m)\u001b[0m\u001b[1;33m\u001b[0m\u001b[1;33m\u001b[0m\u001b[0m\n\u001b[0m\u001b[0;32m   1026\u001b[0m         \u001b[1;32mif\u001b[0m \u001b[1;32mnot\u001b[0m \u001b[1;33m(\u001b[0m\u001b[0mout\u001b[0m\u001b[1;33m.\u001b[0m\u001b[0mflags\u001b[0m\u001b[1;33m.\u001b[0m\u001b[0mc_contiguous\u001b[0m \u001b[1;32mor\u001b[0m \u001b[0mout\u001b[0m\u001b[1;33m.\u001b[0m\u001b[0mflags\u001b[0m\u001b[1;33m.\u001b[0m\u001b[0mf_contiguous\u001b[0m\u001b[1;33m)\u001b[0m\u001b[1;33m:\u001b[0m\u001b[1;33m\u001b[0m\u001b[1;33m\u001b[0m\u001b[0m\n\u001b[0;32m   1027\u001b[0m             \u001b[1;32mraise\u001b[0m \u001b[0mValueError\u001b[0m\u001b[1;33m(\u001b[0m\u001b[1;34m'Output array must be C or F contiguous'\u001b[0m\u001b[1;33m)\u001b[0m\u001b[1;33m\u001b[0m\u001b[1;33m\u001b[0m\u001b[0m\n",
      "\u001b[1;32m~\\anaconda3\\lib\\site-packages\\scipy\\sparse\\base.py\u001b[0m in \u001b[0;36m_process_toarray_args\u001b[1;34m(self, order, out)\u001b[0m\n\u001b[0;32m   1183\u001b[0m             \u001b[1;32mreturn\u001b[0m \u001b[0mout\u001b[0m\u001b[1;33m\u001b[0m\u001b[1;33m\u001b[0m\u001b[0m\n\u001b[0;32m   1184\u001b[0m         \u001b[1;32melse\u001b[0m\u001b[1;33m:\u001b[0m\u001b[1;33m\u001b[0m\u001b[1;33m\u001b[0m\u001b[0m\n\u001b[1;32m-> 1185\u001b[1;33m             \u001b[1;32mreturn\u001b[0m \u001b[0mnp\u001b[0m\u001b[1;33m.\u001b[0m\u001b[0mzeros\u001b[0m\u001b[1;33m(\u001b[0m\u001b[0mself\u001b[0m\u001b[1;33m.\u001b[0m\u001b[0mshape\u001b[0m\u001b[1;33m,\u001b[0m \u001b[0mdtype\u001b[0m\u001b[1;33m=\u001b[0m\u001b[0mself\u001b[0m\u001b[1;33m.\u001b[0m\u001b[0mdtype\u001b[0m\u001b[1;33m,\u001b[0m \u001b[0morder\u001b[0m\u001b[1;33m=\u001b[0m\u001b[0morder\u001b[0m\u001b[1;33m)\u001b[0m\u001b[1;33m\u001b[0m\u001b[1;33m\u001b[0m\u001b[0m\n\u001b[0m\u001b[0;32m   1186\u001b[0m \u001b[1;33m\u001b[0m\u001b[0m\n\u001b[0;32m   1187\u001b[0m \u001b[1;33m\u001b[0m\u001b[0m\n",
      "\u001b[1;31mMemoryError\u001b[0m: Unable to allocate 8.57 GiB for an array with shape (11314, 101622) and data type int64"
     ]
    }
   ],
   "source": [
    "# 20NewsGroup dataset with Naive Bayes:\n",
    "x = [twenty_train_v1.toarray(), twenty_train_v2.toarray(), twenty_train_v3.toarray(), twenty_train_v4.toarray(), twenty_train_v5.toarray()]\n",
    "validation_twenty = np.zeros((5,5))\n",
    "for i in range(len(x)):\n",
    "    print(f\"Processing model {i}:\")\n",
    "    print()\n",
    "    model_cv_twenty = MultinomialNaiveBayes()\n",
    "    a,b = cross_validation_split(x[i],5)\n",
    "    validation_twenty[i] = kfoldCV2(x[i],labels_train_twenty, a, b, model_cv_twenty, 1)\n",
    "    print(f\"Accuracy of 20NewsGroups version {i+1}\" + str(np.sum(validation_twenty[i])/5))"
   ]
  },
  {
   "cell_type": "markdown",
   "metadata": {},
   "source": [
    "### 20%, 40%, 60%, and 80% of training data to train"
   ]
  },
  {
   "cell_type": "markdown",
   "metadata": {},
   "source": [
    "Modify length of data and variables to perform fit the model"
   ]
  },
  {
   "cell_type": "code",
   "execution_count": 27,
   "metadata": {},
   "outputs": [],
   "source": [
    "datasize_20_train_twenty = twenty_train_v5[:round(0.2 * twenty_train_v5.shape[0])]\n",
    "label_20_train_twenty = labels_train_twenty[:round(0.2 * twenty_train_v5.shape[0])]\n",
    "\n",
    "datasize_40_train_twenty = twenty_train_v5[:round(0.4 * twenty_train_v5.shape[0])]\n",
    "label_40_train_twenty = labels_train_twenty[:round(0.4 * twenty_train_v5.shape[0])]\n",
    "\n",
    "datasize_60_train_twenty = twenty_train_v5[:round(0.6 * twenty_train_v5.shape[0])]\n",
    "label_60_train_twenty = labels_train_twenty[:round(0.6 * twenty_train_v5.shape[0])]\n",
    "\n",
    "datasize_80_train_twenty = twenty_train_v5[:round(0.8 * twenty_train_v5.shape[0])]\n",
    "label_80_train_twenty = labels_train_twenty[:round(0.8 * twenty_train_v5.shape[0])]"
   ]
  },
  {
   "cell_type": "code",
   "execution_count": 28,
   "metadata": {},
   "outputs": [],
   "source": [
    "datasize_20_train_imdb = imdb_train_v5[:round(0.2 * imdb_train_v5.shape[0])]\n",
    "label_20_train_imdb = labels_train_imdb[:round(0.2 * imdb_train_v5.shape[0])]\n",
    "\n",
    "datasize_40_train_imdb = imdb_train_v5[:round(0.4 * imdb_train_v5.shape[0])]\n",
    "label_40_train_imdb = labels_train_imdb[:round(0.4 * imdb_train_v5.shape[0])]\n",
    "\n",
    "datasize_60_train_imdb = imdb_train_v5[:round(0.6 * imdb_train_v5.shape[0])]\n",
    "label_60_train_imdb = labels_train_imdb[:round(0.6 * imdb_train_v5.shape[0])]\n",
    "\n",
    "datasize_80_train_imdb = imdb_train_v5[:round(0.8 * imdb_train_v5.shape[0])]\n",
    "label_80_train_imdb = labels_train_imdb[:round(0.8 * imdb_train_v5.shape[0])]"
   ]
  },
  {
   "cell_type": "code",
   "execution_count": 40,
   "metadata": {},
   "outputs": [],
   "source": [
    "#define function that takes in a dataset, a model, and k fold cross validation that predicts accuracy\n",
    "def five_fold(data, labels):\n",
    "    data = data.toarray()\n",
    "    a,b = cross_validation_split(data,5)\n",
    "    temp_model = MultinomialNaiveBayes()\n",
    "    result = kfoldCV(data, labels, a, b, temp_model, 5, 1)\n",
    "    \n",
    "    return result;"
   ]
  },
  {
   "cell_type": "code",
   "execution_count": 45,
   "metadata": {},
   "outputs": [
    {
     "name": "stdout",
     "output_type": "stream",
     "text": [
      "Fold 1: \n",
      "Currently predicting instance 0\n",
      "\n",
      "Fold 2: \n",
      "Currently predicting instance 0\n",
      "\n",
      "Fold 3: \n",
      "Currently predicting instance 0\n",
      "\n",
      "Fold 4: \n",
      "Currently predicting instance 0\n",
      "\n",
      "Fold 5: \n",
      "Currently predicting instance 0\n",
      "\n",
      "Fold 1: \n",
      "Currently predicting instance 0\n",
      "\n",
      "Fold 2: \n",
      "Currently predicting instance 0\n",
      "\n",
      "Fold 3: \n",
      "Currently predicting instance 0\n",
      "\n",
      "Fold 4: \n",
      "Currently predicting instance 0\n",
      "\n",
      "Fold 5: \n",
      "Currently predicting instance 0\n",
      "\n",
      "Fold 1: \n",
      "Currently predicting instance 0\n",
      "Currently predicting instance 1000\n",
      "\n",
      "Fold 2: \n",
      "Currently predicting instance 0\n",
      "Currently predicting instance 1000\n",
      "\n",
      "Fold 3: \n",
      "Currently predicting instance 0\n",
      "Currently predicting instance 1000\n",
      "\n",
      "Fold 4: \n",
      "Currently predicting instance 0\n",
      "Currently predicting instance 1000\n",
      "\n",
      "Fold 5: \n",
      "Currently predicting instance 0\n",
      "Currently predicting instance 1000\n",
      "\n",
      "Fold 1: \n",
      "Currently predicting instance 0\n",
      "Currently predicting instance 1000\n",
      "\n",
      "Fold 2: \n",
      "Currently predicting instance 0\n",
      "Currently predicting instance 1000\n",
      "\n",
      "Fold 3: \n",
      "Currently predicting instance 0\n",
      "Currently predicting instance 1000\n",
      "\n",
      "Fold 4: \n",
      "Currently predicting instance 0\n",
      "Currently predicting instance 1000\n",
      "\n",
      "Fold 5: \n",
      "Currently predicting instance 0\n",
      "Currently predicting instance 1000\n",
      "\n"
     ]
    }
   ],
   "source": [
    "# 20NewsGroup 20%\n",
    "a = five_fold(datasize_20_train_twenty, label_20_train_twenty)\n",
    "b = five_fold(datasize_40_train_twenty, label_40_train_twenty)\n",
    "c = five_fold(datasize_60_train_twenty, label_60_train_twenty)\n",
    "d = five_fold(datasize_80_train_twenty, label_80_train_twenty)\n"
   ]
  },
  {
   "cell_type": "code",
   "execution_count": 56,
   "metadata": {},
   "outputs": [
    {
     "name": "stdout",
     "output_type": "stream",
     "text": [
      "0.8551\n",
      "20NewsGroups\n",
      "20 percent of training data results in 83.6% accuracy!\n",
      "40 percent of training data results in 85.12% accuracy!\n",
      "60 percent of training data results in 85.50666666666666% accuracy!\n",
      "80 percent of training data results in 85.50999999999999% accuracy!\n"
     ]
    }
   ],
   "source": [
    "twenty_train_partial_acc = np.array([a,b,c,d])\n",
    "print(\"20NewsGroups\")\n",
    "for i in range(twenty_train_partial_acc.shape[0]):\n",
    "    print(f\"{(i+1)*20} percent of training data results in {twenty_train_partial_acc[i]*100}% accuracy!\")"
   ]
  },
  {
   "cell_type": "code",
   "execution_count": 55,
   "metadata": {},
   "outputs": [
    {
     "name": "stdout",
     "output_type": "stream",
     "text": [
      "Fold 1: \n",
      "Currently predicting instance 0\n",
      "\n",
      "Fold 2: \n",
      "Currently predicting instance 0\n",
      "\n",
      "Fold 3: \n",
      "Currently predicting instance 0\n",
      "\n",
      "Fold 4: \n",
      "Currently predicting instance 0\n",
      "\n",
      "Fold 5: \n",
      "Currently predicting instance 0\n",
      "\n",
      "Fold 1: \n",
      "Currently predicting instance 0\n",
      "Currently predicting instance 1000\n",
      "\n",
      "Fold 2: \n",
      "Currently predicting instance 0\n",
      "Currently predicting instance 1000\n",
      "\n",
      "Fold 3: \n",
      "Currently predicting instance 0\n",
      "Currently predicting instance 1000\n",
      "\n",
      "Fold 4: \n",
      "Currently predicting instance 0\n",
      "Currently predicting instance 1000\n",
      "\n",
      "Fold 5: \n",
      "Currently predicting instance 0\n",
      "Currently predicting instance 1000\n",
      "\n",
      "Fold 1: \n",
      "Currently predicting instance 0\n",
      "Currently predicting instance 1000\n",
      "Currently predicting instance 2000\n",
      "\n",
      "Fold 2: \n",
      "Currently predicting instance 0\n",
      "Currently predicting instance 1000\n",
      "Currently predicting instance 2000\n",
      "\n",
      "Fold 3: \n",
      "Currently predicting instance 0\n",
      "Currently predicting instance 1000\n",
      "Currently predicting instance 2000\n",
      "\n",
      "Fold 4: \n",
      "Currently predicting instance 0\n",
      "Currently predicting instance 1000\n",
      "Currently predicting instance 2000\n",
      "\n",
      "Fold 5: \n",
      "Currently predicting instance 0\n",
      "Currently predicting instance 1000\n",
      "Currently predicting instance 2000\n",
      "\n",
      "Fold 1: \n",
      "Currently predicting instance 0\n",
      "Currently predicting instance 1000\n",
      "Currently predicting instance 2000\n",
      "Currently predicting instance 3000\n",
      "\n",
      "Fold 2: \n",
      "Currently predicting instance 0\n",
      "Currently predicting instance 1000\n",
      "Currently predicting instance 2000\n",
      "Currently predicting instance 3000\n",
      "\n",
      "Fold 3: \n",
      "Currently predicting instance 0\n",
      "Currently predicting instance 1000\n",
      "Currently predicting instance 2000\n",
      "Currently predicting instance 3000\n",
      "\n",
      "Fold 4: \n",
      "Currently predicting instance 0\n",
      "Currently predicting instance 1000\n",
      "Currently predicting instance 2000\n",
      "Currently predicting instance 3000\n",
      "\n",
      "Fold 5: \n",
      "Currently predicting instance 0\n",
      "Currently predicting instance 1000\n",
      "Currently predicting instance 2000\n",
      "Currently predicting instance 3000\n",
      "\n"
     ]
    }
   ],
   "source": [
    "a = five_fold(datasize_20_train_imdb, label_20_train_imdb)\n",
    "b = five_fold(datasize_40_train_imdb, label_40_train_imdb)\n",
    "c = five_fold(datasize_60_train_imdb, label_60_train_imdb)\n",
    "d = five_fold(datasize_80_train_imdb, label_80_train_imdb)"
   ]
  },
  {
   "cell_type": "code",
   "execution_count": 57,
   "metadata": {},
   "outputs": [
    {
     "name": "stdout",
     "output_type": "stream",
     "text": [
      "IMDB dataset:\n",
      "20 percent of training data results in 83.6% accuracy!\n",
      "40 percent of training data results in 85.12% accuracy!\n",
      "60 percent of training data results in 85.50666666666666% accuracy!\n",
      "80 percent of training data results in 85.50999999999999% accuracy!\n"
     ]
    }
   ],
   "source": [
    "twenty_train_partial_acc = np.array([a,b,c,d])\n",
    "print(\"IMDB dataset:\")\n",
    "for i in range(twenty_train_partial_acc.shape[0]):\n",
    "    print(f\"{(i+1)*20} percent of training data results in {twenty_train_partial_acc[i]*100}% accuracy!\")"
   ]
  },
  {
   "cell_type": "markdown",
   "metadata": {
    "id": "zVdFrBUISsft"
   },
   "source": [
    "## Run experiments and comapre with logistic regression"
   ]
  },
  {
   "cell_type": "markdown",
   "metadata": {
    "id": "GJ2JC3o7mIIK"
   },
   "source": [
    "## Building logistic regression model and test on dataset_v2\n",
    "\n"
   ]
  },
  {
   "cell_type": "code",
   "execution_count": null,
   "metadata": {
    "colab": {
     "base_uri": "https://localhost:8080/"
    },
    "id": "mfvlNIRqmGp-",
    "outputId": "d42e1e34-003f-4390-e2a2-9f4eb0311c6a"
   },
   "outputs": [
    {
     "name": "stderr",
     "output_type": "stream",
     "text": [
      "/usr/local/lib/python3.7/dist-packages/sklearn/linear_model/_logistic.py:940: ConvergenceWarning: lbfgs failed to converge (status=1):\n",
      "STOP: TOTAL NO. of ITERATIONS REACHED LIMIT.\n",
      "\n",
      "Increase the number of iterations (max_iter) or scale the data as shown in:\n",
      "    https://scikit-learn.org/stable/modules/preprocessing.html\n",
      "Please also refer to the documentation for alternative solver options:\n",
      "    https://scikit-learn.org/stable/modules/linear_model.html#logistic-regression\n",
      "  extra_warning_msg=_LOGISTIC_SOLVER_CONVERGENCE_MSG)\n"
     ]
    },
    {
     "name": "stdout",
     "output_type": "stream",
     "text": [
      "0.6193574083908656\n",
      "0.686404673393521\n"
     ]
    },
    {
     "name": "stderr",
     "output_type": "stream",
     "text": [
      "/usr/local/lib/python3.7/dist-packages/sklearn/linear_model/_logistic.py:940: ConvergenceWarning: lbfgs failed to converge (status=1):\n",
      "STOP: TOTAL NO. of ITERATIONS REACHED LIMIT.\n",
      "\n",
      "Increase the number of iterations (max_iter) or scale the data as shown in:\n",
      "    https://scikit-learn.org/stable/modules/preprocessing.html\n",
      "Please also refer to the documentation for alternative solver options:\n",
      "    https://scikit-learn.org/stable/modules/linear_model.html#logistic-regression\n",
      "  extra_warning_msg=_LOGISTIC_SOLVER_CONVERGENCE_MSG)\n"
     ]
    },
    {
     "name": "stdout",
     "output_type": "stream",
     "text": [
      "0.6190918746680828\n"
     ]
    },
    {
     "name": "stderr",
     "output_type": "stream",
     "text": [
      "/usr/local/lib/python3.7/dist-packages/sklearn/linear_model/_logistic.py:940: ConvergenceWarning: lbfgs failed to converge (status=1):\n",
      "STOP: TOTAL NO. of ITERATIONS REACHED LIMIT.\n",
      "\n",
      "Increase the number of iterations (max_iter) or scale the data as shown in:\n",
      "    https://scikit-learn.org/stable/modules/preprocessing.html\n",
      "Please also refer to the documentation for alternative solver options:\n",
      "    https://scikit-learn.org/stable/modules/linear_model.html#logistic-regression\n",
      "  extra_warning_msg=_LOGISTIC_SOLVER_CONVERGENCE_MSG)\n"
     ]
    },
    {
     "name": "stdout",
     "output_type": "stream",
     "text": [
      "0.6274561869357408\n",
      "0.3019118428040361\n"
     ]
    },
    {
     "name": "stderr",
     "output_type": "stream",
     "text": [
      "/usr/local/lib/python3.7/dist-packages/sklearn/linear_model/_sag.py:330: ConvergenceWarning: The max_iter was reached which means the coef_ did not converge\n",
      "  \"the coef_ did not converge\", ConvergenceWarning)\n"
     ]
    }
   ],
   "source": [
    "#Basic settings\n",
    "from sklearn.linear_model import LogisticRegression\n",
    "twenty_train_LR = LogisticRegression(random_state=0,max_iter=200).fit(twenty_train_v2, labels_train)\n",
    "label_predict = twenty_train_LR.predict(twenty_test_v2)\n",
    "print(twenty_train_LR.score(twenty_test_v2, labels_test))\n",
    "\n",
    "#Change the dataset to tfidf data set\n",
    "twenty_train_LR_tfidf = LogisticRegression(random_state=0,max_iter=200).fit(twenty_train_tfidf_v2, labels_train)\n",
    "label_predict_tfidf = twenty_train_LR_tfidf.predict(twenty_test_tfidf_v2)\n",
    "print(twenty_train_LR_tfidf.score(twenty_test_tfidf_v2,labels_test))\n",
    "\n",
    "#Change iter number\n",
    "twenty_train_LR_v2 = LogisticRegression(random_state=0,max_iter=100,).fit(twenty_train_v2, labels_train)\n",
    "label_predict_v2 = twenty_train_LR_v2.predict(twenty_test_v2)\n",
    "print(twenty_train_LR_v2.score(twenty_test_v2, labels_test))\n",
    "\n",
    "#Change to a stronger regularization\n",
    "twenty_train_LR_v3 = LogisticRegression(random_state=0,max_iter=200,C=0.5).fit(twenty_train_v2, labels_train)\n",
    "label_predict_v3 = twenty_train_LR_v3.predict(twenty_test_v2)\n",
    "print(twenty_train_LR_v3.score(twenty_test_v2, labels_test))\n",
    "\n",
    "#Change to a new solver\n",
    "twenty_train_LR_v4 = LogisticRegression(random_state=0,max_iter=200,solver='saga').fit(twenty_train_v2, labels_train)\n",
    "label_predict_v4 = twenty_train_LR_v4.predict(twenty_test_v2)\n",
    "print(twenty_train_LR_v4.score(twenty_test_v2, labels_test))\n",
    "\n"
   ]
  },
  {
   "cell_type": "markdown",
   "metadata": {
    "id": "I1V2ZnO09IIe"
   },
   "source": [
    "### Test on different convergence"
   ]
  },
  {
   "cell_type": "markdown",
   "metadata": {
    "id": "n4fIViLsEcgY"
   },
   "source": [
    "From the result above, we could see that the accuracy with tfidf dataset have the highest accuracy, so we use the tfidf dataset to test with more important hyper parameters, which is convergence in this case"
   ]
  },
  {
   "cell_type": "code",
   "execution_count": null,
   "metadata": {
    "colab": {
     "base_uri": "https://localhost:8080/"
    },
    "id": "o0b3wmTV3uad",
    "outputId": "6e614a6c-5773-496d-f98c-d0f7e89bceed"
   },
   "outputs": [
    {
     "name": "stdout",
     "output_type": "stream",
     "text": [
      "0.6881306425916092\n",
      "0.6897238449283059\n",
      "0.6906532129580457\n"
     ]
    }
   ],
   "source": [
    "twenty_train_LR_tfidf_v1 = LogisticRegression(random_state=0,max_iter=200,C=1.5).fit(twenty_train_tfidf_v2, labels_train)\n",
    "label_predict_tfidf_v1 = twenty_train_LR_tfidf_v1.predict(twenty_test_tfidf_v2)\n",
    "print(twenty_train_LR_tfidf_v1.score(twenty_test_tfidf_v2,labels_test))\n",
    "\n",
    "twenty_train_LR_tfidf_v2 = LogisticRegression(random_state=0,max_iter=200,C=2.0).fit(twenty_train_tfidf_v2, labels_train)\n",
    "label_predict_tfidf_v2 = twenty_train_LR_tfidf_v2.predict(twenty_test_tfidf_v2)\n",
    "print(twenty_train_LR_tfidf_v2.score(twenty_test_tfidf_v2,labels_test))\n",
    "\n",
    "twenty_train_LR_tfidf_v3 = LogisticRegression(random_state=0,max_iter=200,C=5.0).fit(twenty_train_tfidf_v2, labels_train)\n",
    "label_predict_tfidf_v3 = twenty_train_LR_tfidf_v3.predict(twenty_test_tfidf_v2)\n",
    "print(twenty_train_LR_tfidf_v3.score(twenty_test_tfidf_v2,labels_test))\n",
    "\n"
   ]
  },
  {
   "cell_type": "markdown",
   "metadata": {
    "id": "WfWNvWdrva-y"
   },
   "source": [
    "### Use logistic regression on IMDB dataset"
   ]
  },
  {
   "cell_type": "code",
   "execution_count": null,
   "metadata": {
    "colab": {
     "base_uri": "https://localhost:8080/"
    },
    "id": "vnGwHXgSvoep",
    "outputId": "4abd13a9-4b83-4aef-8d3d-b53af643ca84"
   },
   "outputs": [
    {
     "name": "stderr",
     "output_type": "stream",
     "text": [
      "/usr/local/lib/python3.7/dist-packages/sklearn/linear_model/_logistic.py:940: ConvergenceWarning: lbfgs failed to converge (status=1):\n",
      "STOP: TOTAL NO. of ITERATIONS REACHED LIMIT.\n",
      "\n",
      "Increase the number of iterations (max_iter) or scale the data as shown in:\n",
      "    https://scikit-learn.org/stable/modules/preprocessing.html\n",
      "Please also refer to the documentation for alternative solver options:\n",
      "    https://scikit-learn.org/stable/modules/linear_model.html#logistic-regression\n",
      "  extra_warning_msg=_LOGISTIC_SOLVER_CONVERGENCE_MSG)\n"
     ]
    },
    {
     "name": "stdout",
     "output_type": "stream",
     "text": [
      "0.2298\n"
     ]
    },
    {
     "name": "stderr",
     "output_type": "stream",
     "text": [
      "/usr/local/lib/python3.7/dist-packages/sklearn/linear_model/_logistic.py:940: ConvergenceWarning: lbfgs failed to converge (status=1):\n",
      "STOP: TOTAL NO. of ITERATIONS REACHED LIMIT.\n",
      "\n",
      "Increase the number of iterations (max_iter) or scale the data as shown in:\n",
      "    https://scikit-learn.org/stable/modules/preprocessing.html\n",
      "Please also refer to the documentation for alternative solver options:\n",
      "    https://scikit-learn.org/stable/modules/linear_model.html#logistic-regression\n",
      "  extra_warning_msg=_LOGISTIC_SOLVER_CONVERGENCE_MSG)\n"
     ]
    },
    {
     "name": "stdout",
     "output_type": "stream",
     "text": [
      "0.59224\n"
     ]
    },
    {
     "name": "stderr",
     "output_type": "stream",
     "text": [
      "/usr/local/lib/python3.7/dist-packages/sklearn/linear_model/_logistic.py:940: ConvergenceWarning: lbfgs failed to converge (status=1):\n",
      "STOP: TOTAL NO. of ITERATIONS REACHED LIMIT.\n",
      "\n",
      "Increase the number of iterations (max_iter) or scale the data as shown in:\n",
      "    https://scikit-learn.org/stable/modules/preprocessing.html\n",
      "Please also refer to the documentation for alternative solver options:\n",
      "    https://scikit-learn.org/stable/modules/linear_model.html#logistic-regression\n",
      "  extra_warning_msg=_LOGISTIC_SOLVER_CONVERGENCE_MSG)\n"
     ]
    },
    {
     "name": "stdout",
     "output_type": "stream",
     "text": [
      "0.2142\n"
     ]
    },
    {
     "name": "stderr",
     "output_type": "stream",
     "text": [
      "/usr/local/lib/python3.7/dist-packages/sklearn/linear_model/_logistic.py:940: ConvergenceWarning: lbfgs failed to converge (status=1):\n",
      "STOP: TOTAL NO. of ITERATIONS REACHED LIMIT.\n",
      "\n",
      "Increase the number of iterations (max_iter) or scale the data as shown in:\n",
      "    https://scikit-learn.org/stable/modules/preprocessing.html\n",
      "Please also refer to the documentation for alternative solver options:\n",
      "    https://scikit-learn.org/stable/modules/linear_model.html#logistic-regression\n",
      "  extra_warning_msg=_LOGISTIC_SOLVER_CONVERGENCE_MSG)\n"
     ]
    },
    {
     "name": "stdout",
     "output_type": "stream",
     "text": [
      "0.22608\n",
      "0.1572\n"
     ]
    },
    {
     "name": "stderr",
     "output_type": "stream",
     "text": [
      "/usr/local/lib/python3.7/dist-packages/sklearn/linear_model/_sag.py:330: ConvergenceWarning: The max_iter was reached which means the coef_ did not converge\n",
      "  \"the coef_ did not converge\", ConvergenceWarning)\n"
     ]
    }
   ],
   "source": [
    "#Basic settings\n",
    "\n",
    "imdb_train_LR = LogisticRegression(random_state=0,max_iter=200).fit(imdb_train_v2, label_imdb_train)\n",
    "imdb_predict = imdb_train_LR.predict(imdb_test_v2)\n",
    "print(imdb_train_LR.score(imdb_test_v2, label_imdb_test))\n",
    "\n",
    "#Change the dataset to tfidf data set\n",
    "imdb_train_LR_tfidf = LogisticRegression(random_state=0,max_iter=200).fit(imdb_train_tfidf_v2, label_imdb_train)\n",
    "imdb_predict_tfidf = imdb_train_LR_tfidf.predict(imdb_train_tfidf_v2)\n",
    "print(imdb_train_LR_tfidf.score(imdb_test_v2,label_imdb_test))\n",
    "\n",
    "#Change iter number\n",
    "imdb_train_LR_v2 = LogisticRegression(random_state=0,max_iter=100,).fit(imdb_train_v2, label_imdb_train)\n",
    "imdb_predict_v2 = imdb_train_LR_v2.predict(imdb_test_v2)\n",
    "print(imdb_train_LR_v2.score(imdb_test_v2, label_imdb_test))\n",
    "\n",
    "#Change to a stronger regularization\n",
    "imdb_train_LR_v3 = LogisticRegression(random_state=0,max_iter=200,C=0.5).fit(imdb_train_v2, label_imdb_train)\n",
    "imdb_predict_v3 = imdb_train_LR_v3.predict(imdb_test_v2)\n",
    "print(imdb_train_LR_v3.score(imdb_test_v2, label_imdb_test))\n",
    "\n",
    "#Change to a new solver\n",
    "imdb_train_LR_v4 = LogisticRegression(random_state=0,max_iter=200,solver='saga').fit(imdb_train_v2, label_imdb_train)\n",
    "imdb_predict_v4 = imdb_train_LR_v4.predict(imdb_test_v2)\n",
    "print(imdb_train_LR_v4.score(imdb_test_v2, label_imdb_test))"
   ]
  },
  {
   "cell_type": "markdown",
   "metadata": {
    "id": "09VorADb9U-F"
   },
   "source": [
    "### Test on different convergence"
   ]
  },
  {
   "cell_type": "code",
   "execution_count": null,
   "metadata": {
    "colab": {
     "base_uri": "https://localhost:8080/"
    },
    "id": "BD7Qjm2w9SRi",
    "outputId": "b343ccdf-d3b8-43a8-8e33-08cfa98ed8d2"
   },
   "outputs": [
    {
     "name": "stdout",
     "output_type": "stream",
     "text": [
      "0.61736\n",
      "0.64284\n"
     ]
    },
    {
     "name": "stderr",
     "output_type": "stream",
     "text": [
      "/usr/local/lib/python3.7/dist-packages/sklearn/linear_model/_logistic.py:940: ConvergenceWarning: lbfgs failed to converge (status=1):\n",
      "STOP: TOTAL NO. of ITERATIONS REACHED LIMIT.\n",
      "\n",
      "Increase the number of iterations (max_iter) or scale the data as shown in:\n",
      "    https://scikit-learn.org/stable/modules/preprocessing.html\n",
      "Please also refer to the documentation for alternative solver options:\n",
      "    https://scikit-learn.org/stable/modules/linear_model.html#logistic-regression\n",
      "  extra_warning_msg=_LOGISTIC_SOLVER_CONVERGENCE_MSG)\n"
     ]
    },
    {
     "name": "stdout",
     "output_type": "stream",
     "text": [
      "0.57184\n",
      "0.60436\n"
     ]
    },
    {
     "name": "stderr",
     "output_type": "stream",
     "text": [
      "/usr/local/lib/python3.7/dist-packages/sklearn/linear_model/_logistic.py:940: ConvergenceWarning: lbfgs failed to converge (status=1):\n",
      "STOP: TOTAL NO. of ITERATIONS REACHED LIMIT.\n",
      "\n",
      "Increase the number of iterations (max_iter) or scale the data as shown in:\n",
      "    https://scikit-learn.org/stable/modules/preprocessing.html\n",
      "Please also refer to the documentation for alternative solver options:\n",
      "    https://scikit-learn.org/stable/modules/linear_model.html#logistic-regression\n",
      "  extra_warning_msg=_LOGISTIC_SOLVER_CONVERGENCE_MSG)\n"
     ]
    }
   ],
   "source": [
    "imdb_train_LR_tfidf_v1 = LogisticRegression(random_state=0,max_iter=200,C=0.3).fit(imdb_train_tfidf_v2, label_imdb_train)\n",
    "imdb_predict_tfidf_v1 = imdb_train_LR_tfidf_v1.predict(imdb_train_tfidf_v2)\n",
    "print(imdb_train_LR_tfidf_v1.score(imdb_test_v2,label_imdb_test))\n",
    "\n",
    "imdb_train_LR_tfidf_v2 = LogisticRegression(random_state=0,max_iter=200,C=0.1).fit(imdb_train_tfidf_v2, label_imdb_train)\n",
    "imdb_predict_tfidf_v2 = imdb_train_LR_tfidf_v2.predict(imdb_train_tfidf_v2)\n",
    "print(imdb_train_LR_tfidf_v2.score(imdb_test_v2,label_imdb_test))\n",
    "\n",
    "imdb_train_LR_tfidf_v3 = LogisticRegression(random_state=0,max_iter=200,C=2.0).fit(imdb_train_tfidf_v2, label_imdb_train)\n",
    "imdb_predict_tfidf_v3 = imdb_train_LR_tfidf_v3.predict(imdb_train_tfidf_v2)\n",
    "print(imdb_train_LR_tfidf_v3.score(imdb_test_v2,label_imdb_test))\n",
    "\n",
    "imdb_train_LR_tfidf_v4 = LogisticRegression(random_state=0,max_iter=200,C=5.0).fit(imdb_train_tfidf_v2, label_imdb_train)\n",
    "imdb_predict_tfidf_v4 = imdb_train_LR_tfidf_v4.predict(imdb_train_tfidf_v2)\n",
    "print(imdb_train_LR_tfidf_v4.score(imdb_test_v2,label_imdb_test))"
   ]
  },
  {
   "cell_type": "markdown",
   "metadata": {
    "id": "K8FJ8hRA3bFX"
   },
   "source": [
    "### Using best hyper parameters to do the size changing experiment"
   ]
  },
  {
   "cell_type": "markdown",
   "metadata": {
    "id": "v0E7lcyVLx3g"
   },
   "source": [
    "Processing the data with  20%,40%,60%,80% subset of tfidf dataset"
   ]
  },
  {
   "cell_type": "code",
   "execution_count": null,
   "metadata": {
    "id": "WLBr4wtJ3h16"
   },
   "outputs": [],
   "source": [
    "datasize_20_train_twenty = twenty_train_tfidf_v2[:round(0.2 * twenty_train_tfidf_v2.shape[0])]\n",
    "label_20_train_twenty = labels_train[:round(0.2 * twenty_train_tfidf_v2.shape[0])]\n",
    "\n",
    "datasize_40_train_twenty = twenty_train_tfidf_v2[:round(0.4 * twenty_train_tfidf_v2.shape[0])]\n",
    "label_40_train_twenty = labels_train[:round(0.4 * twenty_train_tfidf_v2.shape[0])]\n",
    "\n",
    "datasize_60_train_twenty = twenty_train_tfidf_v2[:round(0.6 * twenty_train_tfidf_v2.shape[0])]\n",
    "label_60_train_twenty = labels_train[:round(0.6 * twenty_train_tfidf_v2.shape[0])]\n",
    "\n",
    "datasize_80_train_twenty = twenty_train_tfidf_v2[:round(0.8 * twenty_train_tfidf_v2.shape[0])]\n",
    "label_80_train_twenty = labels_train[:round(0.8 * twenty_train_tfidf_v2.shape[0])]\n",
    "\n",
    "\n",
    "datasize_20_train_imdb = imdb_train_tfidf_v2[:round(0.2 * imdb_train_tfidf_v2.shape[0])]\n",
    "label_20_train_imdb = label_imdb_train[:round(0.2 * imdb_train_tfidf_v2.shape[0])]\n",
    "\n",
    "datasize_40_train_imdb = imdb_train_tfidf_v2[:round(0.4 * imdb_train_tfidf_v2.shape[0])]\n",
    "label_40_train_imdb = label_imdb_train[:round(0.4 * imdb_train_tfidf_v2.shape[0])]\n",
    "\n",
    "datasize_60_train_imdb = imdb_train_tfidf_v2[:round(0.6 * imdb_train_tfidf_v2.shape[0])]\n",
    "label_60_train_imdb = label_imdb_train[:round(0.6 * imdb_train_tfidf_v2.shape[0])]\n",
    "\n",
    "datasize_80_train_imdb = imdb_train_tfidf_v2[:round(0.8 * imdb_train_tfidf_v2.shape[0])]\n",
    "label_80_train_imdb = label_imdb_train[:round(0.8 * imdb_train_tfidf_v2.shape[0])]"
   ]
  },
  {
   "cell_type": "markdown",
   "metadata": {
    "id": "9KRqpJRpnCPk"
   },
   "source": [
    "Predict using subset data on 20 news group dataset"
   ]
  },
  {
   "cell_type": "code",
   "execution_count": null,
   "metadata": {
    "colab": {
     "base_uri": "https://localhost:8080/"
    },
    "id": "3h8z1hztLu2G",
    "outputId": "6d3bbd96-2846-4294-f2a9-127eaddbc65f"
   },
   "outputs": [
    {
     "name": "stdout",
     "output_type": "stream",
     "text": [
      "0.6096654275092936\n",
      "0.6587891662241104\n",
      "0.6712692511949018\n",
      "0.6830855018587361\n"
     ]
    }
   ],
   "source": [
    "#Choose max_iter=200 and C=5.0 on 20 news group dataset\n",
    "# max_iter=200 and C=0.1 on imdb dataset\n",
    "twenty_train_LR_tfidf_20 = LogisticRegression(random_state=0,max_iter=200,C=5.0).fit(datasize_20_train_twenty, label_20_train_twenty)\n",
    "label_predict_tfidf_20 = twenty_train_LR_tfidf_20.predict(twenty_test_tfidf_v2)\n",
    "print(twenty_train_LR_tfidf_20.score(twenty_test_tfidf_v2,labels_test))\n",
    "\n",
    "twenty_train_LR_tfidf_40 = LogisticRegression(random_state=0,max_iter=200,C=5.0).fit(datasize_40_train_twenty, label_40_train_twenty)\n",
    "label_predict_tfidf_40 = twenty_train_LR_tfidf_40.predict(twenty_test_tfidf_v2)\n",
    "print(twenty_train_LR_tfidf_40.score(twenty_test_tfidf_v2,labels_test))\n",
    "\n",
    "\n",
    "twenty_train_LR_tfidf_60 = LogisticRegression(random_state=0,max_iter=200,C=5.0).fit(datasize_60_train_twenty, label_60_train_twenty)\n",
    "label_predict_tfidf_60 = twenty_train_LR_tfidf_60.predict(twenty_test_tfidf_v2)\n",
    "print(twenty_train_LR_tfidf_60.score(twenty_test_tfidf_v2,labels_test))\n",
    "\n",
    "\n",
    "twenty_train_LR_tfidf_80 = LogisticRegression(random_state=0,max_iter=200,C=5.0).fit(datasize_80_train_twenty, label_80_train_twenty)\n",
    "label_predict_tfidf_80 = twenty_train_LR_tfidf_80.predict(twenty_test_tfidf_v2)\n",
    "print(twenty_train_LR_tfidf_80.score(twenty_test_tfidf_v2,labels_test))\n"
   ]
  },
  {
   "cell_type": "markdown",
   "metadata": {
    "id": "G6uppGbAnHm3"
   },
   "source": [
    "Predict using subset data on imdb dataset"
   ]
  },
  {
   "cell_type": "code",
   "execution_count": null,
   "metadata": {
    "colab": {
     "base_uri": "https://localhost:8080/"
    },
    "id": "4q_T5sV-V_NF",
    "outputId": "e984e588-231c-464f-cbd5-373266482666"
   },
   "outputs": [
    {
     "name": "stdout",
     "output_type": "stream",
     "text": [
      "0.47652\n",
      "0.57044\n",
      "0.62888\n",
      "0.64792\n"
     ]
    }
   ],
   "source": [
    "#With imdb dataset\n",
    "imdb_LR_tfidf_20 = LogisticRegression(random_state=0,max_iter=200,C=0.1).fit(datasize_20_train_imdb, label_20_train_imdb)\n",
    "imdb_predict_tfidf_20 = imdb_LR_tfidf_20.predict(imdb_train_tfidf_v2)\n",
    "print(imdb_LR_tfidf_20.score(imdb_test_v2,label_imdb_test))\n",
    "\n",
    "imdb_LR_tfidf_40 = LogisticRegression(random_state=0,max_iter=200,C=0.1).fit(datasize_40_train_imdb, label_40_train_imdb)\n",
    "imdb_predict_tfidf_40 = imdb_LR_tfidf_40.predict(imdb_train_tfidf_v2)\n",
    "print(imdb_LR_tfidf_40.score(imdb_test_v2,label_imdb_test))\n",
    "\n",
    "\n",
    "imdb_LR_tfidf_60 = LogisticRegression(random_state=0,max_iter=200,C=0.1).fit(datasize_60_train_imdb, label_60_train_imdb)\n",
    "imdb_predict_tfidf_60 = imdb_LR_tfidf_60.predict(imdb_train_tfidf_v2)\n",
    "print(imdb_LR_tfidf_60.score(imdb_test_v2,label_imdb_test))\n",
    "\n",
    "\n",
    "imdb_LR_tfidf_80 = LogisticRegression(random_state=0,max_iter=200,C=0.1).fit(datasize_80_train_imdb, label_80_train_imdb)\n",
    "imdb_tfidf_80 = imdb_LR_tfidf_80.predict(imdb_train_tfidf_v2)\n",
    "print(imdb_LR_tfidf_80.score(imdb_test_v2,label_imdb_test))"
   ]
  }
 ],
 "metadata": {
  "colab": {
   "collapsed_sections": [],
   "name": "COMP 551 - P2 - Task 1 - Data Preprocessing.ipynb",
   "provenance": [],
   "toc_visible": true
  },
  "kernelspec": {
   "display_name": "Python 3",
   "language": "python",
   "name": "python3"
  },
  "language_info": {
   "codemirror_mode": {
    "name": "ipython",
    "version": 3
   },
   "file_extension": ".py",
   "mimetype": "text/x-python",
   "name": "python",
   "nbconvert_exporter": "python",
   "pygments_lexer": "ipython3",
   "version": "3.8.3"
  }
 },
 "nbformat": 4,
 "nbformat_minor": 1
}
