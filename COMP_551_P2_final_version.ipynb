{
 "cells": [
  {
   "cell_type": "markdown",
   "metadata": {
    "id": "Me4bLMo3nG6C"
   },
   "source": [
    "# Data Preprocessing"
   ]
  },
  {
   "cell_type": "markdown",
   "metadata": {
    "id": "ZCagW4Umm6jY"
   },
   "source": [
    "## Implement the package needed"
   ]
  },
  {
   "cell_type": "code",
   "execution_count": 1,
   "metadata": {
    "id": "Ddz5UA_rZZpH"
   },
   "outputs": [],
   "source": [
    "import numpy as np\n",
    "%matplotlib notebook\n",
    "%matplotlib inline\n",
    "import matplotlib.pyplot as plt\n",
    "from IPython.core.debugger import set_trace\n",
    "from sklearn.feature_extraction.text import CountVectorizer\n",
    "import pandas as pd\n",
    "from sklearn.naive_bayes import MultinomialNB\n",
    "import pickle\n"
   ]
  },
  {
   "cell_type": "markdown",
   "metadata": {
    "id": "TKP1qvtrnQtB"
   },
   "source": [
    "## Processing dataset *twenty news groups*\n",
    "\n"
   ]
  },
  {
   "cell_type": "markdown",
   "metadata": {
    "id": "sVBERDYp91da"
   },
   "source": [
    "### Simplest data processing with no resctriction "
   ]
  },
  {
   "cell_type": "code",
   "execution_count": 2,
   "metadata": {
    "colab": {
     "base_uri": "https://localhost:8080/"
    },
    "id": "xqYxdg5Xng3w",
    "outputId": "062b5454-c5db-462d-fcca-cf4ee2db2622"
   },
   "outputs": [
    {
     "name": "stdout",
     "output_type": "stream",
     "text": [
      "shape of vectorizer:(11314, 101631)\n"
     ]
    }
   ],
   "source": [
    "from sklearn.datasets import fetch_20newsgroups\n",
    "from sklearn.feature_extraction.text import TfidfTransformer\n",
    "twenty_train = fetch_20newsgroups(subset='train', remove=('headers', 'footers', 'quotes'))\n",
    "twenty_test = fetch_20newsgroups(subset='test', remove=('headers', 'footers', 'quotes'))\n",
    "\n",
    "\n",
    "#twenty_train.target_names\n",
    "#print(len(twenty_train.data))\n",
    "#print(len(twenty_train.filenames))\n",
    "\n",
    "#Initialize the model used to transfrom the data from text to vector\n",
    "#with special condition to increase the accuracy.\n",
    "vectorizer_v1 = CountVectorizer()\n",
    "labels_train_twenty = twenty_train.target\n",
    "labels_test_twenty = twenty_test.target\n",
    "\n",
    "twenty_train_v1 = vectorizer_v1.fit_transform(twenty_train.data)\n",
    "twenty_test_v1 = vectorizer_v1.transform(twenty_test.data)\n",
    "\n",
    "print(\"shape of vectorizer:\" + str(twenty_train_v1.toarray().shape))"
   ]
  },
  {
   "cell_type": "markdown",
   "metadata": {
    "id": "IwxZDrn--Pew"
   },
   "source": [
    "### Take care of only stop_words and meaningless combination of number and letters"
   ]
  },
  {
   "cell_type": "code",
   "execution_count": 3,
   "metadata": {
    "colab": {
     "base_uri": "https://localhost:8080/"
    },
    "id": "YiRQ9AaP-hUp",
    "outputId": "0932e557-b179-4bdf-fe7d-e93cd09d8037"
   },
   "outputs": [
    {
     "name": "stderr",
     "output_type": "stream",
     "text": [
      "[nltk_data] Downloading package stopwords to\n",
      "[nltk_data]     C:\\Users\\pjy_t\\AppData\\Roaming\\nltk_data...\n",
      "[nltk_data]   Package stopwords is already up-to-date!\n"
     ]
    },
    {
     "name": "stdout",
     "output_type": "stream",
     "text": [
      "(11314, 72790)\n",
      "(7532, 72790)\n"
     ]
    }
   ],
   "source": [
    "#Take care of the stop_words\n",
    "import nltk\n",
    "from nltk.corpus import stopwords\n",
    "nltk.download('stopwords')\n",
    "sw = stopwords.words('english')\n",
    "\n",
    "\n",
    "# print(sw)\n",
    "\n",
    "vectorizer_v2 = CountVectorizer(stop_words = sw, token_pattern = '[a-z]+')\n",
    "\n",
    "twenty_train_v2 = vectorizer_v2.fit_transform(twenty_train.data)\n",
    "twenty_test_v2 = vectorizer_v2.transform(twenty_test.data)\n",
    "#print(vectorizer_v2.get_feature_names())\n",
    "#print(type(twenty_test_v2.toarray()))\n",
    "print(twenty_train_v2.shape)\n",
    "print(twenty_test_v2.shape)\n",
    "\n",
    "\n",
    "# print(np.array(twenty_train_v2).shape)"
   ]
  },
  {
   "cell_type": "markdown",
   "metadata": {
    "id": "sQhdo2vK-tgJ"
   },
   "source": [
    "### Take care of high frequency words and low frequency words"
   ]
  },
  {
   "cell_type": "code",
   "execution_count": 4,
   "metadata": {
    "colab": {
     "base_uri": "https://localhost:8080/"
    },
    "id": "OnSHvIN1Bnfv",
    "outputId": "e141a3ef-2ada-45c1-ff38-25346f331200"
   },
   "outputs": [
    {
     "name": "stdout",
     "output_type": "stream",
     "text": [
      "(11314, 9349)\n",
      "(7532, 9349)\n"
     ]
    }
   ],
   "source": [
    "vectorizer_v3 = CountVectorizer(max_df = 0.5)\n",
    "\n",
    "twenty_train_v3 = vectorizer_v3.fit_transform(twenty_train.data)\n",
    "twenty_test_v3 = vectorizer_v3.transform(twenty_test.data)\n",
    "\n",
    "#print(twenty_train_v3.shape)\n",
    "#print(vectorizer_v3.get_feature_names())\n",
    "\n",
    "vectorizer_v4 = CountVectorizer(min_df = 0.001)\n",
    "\n",
    "twenty_train_v4 = vectorizer_v4.fit_transform(twenty_train.data)\n",
    "twenty_test_v4 = vectorizer_v4.transform(twenty_test.data)\n",
    "print(twenty_train_v4.shape)\n",
    "print(twenty_test_v4.shape)\n",
    "\n",
    "vectorizer_v5 = CountVectorizer(stop_words = sw, token_pattern = '[a-z]+', min_df = 0.001)\n",
    "twenty_train_v5 = vectorizer_v5.fit_transform(twenty_train.data)\n",
    "twenty_test_v5 = vectorizer_v5.transform(twenty_test.data)\n",
    "\n",
    "\n",
    "#print(vectorizer_v4.get_feature_names())sdf"
   ]
  },
  {
   "cell_type": "markdown",
   "metadata": {
    "id": "8Rs5Zvv4bMEL"
   },
   "source": [
    "### Tfidf data processing on different version of countVectorizer"
   ]
  },
  {
   "cell_type": "code",
   "execution_count": 5,
   "metadata": {
    "id": "AOtDoMGDbtu5"
   },
   "outputs": [],
   "source": [
    "#Using a new model to eliminate the problem of different weight on words. Using machine instead of manually\n",
    "tfidf_transformer = TfidfTransformer()\n",
    "\n",
    "twenty_train_tfidf_v1 = tfidf_transformer.fit_transform(twenty_train_v1)\n",
    "twenty_test_tfidf_v1 = tfidf_transformer.transform(twenty_test_v1)\n",
    "#print(twenty_train_tfidf.shape)\n",
    "\n",
    "twenty_train_tfidf_v2 = tfidf_transformer.fit_transform(twenty_train_v2)\n",
    "twenty_test_tfidf_v2 = tfidf_transformer.transform(twenty_test_v2)\n",
    "\n",
    "twenty_train_tfidf_v3 = tfidf_transformer.fit_transform(twenty_train_v3)\n",
    "twenty_test_tfidf_v3 = tfidf_transformer.transform(twenty_train_v3)\n",
    "\n",
    "twenty_train_tfidf_v4 = tfidf_transformer.fit_transform(twenty_train_v4)\n",
    "twenty_test_tfidf_v4 = tfidf_transformer.transform(twenty_train_v4)"
   ]
  },
  {
   "cell_type": "markdown",
   "metadata": {
    "id": "tg0x0bAKnnf2"
   },
   "source": [
    "## Processing dataset *IMDB review*\n",
    "\n"
   ]
  },
  {
   "cell_type": "code",
   "execution_count": 6,
   "metadata": {
    "id": "4_lZLJUaKSA7"
   },
   "outputs": [],
   "source": [
    "def load_imdb_train():\n",
    "    with open('imdb_train.pickle', 'rb') as handle:\n",
    "        result = pickle.load(handle)\n",
    "    return result\n",
    "\n",
    "def load_imdb_test():\n",
    "    with open('imdb_test.pickle', 'rb') as handle:\n",
    "        result = pickle.load(handle)\n",
    "    return result"
   ]
  },
  {
   "cell_type": "code",
   "execution_count": 9,
   "metadata": {
    "id": "fU78UYotKUsB"
   },
   "outputs": [],
   "source": [
    "#Please upload .tar.gz file to collab and put under folder \"content\"\n",
    "\n",
    "#Uncompress the aclimdb)v1.tar.gz\n",
    "# import os\n",
    "# os.system('tar zxvf %s' % 'aclImdb.tar.gz' )\n",
    "\n",
    "#-----------------------------------------------------------------------\n",
    "# Import data into the code\n",
    "from sklearn.datasets import load_files\n",
    "imdb_train = load_files('aclImdb/train')\n",
    "imdb_test = load_files('aclImdb/test')\n",
    "#-----------------------------------------------------------------------\n",
    "# with open('imdb_train.pickle', 'wb') as handle:\n",
    "#     pickle.dump(imdb_train ,handle, protocol = pickle.HIGHEST_PROTOCOL)\n",
    "    \n",
    "# with open('imdb_test.pickle', 'wb') as handle:\n",
    "#     pickle.dump(imdb_test, handle, protocol = pickle.HIGHEST_PROTOCOL)\n",
    "#-----------------------------------------------------------------------\n",
    "\n",
    "# OS takes a long time to load files from disk, therefore we saved the imdb_train and imdb_test set using pickle\n",
    "# imdb_train = load_imdb_train()\n",
    "# imdb_test = load_imdb_test()\n",
    "#-----------------------------------------------------------------------\n",
    "labels_train_imdb = imdb_train.target\n",
    "labels_test_imdb = imdb_test.target\n",
    "#print(labels_train_imdb)\n",
    "#print(labels_train_imdb.shape)\n",
    "#print(labels_test_imdb.shape)\n",
    "labels_imdb = np.hstack([imdb_train.target,imdb_test.target])\n",
    "#print(labels_imdb.shape)"
   ]
  },
  {
   "cell_type": "code",
   "execution_count": null,
   "metadata": {
    "id": "5zRGi7ephsHI"
   },
   "outputs": [],
   "source": [
    "#!rm -rf 'aclImdb'"
   ]
  },
  {
   "cell_type": "markdown",
   "metadata": {
    "id": "7y-BcS9Wk7kc"
   },
   "source": [
    "### Simplest data processing with no restriction "
   ]
  },
  {
   "cell_type": "code",
   "execution_count": 10,
   "metadata": {
    "id": "5R-dlRWynrT2"
   },
   "outputs": [],
   "source": [
    "#Train the data using the same special vectorize as above\n",
    "import scipy.sparse as sp \n",
    "imdb_train_v1 = vectorizer_v1.fit_transform(imdb_train.data)\n",
    "imdb_test_v1 = vectorizer_v1.transform(imdb_test.data)\n",
    "imdb_train_v1_data = sp.vstack([imdb_train_v1,imdb_test_v1])\n",
    "\n",
    "#print(imdb_train_v1.shape)\n",
    "#print(imdb_test_v1.shape)\n",
    "#print(imdb_train_v1_data.shape)"
   ]
  },
  {
   "cell_type": "markdown",
   "metadata": {
    "id": "KJ2CjXmBk6e9"
   },
   "source": [
    "### Take care of only stop_words and meaningless combination of number and letters"
   ]
  },
  {
   "cell_type": "code",
   "execution_count": 11,
   "metadata": {
    "id": "VLTyLx1NlNUj"
   },
   "outputs": [],
   "source": [
    "imdb_train_v2 = vectorizer_v2.fit_transform(imdb_train.data)\n",
    "imdb_test_v2 = vectorizer_v2.transform(imdb_test.data)\n",
    "imdb_train_v2_data = sp.vstack([imdb_train_v2,imdb_test_v2])"
   ]
  },
  {
   "cell_type": "markdown",
   "metadata": {
    "id": "sgcysyxwlmuv"
   },
   "source": [
    "### Take care of high frequency words and low frequency words"
   ]
  },
  {
   "cell_type": "code",
   "execution_count": 12,
   "metadata": {
    "colab": {
     "base_uri": "https://localhost:8080/"
    },
    "id": "R_KrcNbjlslX",
    "outputId": "28d1d187-b896-4173-cd2b-9309d62981c3"
   },
   "outputs": [],
   "source": [
    "imdb_train_v3 = vectorizer_v3.fit_transform(imdb_train.data)\n",
    "imdb_test_v3 = vectorizer_v3.transform(imdb_test.data)\n",
    "imdb_train_v3_data = sp.vstack([imdb_train_v3,imdb_test_v3])\n",
    "\n",
    "#print(vectorizer_v3.get_feature_names())\n",
    "\n",
    "imdb_train_v4 = vectorizer_v4.fit_transform(imdb_train.data)\n",
    "imdb_test_v4 = vectorizer_v4.transform(imdb_test.data)\n",
    "imdb_train_v4_data = sp.vstack([imdb_train_v4,imdb_test_v4])"
   ]
  },
  {
   "cell_type": "markdown",
   "metadata": {
    "id": "UB0cYeeTKcO6"
   },
   "source": [
    "### remove stopwords, words with low accuracy, and meaningless number"
   ]
  },
  {
   "cell_type": "code",
   "execution_count": 13,
   "metadata": {
    "id": "Bs6Clq8OK3P_"
   },
   "outputs": [],
   "source": [
    "# This version works well for the IMDB dataset since min_df removes most unfrequent words\n",
    "# so that we have sufficient memory for computation.\n",
    "vectorizer_v5 = CountVectorizer(stop_words = sw, token_pattern = '[a-z]+', min_df = 0.001)\n",
    "imdb_train_v5 = vectorizer_v5.fit_transform(imdb_train.data)\n",
    "imdb_test_v5 = vectorizer_v5.transform(imdb_test.data)\n",
    "imdb_train_v5_data = sp.vstack([imdb_train_v5,imdb_test_v5])\n"
   ]
  },
  {
   "cell_type": "markdown",
   "metadata": {
    "id": "POaFpx5olxKp"
   },
   "source": [
    "### Tfidf data processing on different version of countVectorizer"
   ]
  },
  {
   "cell_type": "code",
   "execution_count": 14,
   "metadata": {
    "id": "-SlQKqdumAvk"
   },
   "outputs": [],
   "source": [
    "imdb_train_tfidf_v1 = tfidf_transformer.fit_transform(imdb_train_v1)\n",
    "imdb_test_tfidf_v1 = tfidf_transformer.transform(imdb_test_v1)\n",
    "#print(imdb_train_tfidf.shape)\n",
    "\n",
    "imdb_train_tfidf_v2 = tfidf_transformer.fit_transform(imdb_train_v2)\n",
    "imdb_test_tfidf_v2 = tfidf_transformer.transform(imdb_test_v2)\n",
    "\n",
    "imdb_train_tfidf_v3 = tfidf_transformer.fit_transform(imdb_train_v3)\n",
    "imdb_test_tfidf_v3 = tfidf_transformer.transform(imdb_train_v3)\n",
    "\n",
    "imdb_train_tfidf_v4 = tfidf_transformer.fit_transform(imdb_train_v4)\n",
    "imdb_test_tfidf_v4 = tfidf_transformer.transform(imdb_train_v4)\n",
    "\n",
    "imdb_train_tfidf_v5 = tfidf_transformer.fit_transform(imdb_train_v5)\n",
    "imdb_test_tfidf_v5 = tfidf_transformer.transform(imdb_train_v5)"
   ]
  },
  {
   "cell_type": "markdown",
   "metadata": {
    "id": "uehUO7s5odhz"
   },
   "source": [
    "# Task 2: Implement Naive Bayes and k-fold cross validation"
   ]
  },
  {
   "cell_type": "markdown",
   "metadata": {
    "id": "4CKxbmHLo01R"
   },
   "source": [
    "## Fitting the data\n",
    "Below, first we implement the `fit` function that learns the model parameters. We use Laplace smoothing for the class prior using $\\alpha=\\beta=1$."
   ]
  },
  {
   "cell_type": "markdown",
   "metadata": {
    "id": "B8I1Cz0J09kr"
   },
   "source": [
    "## Bernoulli Naive Bayes"
   ]
  },
  {
   "cell_type": "markdown",
   "metadata": {
    "id": "TluKrrag-I4e"
   },
   "source": [
    "#### The following model will be used to classify datasets with two classes."
   ]
  },
  {
   "cell_type": "markdown",
   "metadata": {
    "id": "b26CumjZIP03"
   },
   "source": [
    "## Multinomial model for Naive Bayes"
   ]
  },
  {
   "cell_type": "code",
   "execution_count": 53,
   "metadata": {
    "id": "4MrVBHbnIg4U"
   },
   "outputs": [],
   "source": [
    "class MultinomialNaiveBayes:\n",
    "    def __init__(self):\n",
    "        return\n",
    "\n",
    "    def fit(self, x, y, sigma=1):\n",
    "        N, D = x.shape                          # get the shape from input data\n",
    "        C = np.max(y) + 1                       # number of class(y)\n",
    "        prob_table = np.zeros((C,D))            # table with occurance of word given class c. \n",
    "                                                # It goes from y = 1, ... , y = C\n",
    "        # From here on the implementation will be different, since we're dealing with multinomial dist.\n",
    "        Nc = np.zeros(C)\n",
    "        for c in range(C):\n",
    "            x_c = x[y == c]                     # slice all elements with a given label y\n",
    "            Nc[c] = x_c.shape[0]                # number of elements of class c\n",
    "            # calculates probability table with smoothing, default: alpha = beta = 1\n",
    "            prob_table[c,:] = (sigma + np.sum(x_c, axis = 0))  / (sigma*C  + np.sum(x_c))\n",
    "        \n",
    "        # Prior believe with smoothing (alpha_y, beta_y)\n",
    "        self.pi = (Nc + sigma)/(np.sum(Nc) + sigma*C)\n",
    "        self.prob_table = prob_table\n",
    "        return self\n",
    "\n",
    "        \n",
    "    def logsumexp(self, Z):                                                # dimension C x N\n",
    "        Zmax = np.max(Z,axis=0)                             # max over C\n",
    "        log_sum_exp = Zmax + np.log(np.sum(np.exp(Z - Zmax), axis=0))\n",
    "        return log_sum_exp\n",
    "\n",
    "    \n",
    "    def predict(self, input):\n",
    "        # The input is a numpy array of shape (C, D), it's acquired by fitting the test set\n",
    "        # on the vectorizer for training.\n",
    "        # Sigma being the normalization constant.\n",
    "\n",
    "        C, D = self.prob_table.shape            # obtain dimension of probability matrix\n",
    "        A = input.shape[0]                      # size of test set\n",
    "        # for numerical stability we work in the log domain\n",
    "        # we add a dimension because this is added to the log-likelihood matrix \n",
    "        # that assigns a likelihood for each class (C) to each test point, and so it is C x N\n",
    "        log_prior = np.log(self.pi)\n",
    "#         print(\"prior = \" + str(self.pi))\n",
    "#         print(log_prior.shape)\n",
    "        result = np.zeros((A, C))   # A x C\n",
    "        # print(result.shape)\n",
    "        for a in range (A):\n",
    "            log_prob = np.zeros(C)\n",
    "            if a % 1500 == 0:\n",
    "                print(f\"Currently predicting instance {a}\")\n",
    "            # loop over all class labels \n",
    "            for c in range(C):\n",
    "                # show progress since it takes a long tim\n",
    "                temp_c = self.prob_table[c]\n",
    "                exist = temp_c[input[a] > 0]\n",
    "                notExist = temp_c[input[a] == 0]\n",
    "                log_prob[c] = np.sum(np.log(exist))+np.sum(np.log(1-notExist)) \n",
    "                log_posterior = log_prior + log_prob\n",
    "#                 print(\"log_prior.shape: \" + str(log_prior.shape))\n",
    "#                 print(\"log_prob.shape: \" + str(log_prob.shape))\n",
    "#                 print(\"dimension of log_posterior: \" + str(log_posterior.shape))\n",
    "                # normalization involving logsumexp trick\n",
    "                result[a,:] = np.exp(log_posterior - self.logsumexp(log_posterior))\n",
    "        return result\n",
    "        "
   ]
  },
  {
   "cell_type": "code",
   "execution_count": null,
   "metadata": {
    "colab": {
     "base_uri": "https://localhost:8080/"
    },
    "id": "BtORGylCxwmG",
    "outputId": "3dab21b7-e3fb-47ec-e803-3488fea9801f"
   },
   "outputs": [
    {
     "name": "stdout",
     "output_type": "stream",
     "text": [
      "0.6120552310143388\n"
     ]
    }
   ],
   "source": [
    "clf3 = MultinomialNB()\n",
    "clf3.fit(twenty_train_v4, labels_train_twenty)\n",
    "y_pred_sklearn = clf3.predict(twenty_test_v4)\n",
    "accuracy_sklearn = evaluate_acc(y = labels_test_twenty, y_hat = y_pred_sklearn)\n",
    "print(accuracy_sklearn)"
   ]
  },
  {
   "cell_type": "markdown",
   "metadata": {
    "id": "yM1GmtnVytbB"
   },
   "source": [
    "## Prediction for new data"
   ]
  },
  {
   "cell_type": "code",
   "execution_count": 16,
   "metadata": {
    "id": "G-P5YIkO4eyo"
   },
   "outputs": [],
   "source": [
    "def evaluate_acc(y, y_hat):\n",
    "    accuracy = np.sum(y == y_hat) / y.shape[0]\n",
    "    return accuracy"
   ]
  },
  {
   "cell_type": "markdown",
   "metadata": {
    "id": "hSPvE8oIjzvB"
   },
   "source": [
    "##Cross Validation "
   ]
  },
  {
   "cell_type": "code",
   "execution_count": 17,
   "metadata": {
    "id": "ehboRQOAjyy0"
   },
   "outputs": [],
   "source": [
    "def cross_validation_split(x,k_folds):\n",
    "    #x: clean training dataset\n",
    "    #k_folds: The amount of folds we want to split the data into\n",
    "    # get the number of data samples in each split\n",
    "    N, D = x.shape  \n",
    "             # get the shape from input data\n",
    "    #N= 5\n",
    "    #print(N)\n",
    "    n_val = N // k_folds\n",
    "    #print(n_val)\n",
    "    tr_inds = []\n",
    "    val_inds = [] \n",
    "    \n",
    "    for f in range(k_folds): \n",
    "    \n",
    "     \n",
    "        #get the validation indexes\n",
    "                      \n",
    "        val_inds.append(list(range(f * n_val, (f+1)*n_val))) \n",
    "        #print(list(range(f * n_val, (f+1)*n_val+1)))\n",
    "        #get the train indexes\n",
    "        if f > 0:\n",
    "            tr_inds.append(list(range(f * n_val))) \n",
    "            #print(list(range(f * n_val)))\n",
    "        if f == 0: \n",
    "            tr_inds.append(list(range((f+1) * n_val, N))); \n",
    "         # print(list(range((f+1) * n_val, N)))\n",
    "        if (f < k_folds and f !=0):\n",
    "            tr_inds[f] = (tr_inds[f] + list(range((f+1) * n_val, N)))   \n",
    "\n",
    "    return val_inds, tr_inds  \n",
    "\n",
    "def kfoldCV(data, labels, val_inds, tr_inds, model, k, sigma):\n",
    "    accuracy_test= np.zeros(k);\n",
    "    for f, (val,tr) in enumerate(zip(val_inds,tr_inds)):\n",
    "        print(\"Fold \" + str(f+1) + \": \")\n",
    "        #print(val)\n",
    "        #print(tr);\n",
    "        #model1 = model.fit(twenty_train_v4.toarray(), labels_train_twenty, 1);\n",
    "        #y_prob = model1.predict(twenty_test_v4.toarray()); \n",
    "        #y_pred = np.argmax(y_prob, axis = 1);\n",
    "        model.fit(data[tr], labels[tr], sigma)\n",
    "        y_prob = model.predict(data[val])\n",
    "\n",
    "        y_pred = np.argmax(y_prob, axis = 1)\n",
    "        print()\n",
    "        accuracy_test[f] = evaluate_acc(y = labels[val], y_hat = y_pred);\n",
    "    \n",
    "    average = sum(accuracy_test)/len(accuracy_test); \n",
    "    return average; \n",
    "\n",
    "def kfoldCV2(data, labels, val_inds, tr_inds, model,k, sigma):\n",
    "    accuracy_test= np.zeros(k);\n",
    "    for f, (val,tr) in enumerate(zip(val_inds,tr_inds)):\n",
    "        print(\"Fold \" + str(f+1) + \": \")\n",
    "        #print(val)\n",
    "        #print(tr);\n",
    "        #model1 = model.fit(twenty_train_v4.toarray(), labels_train_twenty, 1);\n",
    "        #y_prob = model1.predict(twenty_test_v4.toarray()); \n",
    "        #y_pred = np.argmax(y_prob, axis = 1);\n",
    "        model.fit(data[tr], labels[tr], sigma)\n",
    "        y_prob = model.predict(data[val])\n",
    "\n",
    "        y_pred = np.argmax(y_prob, axis = 1)\n",
    "        print()\n",
    "        accuracy_test[f] = evaluate_acc(y = labels[val], y_hat = y_pred);\n",
    "     \n",
    "    return accuracy_test \n"
   ]
  },
  {
   "cell_type": "code",
   "execution_count": 18,
   "metadata": {
    "id": "2q9vrcjuzK7J"
   },
   "outputs": [],
   "source": [
    "def five_fold(data, labels):\n",
    "    data = data.toarray()\n",
    "    a,b = cross_validation_split(data,5)\n",
    "    temp_model = MultinomialNaiveBayes()\n",
    "    result = kfoldCV(data, labels, a, b, temp_model, 5, 1)\n",
    "    \n",
    "    return result;"
   ]
  },
  {
   "cell_type": "code",
   "execution_count": 19,
   "metadata": {
    "id": "jtJHYLrczJXK"
   },
   "outputs": [],
   "source": [
    "#define function that takes in a dataset, a model, and k fold cross validation that predicts accuracy\n",
    "def five_fold2(data, labels):\n",
    "    data = data.toarray()\n",
    "    a,b = cross_validation_split(data,5)\n",
    "    temp_model = MultinomialNaiveBayes()\n",
    "    result = kfoldCV2(data, labels, a, b, temp_model, 5, 1)\n",
    "    \n",
    "    return result;"
   ]
  },
  {
   "cell_type": "markdown",
   "metadata": {
    "id": "zVdFrBUISsft"
   },
   "source": [
    "# Task 3: Run experiments and comapre with logistic regression"
   ]
  },
  {
   "cell_type": "markdown",
   "metadata": {
    "id": "ZWUjSn5bmUAh"
   },
   "source": [
    "## Building environment for following experiments."
   ]
  },
  {
   "cell_type": "code",
   "execution_count": 20,
   "metadata": {
    "id": "wK4MfJ3lmTFP"
   },
   "outputs": [],
   "source": [
    "from sklearn.linear_model import LogisticRegression\n",
    "import warnings\n",
    "warnings.filterwarnings(\"ignore\")\n",
    "from sklearn.exceptions import ConvergenceWarning\n",
    "from sklearn.model_selection import cross_val_score\n",
    "from sklearn.model_selection import StratifiedKFold \n",
    "from sklearn.model_selection import GridSearchCV \n",
    "from sklearn.model_selection import train_test_split"
   ]
  },
  {
   "cell_type": "markdown",
   "metadata": {
    "id": "EKleJ_1_JfAc"
   },
   "source": [
    "### Experiment with naive bayes\n",
    "\n",
    "\n"
   ]
  },
  {
   "cell_type": "markdown",
   "metadata": {
    "id": "TI0RFYBtUcGS"
   },
   "source": [
    "Running Naive Bayes on both datasets with cross validation to choose best hyperparameters"
   ]
  },
  {
   "cell_type": "code",
   "execution_count": 22,
   "metadata": {
    "id": "xQL9eHg6JeK1"
   },
   "outputs": [],
   "source": [
    "# ## Run on different versions of preprocessing on Naive Bayes\n",
    "# x = twenty_train_v2.toarray()\n",
    "# model_cv_twenty_v2 = MultinomialNaiveBayes()\n",
    "# a,b = cross_validation_split(x,5)\n",
    "# average_twenty_v2=[]\n",
    "# predict_acc_v2=[]\n",
    "# for i in range(10): \n",
    "#     print(f\"testing hyperparameter: alpha = {i}\")\n",
    "#     #Execute k fold validation \n",
    "#     average_twenty_v2.append(kfoldCV(x, labels_train_twenty, a, b, model_cv_twenty_v2 ,5 ,i));\n",
    "    \n",
    "#     #On each fold, use the hyperparameter to make actual prediction on the test set\n",
    "#     model_cv_twenty_v2_pred = MultinomialNaiveBayes()\n",
    "#     model_cv_twenty_v2_pred.fit(twenty_train_v2.toarray(), labels_train_twenty, i)\n",
    "#     y_prob = model_cv_twenty_v2_pred.predict(twenty_test_v2.toarray())\n",
    "#     y_pred = np.argmax(y_prob, axis = 1)\n",
    "#     accuracy = evaluate_acc(y = labels_test_twenty, y_hat = y_pred)\n",
    "#     predict_acc_v2.append(accuracy)"
   ]
  },
  {
   "cell_type": "code",
   "execution_count": null,
   "metadata": {
    "id": "QEmF6jCBVEV_"
   },
   "outputs": [],
   "source": [
    "# K_list = range(10)\n",
    "# plt.plot(K_list, average_twenty_v2,  label='validation')\n",
    "# # plt.plot(K_list, average_twenty_v2, average_twenty_v2, label='validation')\n",
    "# plt.plot(K_list, predict_acc_v2, label = 'test')\n",
    "# #plt.errorbar(K_list, np.mean(average, axis=1), np.std(average, axis=1), label='validation')\n",
    "# plt.legend()\n",
    "# plt.xlabel('hyperparameter')\n",
    "# plt.ylabel('validation accuracy')\n",
    "# plt.title('20 News Groups Version 2')\n",
    "# plt.savefig('20_News_Groups_V2')\n",
    "# plt.show()"
   ]
  },
  {
   "cell_type": "code",
   "execution_count": 64,
   "metadata": {
    "id": "MANyyRCiVFjt"
   },
   "outputs": [],
   "source": [
    "# # run on version 4\n",
    "\n",
    "# x = twenty_train_v4.toarray()\n",
    "# model_cv_twenty_v4 = MultinomialNaiveBayes()\n",
    "# a,b = cross_validation_split(x,5)\n",
    "# average_twenty_v4=[]\n",
    "# predict_acc_v4=[]\n",
    "# for i in range(10): \n",
    "#     print(f\"testing hyperparameter: alpha = {i}\")\n",
    "#     #Execute k fold validation \n",
    "#     average_twenty_v4.append(kfoldCV(x, labels_train_twenty, a, b, model_cv_twenty_v4 ,5, i));\n",
    "    \n",
    "#     #On each fold, use the hyperparameter to make actual prediction on the test set\n",
    "#     model_cv_twenty_v4_pred = MultinomialNaiveBayes()\n",
    "#     model_cv_twenty_v4_pred.fit(twenty_train_v4.toarray(), labels_train_twenty, i)\n",
    "#     y_prob = model_cv_twenty_v4_pred.predict(twenty_test_v4.toarray())\n",
    "#     y_pred = np.argmax(y_prob, axis = 1)\n",
    "#     accuracy = evaluate_acc(y = labels_test_twenty, y_hat = y_pred)\n",
    "#     predict_acc_v4.append(accuracy)"
   ]
  },
  {
   "cell_type": "code",
   "execution_count": 63,
   "metadata": {
    "id": "7g9JH_odVH6h"
   },
   "outputs": [],
   "source": [
    "# K_list = range(10)\n",
    "# plt.plot(K_list, average_twenty_v4,  label='validation')\n",
    "# plt.plot(K_list, predict_acc_v4, label = 'test')\n",
    "# #plt.errorbar(K_list, np.mean(average, axis=1), np.std(average, axis=1), label='validation')\n",
    "# plt.legend()\n",
    "# plt.xlabel('hyperparameter')\n",
    "# plt.ylabel('validation accuracy')\n",
    "# plt.title('Twenty News Group Version 4')\n",
    "# plt.show()"
   ]
  },
  {
   "cell_type": "code",
   "execution_count": 62,
   "metadata": {
    "id": "dzvQT85gVPEN"
   },
   "outputs": [
    {
     "name": "stdout",
     "output_type": "stream",
     "text": [
      "testing hyperparameter: alpha = 0\n",
      "Fold 1: \n",
      "Currently predicting instance 0\n",
      "Currently predicting instance 1500\n",
      "\n",
      "Fold 2: \n",
      "Currently predicting instance 0\n",
      "Currently predicting instance 1500\n",
      "\n",
      "Fold 3: \n",
      "Currently predicting instance 0\n",
      "Currently predicting instance 1500\n",
      "\n",
      "Fold 4: \n",
      "Currently predicting instance 0\n",
      "Currently predicting instance 1500\n",
      "\n",
      "Fold 5: \n",
      "Currently predicting instance 0\n",
      "Currently predicting instance 1500\n",
      "\n",
      "Currently predicting instance 0\n",
      "Currently predicting instance 1500\n",
      "Currently predicting instance 3000\n",
      "Currently predicting instance 4500\n",
      "Currently predicting instance 6000\n",
      "Currently predicting instance 7500\n",
      "testing hyperparameter: alpha = 1\n",
      "Fold 1: \n",
      "Currently predicting instance 0\n",
      "Currently predicting instance 1500\n",
      "\n",
      "Fold 2: \n",
      "Currently predicting instance 0\n",
      "Currently predicting instance 1500\n",
      "\n",
      "Fold 3: \n",
      "Currently predicting instance 0\n",
      "Currently predicting instance 1500\n",
      "\n",
      "Fold 4: \n",
      "Currently predicting instance 0\n",
      "Currently predicting instance 1500\n",
      "\n",
      "Fold 5: \n",
      "Currently predicting instance 0\n",
      "Currently predicting instance 1500\n",
      "\n",
      "Currently predicting instance 0\n",
      "Currently predicting instance 1500\n",
      "Currently predicting instance 3000\n",
      "Currently predicting instance 4500\n",
      "Currently predicting instance 6000\n",
      "Currently predicting instance 7500\n",
      "testing hyperparameter: alpha = 2\n",
      "Fold 1: \n",
      "Currently predicting instance 0\n",
      "Currently predicting instance 1500\n",
      "\n",
      "Fold 2: \n",
      "Currently predicting instance 0\n",
      "Currently predicting instance 1500\n",
      "\n",
      "Fold 3: \n",
      "Currently predicting instance 0\n",
      "Currently predicting instance 1500\n",
      "\n",
      "Fold 4: \n",
      "Currently predicting instance 0\n",
      "Currently predicting instance 1500\n",
      "\n",
      "Fold 5: \n",
      "Currently predicting instance 0\n",
      "Currently predicting instance 1500\n",
      "\n",
      "Currently predicting instance 0\n",
      "Currently predicting instance 1500\n",
      "Currently predicting instance 3000\n",
      "Currently predicting instance 4500\n",
      "Currently predicting instance 6000\n",
      "Currently predicting instance 7500\n",
      "testing hyperparameter: alpha = 3\n",
      "Fold 1: \n",
      "Currently predicting instance 0\n",
      "Currently predicting instance 1500\n",
      "\n",
      "Fold 2: \n",
      "Currently predicting instance 0\n",
      "Currently predicting instance 1500\n",
      "\n",
      "Fold 3: \n",
      "Currently predicting instance 0\n",
      "Currently predicting instance 1500\n",
      "\n",
      "Fold 4: \n",
      "Currently predicting instance 0\n",
      "Currently predicting instance 1500\n",
      "\n",
      "Fold 5: \n",
      "Currently predicting instance 0\n",
      "Currently predicting instance 1500\n",
      "\n",
      "Currently predicting instance 0\n",
      "Currently predicting instance 1500\n",
      "Currently predicting instance 3000\n",
      "Currently predicting instance 4500\n",
      "Currently predicting instance 6000\n",
      "Currently predicting instance 7500\n",
      "testing hyperparameter: alpha = 4\n",
      "Fold 1: \n",
      "Currently predicting instance 0\n",
      "Currently predicting instance 1500\n",
      "\n",
      "Fold 2: \n",
      "Currently predicting instance 0\n",
      "Currently predicting instance 1500\n",
      "\n",
      "Fold 3: \n",
      "Currently predicting instance 0\n",
      "Currently predicting instance 1500\n",
      "\n",
      "Fold 4: \n",
      "Currently predicting instance 0\n",
      "Currently predicting instance 1500\n",
      "\n",
      "Fold 5: \n",
      "Currently predicting instance 0\n",
      "Currently predicting instance 1500\n",
      "\n",
      "Currently predicting instance 0\n",
      "Currently predicting instance 1500\n",
      "Currently predicting instance 3000\n",
      "Currently predicting instance 4500\n",
      "Currently predicting instance 6000\n",
      "Currently predicting instance 7500\n",
      "testing hyperparameter: alpha = 5\n",
      "Fold 1: \n",
      "Currently predicting instance 0\n",
      "Currently predicting instance 1500\n",
      "\n",
      "Fold 2: \n",
      "Currently predicting instance 0\n",
      "Currently predicting instance 1500\n",
      "\n",
      "Fold 3: \n",
      "Currently predicting instance 0\n",
      "Currently predicting instance 1500\n",
      "\n",
      "Fold 4: \n",
      "Currently predicting instance 0\n",
      "Currently predicting instance 1500\n",
      "\n",
      "Fold 5: \n",
      "Currently predicting instance 0\n",
      "Currently predicting instance 1500\n",
      "\n",
      "Currently predicting instance 0\n",
      "Currently predicting instance 1500\n",
      "Currently predicting instance 3000\n",
      "Currently predicting instance 4500\n",
      "Currently predicting instance 6000\n",
      "Currently predicting instance 7500\n",
      "testing hyperparameter: alpha = 6\n",
      "Fold 1: \n",
      "Currently predicting instance 0\n",
      "Currently predicting instance 1500\n",
      "\n",
      "Fold 2: \n",
      "Currently predicting instance 0\n",
      "Currently predicting instance 1500\n",
      "\n",
      "Fold 3: \n",
      "Currently predicting instance 0\n",
      "Currently predicting instance 1500\n",
      "\n",
      "Fold 4: \n",
      "Currently predicting instance 0\n",
      "Currently predicting instance 1500\n",
      "\n",
      "Fold 5: \n",
      "Currently predicting instance 0\n",
      "Currently predicting instance 1500\n",
      "\n",
      "Currently predicting instance 0\n",
      "Currently predicting instance 1500\n",
      "Currently predicting instance 3000\n",
      "Currently predicting instance 4500\n",
      "Currently predicting instance 6000\n",
      "Currently predicting instance 7500\n",
      "testing hyperparameter: alpha = 7\n",
      "Fold 1: \n",
      "Currently predicting instance 0\n",
      "Currently predicting instance 1500\n",
      "\n",
      "Fold 2: \n",
      "Currently predicting instance 0\n",
      "Currently predicting instance 1500\n",
      "\n",
      "Fold 3: \n",
      "Currently predicting instance 0\n",
      "Currently predicting instance 1500\n",
      "\n",
      "Fold 4: \n",
      "Currently predicting instance 0\n",
      "Currently predicting instance 1500\n",
      "\n",
      "Fold 5: \n",
      "Currently predicting instance 0\n",
      "Currently predicting instance 1500\n",
      "\n",
      "Currently predicting instance 0\n",
      "Currently predicting instance 1500\n",
      "Currently predicting instance 3000\n",
      "Currently predicting instance 4500\n",
      "Currently predicting instance 6000\n",
      "Currently predicting instance 7500\n",
      "testing hyperparameter: alpha = 8\n",
      "Fold 1: \n",
      "Currently predicting instance 0\n",
      "Currently predicting instance 1500\n",
      "\n",
      "Fold 2: \n",
      "Currently predicting instance 0\n",
      "Currently predicting instance 1500\n",
      "\n",
      "Fold 3: \n",
      "Currently predicting instance 0\n",
      "Currently predicting instance 1500\n",
      "\n",
      "Fold 4: \n",
      "Currently predicting instance 0\n",
      "Currently predicting instance 1500\n",
      "\n",
      "Fold 5: \n",
      "Currently predicting instance 0\n",
      "Currently predicting instance 1500\n",
      "\n",
      "Currently predicting instance 0\n",
      "Currently predicting instance 1500\n",
      "Currently predicting instance 3000\n",
      "Currently predicting instance 4500\n",
      "Currently predicting instance 6000\n",
      "Currently predicting instance 7500\n",
      "testing hyperparameter: alpha = 9\n",
      "Fold 1: \n",
      "Currently predicting instance 0\n",
      "Currently predicting instance 1500\n",
      "\n",
      "Fold 2: \n",
      "Currently predicting instance 0\n",
      "Currently predicting instance 1500\n",
      "\n",
      "Fold 3: \n",
      "Currently predicting instance 0\n",
      "Currently predicting instance 1500\n",
      "\n",
      "Fold 4: \n",
      "Currently predicting instance 0\n",
      "Currently predicting instance 1500\n",
      "\n",
      "Fold 5: \n",
      "Currently predicting instance 0\n",
      "Currently predicting instance 1500\n",
      "\n",
      "Currently predicting instance 0\n",
      "Currently predicting instance 1500\n",
      "Currently predicting instance 3000\n",
      "Currently predicting instance 4500\n",
      "Currently predicting instance 6000\n",
      "Currently predicting instance 7500\n"
     ]
    }
   ],
   "source": [
    "# run on version 5\n",
    "x = twenty_train_v5.toarray()\n",
    "model_cv_twenty_v5 = MultinomialNaiveBayes()\n",
    "a,b = cross_validation_split(x,5)\n",
    "average_twenty_v5=[]\n",
    "predict_acc_v5=[]\n",
    "for i in range(10): \n",
    "    print(f\"testing hyperparameter: alpha = {i}\")\n",
    "    #Execute k fold validation \n",
    "    average_twenty_v5.append(kfoldCV2(x, labels_train_twenty, a, b, model_cv_twenty_v5 ,5, i));\n",
    "    \n",
    "    #On each fold, use the hyperparameter to make actual prediction on the test set\n",
    "    model_cv_twenty_v5_pred = MultinomialNaiveBayes()\n",
    "    model_cv_twenty_v5_pred.fit(twenty_train_v5.toarray(), labels_train_twenty, i)\n",
    "    y_prob = model_cv_twenty_v5_pred.predict(twenty_test_v5.toarray())\n",
    "    y_pred = np.argmax(y_prob, axis = 1)\n",
    "    accuracy = evaluate_acc(y = labels_test_twenty, y_hat = y_pred)\n",
    "    predict_acc_v5.append(accuracy)"
   ]
  },
  {
   "cell_type": "code",
   "execution_count": 28,
   "metadata": {
    "id": "JinuH9XgVRD6"
   },
   "outputs": [
    {
     "data": {
      "image/png": "[encoded data removed]",
      "text/plain": [
       "<Figure size 432x288 with 1 Axes>"
      ]
     },
     "metadata": {
      "needs_background": "light"
     },
     "output_type": "display_data"
    }
   ],
   "source": [
    "K_list = range(10)\n",
    "plt.errorbar(K_list, np.mean(average_twenty_v5, axis=1), np.std(average_twenty_v5, axis=1), label='validation')\n",
    "plt.plot(K_list, predict_acc_v5, label = 'test')\n",
    "#plt.errorbar(K_list, np.mean(average, axis=1), np.std(average, axis=1), label='validation')\n",
    "plt.legend()\n",
    "plt.xlabel('hyperparameter')\n",
    "plt.ylabel('Accuracy')\n",
    "plt.title('Twenty News Group Version 5')\n",
    "plt.grid(color='gray', linestyle='--', linewidth=0.5)\n",
    "plt.savefig('20_News_Group_v5')\n",
    "plt.show()"
   ]
  },
  {
   "cell_type": "markdown",
   "metadata": {
    "id": "I7k9k1VbvTFK"
   },
   "source": [
    "## Use logistic regression on 20 news group dataset"
   ]
  },
  {
   "cell_type": "markdown",
   "metadata": {
    "id": "nh38plm6euZ6"
   },
   "source": [
    "### Choosing best training dataset to work with based on simple model"
   ]
  },
  {
   "cell_type": "code",
   "execution_count": 30,
   "metadata": {
    "colab": {
     "base_uri": "https://localhost:8080/",
     "height": 526
    },
    "id": "mfvlNIRqmGp-",
    "outputId": "ff1f2cb5-53a6-446e-adf1-670cbf1a9529"
   },
   "outputs": [
    {
     "name": "stdout",
     "output_type": "stream",
     "text": [
      "0.5954593733404142\n",
      "0.6186935740839087\n",
      "0.5953266064790228\n",
      "0.5817843866171004\n",
      "0.6736590546999469\n",
      "0.686404673393521\n"
     ]
    }
   ],
   "source": [
    "#Basic settings\n",
    "\n",
    "twenty_train_LR_1 = LogisticRegression(random_state=0,max_iter=200).fit(twenty_train_v1, labels_train_twenty)\n",
    "label_predict_1 = twenty_train_LR_1.predict(twenty_test_v1)\n",
    "print(twenty_train_LR_1.score(twenty_test_v1, labels_test_twenty))\n",
    "\n",
    "twenty_train_LR_2 = LogisticRegression(random_state=0,max_iter=200).fit(twenty_train_v2, labels_train_twenty)\n",
    "label_predict_2 = twenty_train_LR_2.predict(twenty_test_v2)\n",
    "print(twenty_train_LR_2.score(twenty_test_v2, labels_test_twenty))\n",
    "\n",
    "twenty_train_LR_3 = LogisticRegression(random_state=0,max_iter=200).fit(twenty_train_v3, labels_train_twenty)\n",
    "label_predict_3 = twenty_train_LR_3.predict(twenty_test_v3)\n",
    "print(twenty_train_LR_3.score(twenty_test_v3, labels_test_twenty))\n",
    "\n",
    "twenty_train_LR_4 = LogisticRegression(random_state=0,max_iter=200).fit(twenty_train_v4, labels_train_twenty)\n",
    "label_predict_4 = twenty_train_LR_4.predict(twenty_test_v4)\n",
    "print(twenty_train_LR_4.score(twenty_test_v4, labels_test_twenty))\n",
    "\n",
    "twenty_train_LR_tfidf_1 = LogisticRegression(random_state=0,max_iter=200).fit(twenty_train_tfidf_v1, labels_train_twenty)\n",
    "label_predict_tfidf_1 = twenty_train_LR_tfidf_1.predict(twenty_test_tfidf_v1)\n",
    "print(twenty_train_LR_tfidf_1.score(twenty_test_tfidf_v1,labels_test_twenty))\n",
    "\n",
    "twenty_train_LR_tfidf_2 = LogisticRegression(random_state=0,max_iter=200).fit(twenty_train_tfidf_v2, labels_train_twenty)\n",
    "label_predict_tfidf_2 = twenty_train_LR_tfidf_2.predict(twenty_test_tfidf_v2)\n",
    "print(twenty_train_LR_tfidf_2.score(twenty_test_tfidf_v2,labels_test_twenty))\n",
    "\n",
    "# twenty_train_LR_tfidf_3 = LogisticRegression(random_state=0,max_iter=200).fit(twenty_train_tfidf_v3, labels_train_twenty)\n",
    "# label_predict_tfidf_3 = twenty_train_LR_tfidf_3.predict(twenty_test_tfidf_v3)\n",
    "# print(twenty_train_LR_tfidf_3.score(twenty_test_tfidf_v3,labels_test_twenty))\n",
    "\n",
    "# twenty_train_LR_tfidf_4 = LogisticRegression(random_state=0,max_iter=200).fit(twenty_train_tfidf_v4, labels_train_twenty)\n",
    "# label_predict_tfidf_4 = twenty_train_LR_tfidf_4.predict(twenty_test_tfidf_v4)\n",
    "# print(twenty_train_LR_tfidf_4.score(twenty_test_tfidf_v4,labels_test_twenty))\n",
    "\n",
    "\n"
   ]
  },
  {
   "cell_type": "code",
   "execution_count": 60,
   "metadata": {
    "colab": {
     "base_uri": "https://localhost:8080/",
     "height": 425
    },
    "id": "ECQcDm1ImGLe",
    "outputId": "e68aa315-b980-4cca-f69e-bf4320912433"
   },
   "outputs": [],
   "source": [
    "# twenty_train_LR_tfidf_3 = LogisticRegression(random_state=0,max_iter=200).fit(twenty_train_tfidf_v3, labels_train_twenty)\n",
    "# label_predict_tfidf_3 = twenty_train_LR_tfidf_3.predict(twenty_test_tfidf_v3)\n",
    "# print(twenty_train_LR_tfidf_3.score(twenty_test_tfidf_v3,labels_test_twenty))"
   ]
  },
  {
   "cell_type": "code",
   "execution_count": 61,
   "metadata": {
    "colab": {
     "base_uri": "https://localhost:8080/",
     "height": 374
    },
    "id": "H3HXhRD1nLEy",
    "outputId": "1ed2c5cf-fb06-43a1-9e2a-67dfbd04644a"
   },
   "outputs": [],
   "source": [
    "# twenty_train_LR_tfidf_4 = LogisticRegression(random_state=0,max_iter=200).fit(twenty_train_tfidf_v4, labels_train_twenty)\n",
    "# label_predict_tfidf_4 = twenty_train_LR_tfidf_4.predict(twenty_test_tfidf_v4)\n",
    "# print(twenty_train_LR_tfidf_4.score(twenty_test_tfidf_v4,labels_test_twenty))"
   ]
  },
  {
   "cell_type": "markdown",
   "metadata": {
    "id": "0E-u0AKRkf09"
   },
   "source": [
    "### Choosing best hyper parameters using CV     \n",
    "### Hyperparameters are C and max_iter"
   ]
  },
  {
   "cell_type": "code",
   "execution_count": null,
   "metadata": {
    "colab": {
     "base_uri": "https://localhost:8080/"
    },
    "id": "BrGJDVWvkfN7",
    "outputId": "8fd59048-f690-4cc2-d785-efe8b526b283"
   },
   "outputs": [
    {
     "name": "stdout",
     "output_type": "stream",
     "text": [
      "Best: 0.752077 using {'C': 10.0, 'max_iter': 100}\n"
     ]
    }
   ],
   "source": [
    "C = [0.01,0.1,0.5,1.0,5.0,10.0]\n",
    "max_iter = [100,200]\n",
    "\n",
    "param_grid = dict(C=C,max_iter=max_iter)\n",
    "\n",
    "grid_search = GridSearchCV(twenty_train_LR_tfidf_2,param_grid,cv = 5)\n",
    "grid_result = grid_search.fit(twenty_train_tfidf_v2, labels_train_twenty)\n",
    "print(\"Best: %f using %s\" % (grid_result.best_score_,grid_search.best_params_))\n"
   ]
  },
  {
   "cell_type": "markdown",
   "metadata": {
    "id": "I1V2ZnO09IIe"
   },
   "source": [
    "### Applying the result getting from CV to the model"
   ]
  },
  {
   "cell_type": "code",
   "execution_count": null,
   "metadata": {
    "colab": {
     "base_uri": "https://localhost:8080/"
    },
    "id": "o0b3wmTV3uad",
    "outputId": "fdc2f75e-b815-4fb5-b4dc-205a5572343c"
   },
   "outputs": [
    {
     "name": "stdout",
     "output_type": "stream",
     "text": [
      "0.6881306425916092\n"
     ]
    }
   ],
   "source": [
    "twenty_train_LR_tfidf_2 = LogisticRegression(random_state=0,max_iter=100,C=10.0).fit(twenty_train_tfidf_v2, labels_train_twenty)\n",
    "label_predict_tfidf_2 = twenty_train_LR_tfidf_2.predict(twenty_test_tfidf_v2)\n",
    "print(twenty_train_LR_tfidf_2.score(twenty_test_tfidf_v2,labels_test_twenty))\n"
   ]
  },
  {
   "cell_type": "markdown",
   "metadata": {
    "id": "WfWNvWdrva-y"
   },
   "source": [
    "## Use logistic regression on IMDB dataset"
   ]
  },
  {
   "cell_type": "markdown",
   "metadata": {
    "id": "IT3JNvoQORTp"
   },
   "source": [
    "### Chossing best training dataset to work with based on simple model"
   ]
  },
  {
   "cell_type": "code",
   "execution_count": null,
   "metadata": {
    "colab": {
     "base_uri": "https://localhost:8080/"
    },
    "id": "P_BhALcUYgf2",
    "outputId": "968a14e4-697d-4e5b-f893-6046ff6749d7"
   },
   "outputs": [
    {
     "name": "stdout",
     "output_type": "stream",
     "text": [
      "0.8656\n",
      "0.86308\n",
      "0.86416\n",
      "0.85908\n",
      "0.85352\n",
      "0.88316\n",
      "0.8834\n",
      "0.9362\n",
      "0.92216\n",
      "0.92452\n"
     ]
    }
   ],
   "source": [
    "\n",
    "imdb_train_LR_1 = LogisticRegression(random_state=0,max_iter=200).fit(imdb_train_v1, labels_train_imdb)\n",
    "imdb_predict_1 = imdb_train_LR_1.predict(imdb_test_v1)\n",
    "print(imdb_train_LR_1.score(imdb_test_v1,labels_test_imdb))\n",
    "\n",
    "imdb_train_LR_2 = LogisticRegression(random_state=0,max_iter=200).fit(imdb_train_v2, labels_train_imdb)\n",
    "imdb_predict_2 = imdb_train_LR_2.predict(imdb_test_v2)\n",
    "print(imdb_train_LR_2.score(imdb_test_v2,labels_test_imdb))\n",
    "\n",
    "imdb_train_LR_3 = LogisticRegression(random_state=0,max_iter=200).fit(imdb_train_v3, labels_train_imdb)\n",
    "imdb_predict_3 = imdb_train_LR_3.predict(imdb_test_v3)\n",
    "print(imdb_train_LR_3.score(imdb_test_v3,labels_test_imdb))\n",
    "\n",
    "imdb_train_LR_4 = LogisticRegression(random_state=0,max_iter=200).fit(imdb_train_v4, labels_train_imdb)\n",
    "imdb_predict_4 = imdb_train_LR_4.predict(imdb_test_v4)\n",
    "print(imdb_train_LR_4.score(imdb_test_v4,labels_test_imdb))\n",
    "\n",
    "imdb_train_LR_5 = LogisticRegression(random_state=0,max_iter=200).fit(imdb_train_v5, labels_train_imdb)\n",
    "imdb_predict_5 = imdb_train_LR_5.predict(imdb_test_v5)\n",
    "print(imdb_train_LR_5.score(imdb_test_v5,labels_test_imdb))\n",
    "\n",
    "imdb_train_LR_tfidf_1 = LogisticRegression(random_state=0,max_iter=200).fit(imdb_train_tfidf_v1, labels_train_imdb)\n",
    "imdb_predict_tfidf_1 = imdb_train_LR_tfidf_1.predict(imdb_test_tfidf_v1)\n",
    "print(imdb_train_LR_tfidf_1.score(imdb_test_tfidf_v1,labels_test_imdb))\n",
    "\n",
    "imdb_train_LR_tfidf_2 = LogisticRegression(random_state=0,max_iter=200).fit(imdb_train_tfidf_v2, labels_train_imdb)\n",
    "imdb_predict_tfidf_2 = imdb_train_LR_tfidf_2.predict(imdb_test_tfidf_v2)\n",
    "print(imdb_train_LR_tfidf_2.score(imdb_test_tfidf_v2,labels_test_imdb))\n",
    "\n",
    "imdb_train_LR_tfidf_3 = LogisticRegression(random_state=0,max_iter=200).fit(imdb_train_tfidf_v3, labels_train_imdb)\n",
    "imdb_predict_tfidf_3 = imdb_train_LR_tfidf_3.predict(imdb_test_tfidf_v3)\n",
    "print(imdb_train_LR_tfidf_3.score(imdb_test_tfidf_v3,labels_test_imdb))\n",
    "\n",
    "imdb_train_LR_tfidf_4 = LogisticRegression(random_state=0,max_iter=200).fit(imdb_train_tfidf_v4, labels_train_imdb)\n",
    "imdb_predict_tfidf_4 = imdb_train_LR_tfidf_4.predict(imdb_test_tfidf_v4)\n",
    "print(imdb_train_LR_tfidf_4.score(imdb_test_tfidf_v4,labels_test_imdb))\n",
    "\n",
    "imdb_train_LR_tfidf_5 = LogisticRegression(random_state=0,max_iter=200).fit(imdb_train_tfidf_v5, labels_train_imdb)\n",
    "imdb_predict_tfidf_5 = imdb_train_LR_tfidf_5.predict(imdb_test_tfidf_v5)\n",
    "print(imdb_train_LR_tfidf_5.score(imdb_test_tfidf_v5,labels_test_imdb))\n"
   ]
  },
  {
   "cell_type": "markdown",
   "metadata": {
    "id": "8DiTZyaaQx7P"
   },
   "source": [
    "### Choosing best hyper parameters using CV     \n",
    "### Hyperparameters are C and max_iter"
   ]
  },
  {
   "cell_type": "code",
   "execution_count": null,
   "metadata": {
    "colab": {
     "base_uri": "https://localhost:8080/"
    },
    "id": "F07rnudbRGop",
    "outputId": "0468bf8a-8675-4d40-fdb2-97dfb9a4038a"
   },
   "outputs": [
    {
     "name": "stdout",
     "output_type": "stream",
     "text": [
      "Best: 0.894080 using {'C': 5.0, 'max_iter': 100}\n"
     ]
    }
   ],
   "source": [
    "#Set two hyperparameters that I want to test on as array\n",
    "C = [0.01,0.1,0.3,0.5,1.0,2.0,5.0,10.0,15.0]\n",
    "max_iter = [100,200,300]\n",
    "\n",
    "#Since gridsearchcv accept list or dictionary, we translate the array into dictionary\n",
    "param_grid = dict(C=C,max_iter=max_iter)\n",
    "\n",
    "#Use the gridsearchcv to findout the best result and print to the scree with k-fold=5\n",
    "grid_search = GridSearchCV(imdb_train_LR_tfidf_3,param_grid,cv = 5)\n",
    "grid_result = grid_search.fit(imdb_train_tfidf_v3, labels_train_imdb)\n",
    "\n",
    "print(\"Best: %f using %s\" % (grid_result.best_score_,grid_search.best_params_))\n"
   ]
  },
  {
   "cell_type": "markdown",
   "metadata": {
    "id": "J-yyzkyjbFUx"
   },
   "source": [
    "### Applying the result getting from CV to the model"
   ]
  },
  {
   "cell_type": "code",
   "execution_count": null,
   "metadata": {
    "colab": {
     "base_uri": "https://localhost:8080/"
    },
    "id": "4XRysqkoa9BE",
    "outputId": "bc2785b3-4b0a-47af-9cf2-2d9ebed116ad"
   },
   "outputs": [
    {
     "name": "stdout",
     "output_type": "stream",
     "text": [
      "0.97648\n"
     ]
    }
   ],
   "source": [
    "imdb_train_LR_tfidf_3_1 = LogisticRegression(random_state=0,max_iter=100,C=5.0).fit(imdb_train_tfidf_v3, labels_train_imdb)\n",
    "imdb_predict_tfidf_3_1 = imdb_train_LR_tfidf_3_1.predict(imdb_test_tfidf_v3)\n",
    "print(imdb_train_LR_tfidf_3_1.score(imdb_test_tfidf_v3,labels_test_imdb))"
   ]
  },
  {
   "cell_type": "markdown",
   "metadata": {
    "id": "TIJzaup5VfnT"
   },
   "source": [
    "# create table for comparison between logistic regression and naive bayes"
   ]
  },
  {
   "cell_type": "code",
   "execution_count": 52,
   "metadata": {
    "colab": {
     "base_uri": "https://localhost:8080/",
     "height": 197
    },
    "id": "tJ51TfhN1N5a",
    "outputId": "823bf071-cecb-4a9b-9bf2-7e8def34fff6"
   },
   "outputs": [
    {
     "name": "stdout",
     "output_type": "stream",
     "text": [
      "Fold 1: \n",
      "Currently predicting instance 1500\n",
      "Currently predicting instance 1500\n",
      "Currently predicting instance 1500\n",
      "\n",
      "Fold 2: \n",
      "Currently predicting instance 1500\n",
      "Currently predicting instance 1500\n",
      "Currently predicting instance 1500\n",
      "\n",
      "Fold 3: \n",
      "Currently predicting instance 1500\n",
      "Currently predicting instance 1500\n",
      "Currently predicting instance 1500\n",
      "\n",
      "Fold 4: \n",
      "Currently predicting instance 1500\n",
      "Currently predicting instance 1500\n",
      "Currently predicting instance 1500\n",
      "\n",
      "Fold 5: \n",
      "Currently predicting instance 1500\n",
      "Currently predicting instance 1500\n",
      "Currently predicting instance 1500\n",
      "\n",
      "Fold 1: \n",
      "Currently predicting instance 1500\n",
      "Currently predicting instance 1500\n",
      "Currently predicting instance 1500\n",
      "\n",
      "Fold 2: \n",
      "Currently predicting instance 1500\n",
      "Currently predicting instance 1500\n",
      "Currently predicting instance 1500\n",
      "\n",
      "Fold 3: \n",
      "Currently predicting instance 1500\n",
      "Currently predicting instance 1500\n",
      "Currently predicting instance 1500\n",
      "\n",
      "Fold 4: \n",
      "Currently predicting instance 1500\n",
      "Currently predicting instance 1500\n",
      "Currently predicting instance 1500\n",
      "\n",
      "Fold 5: \n",
      "Currently predicting instance 1500\n",
      "Currently predicting instance 1500\n",
      "Currently predicting instance 1500\n",
      "\n",
      "Fold 1: \n",
      "Currently predicting instance 1500\n",
      "Currently predicting instance 1500\n",
      "Currently predicting instance 1500\n",
      "\n",
      "Fold 2: \n",
      "Currently predicting instance 1500\n",
      "Currently predicting instance 1500\n",
      "Currently predicting instance 1500\n",
      "\n",
      "Fold 3: \n",
      "Currently predicting instance 1500\n",
      "Currently predicting instance 1500\n",
      "Currently predicting instance 1500\n",
      "\n",
      "Fold 4: \n",
      "Currently predicting instance 1500\n",
      "Currently predicting instance 1500\n",
      "Currently predicting instance 1500\n",
      "\n",
      "Fold 5: \n",
      "Currently predicting instance 1500\n",
      "Currently predicting instance 1500\n",
      "Currently predicting instance 1500\n",
      "\n",
      "Fold 1: \n",
      "Currently predicting instance 1500\n",
      "Currently predicting instance 1500\n",
      "Currently predicting instance 1500\n",
      "\n",
      "Fold 2: \n",
      "Currently predicting instance 1500\n",
      "Currently predicting instance 1500\n",
      "Currently predicting instance 1500\n",
      "\n",
      "Fold 3: \n",
      "Currently predicting instance 1500\n",
      "Currently predicting instance 1500\n",
      "Currently predicting instance 1500\n",
      "\n",
      "Fold 4: \n",
      "Currently predicting instance 1500\n",
      "Currently predicting instance 1500\n",
      "Currently predicting instance 1500\n",
      "\n",
      "Fold 5: \n",
      "Currently predicting instance 1500\n",
      "Currently predicting instance 1500\n",
      "Currently predicting instance 1500\n",
      "\n",
      "Fold 1: \n",
      "Currently predicting instance 1500\n",
      "Currently predicting instance 1500\n",
      "Currently predicting instance 1500\n",
      "\n",
      "Fold 2: \n",
      "Currently predicting instance 1500\n",
      "Currently predicting instance 1500\n",
      "Currently predicting instance 1500\n",
      "\n",
      "Fold 3: \n",
      "Currently predicting instance 1500\n",
      "Currently predicting instance 1500\n",
      "Currently predicting instance 1500\n",
      "\n",
      "Fold 4: \n",
      "Currently predicting instance 1500\n",
      "Currently predicting instance 1500\n",
      "Currently predicting instance 1500\n",
      "\n",
      "Fold 5: \n",
      "Currently predicting instance 1500\n",
      "Currently predicting instance 1500\n",
      "Currently predicting instance 1500\n",
      "\n",
      "Fold 1: \n",
      "Currently predicting instance 1500\n",
      "Currently predicting instance 1500\n",
      "Currently predicting instance 1500\n",
      "Currently predicting instance 1500\n",
      "Currently predicting instance 1500\n",
      "\n",
      "Fold 2: \n",
      "Currently predicting instance 1500\n",
      "Currently predicting instance 1500\n",
      "Currently predicting instance 1500\n",
      "Currently predicting instance 1500\n",
      "Currently predicting instance 1500\n",
      "\n",
      "Fold 3: \n",
      "Currently predicting instance 1500\n",
      "Currently predicting instance 1500\n",
      "Currently predicting instance 1500\n",
      "Currently predicting instance 1500\n",
      "Currently predicting instance 1500\n",
      "\n",
      "Fold 4: \n",
      "Currently predicting instance 1500\n",
      "Currently predicting instance 1500\n",
      "Currently predicting instance 1500\n",
      "Currently predicting instance 1500\n",
      "Currently predicting instance 1500\n",
      "\n",
      "Fold 5: \n",
      "Currently predicting instance 1500\n",
      "Currently predicting instance 1500\n",
      "Currently predicting instance 1500\n",
      "Currently predicting instance 1500\n",
      "Currently predicting instance 1500\n",
      "\n",
      "Fold 1: \n",
      "Currently predicting instance 1500\n",
      "Currently predicting instance 1500\n",
      "Currently predicting instance 1500\n",
      "Currently predicting instance 1500\n",
      "Currently predicting instance 1500\n",
      "\n",
      "Fold 2: \n",
      "Currently predicting instance 1500\n",
      "Currently predicting instance 1500\n",
      "Currently predicting instance 1500\n",
      "Currently predicting instance 1500\n",
      "Currently predicting instance 1500\n",
      "\n",
      "Fold 3: \n",
      "Currently predicting instance 1500\n",
      "Currently predicting instance 1500\n",
      "Currently predicting instance 1500\n",
      "Currently predicting instance 1500\n",
      "Currently predicting instance 1500\n",
      "\n",
      "Fold 4: \n",
      "Currently predicting instance 1500\n",
      "Currently predicting instance 1500\n",
      "Currently predicting instance 1500\n",
      "Currently predicting instance 1500\n",
      "Currently predicting instance 1500\n",
      "\n",
      "Fold 5: \n",
      "Currently predicting instance 1500\n",
      "Currently predicting instance 1500\n",
      "Currently predicting instance 1500\n",
      "Currently predicting instance 1500\n",
      "Currently predicting instance 1500\n",
      "\n"
     ]
    }
   ],
   "source": [
    "acc1_twenty = five_fold2(twenty_train_v1, labels_train_twenty)\n",
    "acc2_twenty = five_fold2(twenty_train_v2, labels_train_twenty)\n",
    "acc3_twenty = five_fold2(twenty_train_v3, labels_train_twenty)\n",
    "acc4_twenty = five_fold2(twenty_train_v4, labels_train_twenty)\n",
    "acc5_twenty = five_fold2(twenty_train_v5, labels_train_twenty)\n",
    "\n",
    "twenty_cv_table = np.array([acc1_twenty, acc2_twenty, acc3_twenty, acc4_twenty, acc5_twenty])\n",
    "\n",
    "acc4_imdb = five_fold2(imdb_train_v4, labels_train_imdb)\n",
    "acc5_imdb = five_fold2(imdb_train_v5, labels_train_imdb)\n",
    "\n",
    "imdb_cv_table = np.array([acc4_imdb, acc5_imdb])"
   ]
  },
  {
   "cell_type": "code",
   "execution_count": 56,
   "metadata": {},
   "outputs": [
    {
     "name": "stdout",
     "output_type": "stream",
     "text": [
      "5-fold cross validation results from 20NewsGroups: \n",
      "[[0.60963749 0.6127321  0.61317418 0.63660477 0.6127321 ]\n",
      " [0.62422635 0.63218391 0.63041556 0.64146773 0.62820513]\n",
      " [0.61052166 0.61803714 0.61229001 0.63351017 0.61803714]\n",
      " [0.61494253 0.61803714 0.62290009 0.64190981 0.62334218]\n",
      " [0.62953139 0.63262599 0.63129973 0.65428824 0.62422635]]\n",
      "\n",
      "5-fold cross validation results from IMDB: \n",
      "[[0.844  0.8412 0.856  0.8466 0.846 ]\n",
      " [0.85   0.8532 0.868  0.8572 0.8558]]\n"
     ]
    }
   ],
   "source": [
    "print(\"5-fold cross validation results from 20NewsGroups: \")\n",
    "print(twenty_cv_table)\n",
    "print()\n",
    "print(\"5-fold cross validation results from IMDB: \")\n",
    "print(imdb_cv_table)"
   ]
  },
  {
   "cell_type": "code",
   "execution_count": 58,
   "metadata": {},
   "outputs": [
    {
     "name": "stdout",
     "output_type": "stream",
     "text": [
      "Currently predicting instance 0\n",
      "Currently predicting instance 1500\n",
      "Currently predicting instance 3000\n",
      "Currently predicting instance 4500\n",
      "Currently predicting instance 6000\n",
      "Currently predicting instance 7500\n",
      "0.582979288369623\n"
     ]
    }
   ],
   "source": [
    "model_evaluate = MultinomialNaiveBayes()\n",
    "model_evaluate.fit(twenty_train_v4.toarray(), labels_train_twenty, 1)\n",
    "y_prob = model_evaluate.predict(twenty_test_v4.toarray())\n",
    "y_pred = np.argmax(y_prob, axis = 1)\n",
    "accuracy = evaluate_acc(y = labels_test_twenty, y_hat = y_pred)\n",
    "print(accuracy)"
   ]
  },
  {
   "cell_type": "code",
   "execution_count": 59,
   "metadata": {},
   "outputs": [
    {
     "name": "stdout",
     "output_type": "stream",
     "text": [
      "Currently predicting instance 0\n",
      "Currently predicting instance 1500\n",
      "Currently predicting instance 3000\n",
      "Currently predicting instance 4500\n",
      "Currently predicting instance 6000\n",
      "Currently predicting instance 7500\n",
      "Currently predicting instance 9000\n",
      "Currently predicting instance 10500\n",
      "Currently predicting instance 12000\n",
      "Currently predicting instance 13500\n",
      "Currently predicting instance 15000\n",
      "Currently predicting instance 16500\n",
      "Currently predicting instance 18000\n",
      "Currently predicting instance 19500\n",
      "Currently predicting instance 21000\n",
      "Currently predicting instance 22500\n",
      "Currently predicting instance 24000\n",
      "0.83196\n"
     ]
    }
   ],
   "source": [
    "model_evaluate = MultinomialNaiveBayes()\n",
    "model_evaluate.fit(imdb_train_v4.toarray(), labels_train_imdb, 1)\n",
    "y_prob = model_evaluate.predict(imdb_test_v4.toarray())\n",
    "y_pred = np.argmax(y_prob, axis = 1)\n",
    "accuracy = evaluate_acc(y = labels_test_imdb, y_hat = y_pred)\n",
    "print(accuracy)"
   ]
  },
  {
   "cell_type": "markdown",
   "metadata": {
    "id": "K8FJ8hRA3bFX"
   },
   "source": [
    "# Using best hyper parameters to do the size changing experiment"
   ]
  },
  {
   "cell_type": "markdown",
   "metadata": {
    "id": "v0E7lcyVLx3g"
   },
   "source": [
    "Processing the data with  20%,40%,60%,80% subset of tfidf dataset"
   ]
  },
  {
   "cell_type": "code",
   "execution_count": 47,
   "metadata": {
    "id": "WLBr4wtJ3h16"
   },
   "outputs": [],
   "source": [
    "datasize_20_train_twenty = twenty_train_tfidf_v2[:round(0.2 * twenty_train_tfidf_v2.shape[0])]\n",
    "label_20_train_twenty = labels_train_twenty[:round(0.2 * twenty_train_tfidf_v2.shape[0])]\n",
    "\n",
    "datasize_40_train_twenty = twenty_train_tfidf_v2[:round(0.4 * twenty_train_tfidf_v2.shape[0])]\n",
    "label_40_train_twenty = labels_train_twenty[:round(0.4 * twenty_train_tfidf_v2.shape[0])]\n",
    "\n",
    "datasize_60_train_twenty = twenty_train_tfidf_v2[:round(0.6 * twenty_train_tfidf_v2.shape[0])]\n",
    "label_60_train_twenty = labels_train_twenty[:round(0.6 * twenty_train_tfidf_v2.shape[0])]\n",
    "\n",
    "datasize_80_train_twenty = twenty_train_tfidf_v2[:round(0.8 * twenty_train_tfidf_v2.shape[0])]\n",
    "label_80_train_twenty = labels_train_twenty[:round(0.8 * twenty_train_tfidf_v2.shape[0])]\n"
   ]
  },
  {
   "cell_type": "code",
   "execution_count": 49,
   "metadata": {
    "id": "29wmbuUwkZwO"
   },
   "outputs": [],
   "source": [
    "datasize_20_train_imdb = imdb_train_tfidf_v3[:round(0.2 * imdb_train_tfidf_v3.shape[0])]\n",
    "label_20_train_imdb = labels_train_imdb[:round(0.2 * imdb_train_tfidf_v3.shape[0])]\n",
    "\n",
    "datasize_40_train_imdb = imdb_train_tfidf_v3[:round(0.4 * imdb_train_tfidf_v3.shape[0])]\n",
    "label_40_train_imdb = labels_train_imdb[:round(0.4 * imdb_train_tfidf_v3.shape[0])]\n",
    "\n",
    "datasize_60_train_imdb = imdb_train_tfidf_v3[:round(0.6 * imdb_train_tfidf_v3.shape[0])]\n",
    "label_60_train_imdb = labels_train_imdb[:round(0.6 * imdb_train_tfidf_v3.shape[0])]\n",
    "\n",
    "datasize_80_train_imdb = imdb_train_tfidf_v3[:round(0.8 * imdb_train_tfidf_v3.shape[0])]\n",
    "label_80_train_imdb = labels_train_imdb[:round(0.8 * imdb_train_tfidf_v3.shape[0])]"
   ]
  },
  {
   "cell_type": "code",
   "execution_count": 51,
   "metadata": {},
   "outputs": [
    {
     "name": "stdout",
     "output_type": "stream",
     "text": [
      "0.6083377588953797\n",
      "0.6566648964418481\n",
      "0.669012214551248\n",
      "0.6809612320764737\n"
     ]
    }
   ],
   "source": [
    "#Choose max_iter=100 and C=10.0 on 20 news group dataset\n",
    "# max_iter=100 and C=5.0 and tfidf_v3 on imdb dataset\n",
    "twenty_train_LR_tfidf_20 = LogisticRegression(random_state=0,max_iter=100,C=10.0).fit(datasize_20_train_twenty, label_20_train_twenty)\n",
    "label_predict_tfidf_20 = twenty_train_LR_tfidf_20.predict(twenty_test_tfidf_v2)\n",
    "print(twenty_train_LR_tfidf_20.score(twenty_test_tfidf_v2,labels_test_twenty))\n",
    "\n",
    "twenty_train_LR_tfidf_40 = LogisticRegression(random_state=0,max_iter=100,C=10.0).fit(datasize_40_train_twenty, label_40_train_twenty)\n",
    "label_predict_tfidf_40 = twenty_train_LR_tfidf_40.predict(twenty_test_tfidf_v2)\n",
    "print(twenty_train_LR_tfidf_40.score(twenty_test_tfidf_v2,labels_test_twenty))\n",
    "\n",
    "\n",
    "twenty_train_LR_tfidf_60 = LogisticRegression(random_state=0,max_iter=100,C=10.0).fit(datasize_60_train_twenty, label_60_train_twenty)\n",
    "label_predict_tfidf_60 = twenty_train_LR_tfidf_60.predict(twenty_test_tfidf_v2)\n",
    "print(twenty_train_LR_tfidf_60.score(twenty_test_tfidf_v2,labels_test_twenty))\n",
    "\n",
    "\n",
    "twenty_train_LR_tfidf_80 = LogisticRegression(random_state=0,max_iter=100,C=10.0).fit(datasize_80_train_twenty, label_80_train_twenty)\n",
    "label_predict_tfidf_80 = twenty_train_LR_tfidf_80.predict(twenty_test_tfidf_v2)\n",
    "print(twenty_train_LR_tfidf_80.score(twenty_test_tfidf_v2,labels_test_twenty))\n"
   ]
  },
  {
   "cell_type": "code",
   "execution_count": null,
   "metadata": {
    "colab": {
     "base_uri": "https://localhost:8080/"
    },
    "id": "4q_T5sV-V_NF",
    "outputId": "d9218bf8-ef46-4c4a-f4ca-ea03482787ec"
   },
   "outputs": [
    {
     "name": "stdout",
     "output_type": "stream",
     "text": [
      "0.89752\n",
      "0.92492\n",
      "0.94436\n",
      "0.9614\n"
     ]
    }
   ],
   "source": [
    "#With imdb dataset\n",
    "imdb_LR_tfidf_20 = LogisticRegression(random_state=0,max_iter=100,C=5.0).fit(datasize_20_train_imdb, label_20_train_imdb)\n",
    "imdb_predict_tfidf_20 = imdb_LR_tfidf_20.predict(imdb_test_tfidf_v3)\n",
    "print(imdb_LR_tfidf_20.score(imdb_test_tfidf_v3,labels_test_imdb))\n",
    "\n",
    "imdb_LR_tfidf_40 = LogisticRegression(random_state=0,max_iter=100,C=5.0).fit(datasize_40_train_imdb, label_40_train_imdb)\n",
    "imdb_predict_tfidf_40 = imdb_LR_tfidf_40.predict(imdb_test_tfidf_v3)\n",
    "print(imdb_LR_tfidf_40.score(imdb_test_tfidf_v3,labels_test_imdb))\n",
    "\n",
    "\n",
    "imdb_LR_tfidf_60 = LogisticRegression(random_state=0,max_iter=100,C=5.0).fit(datasize_60_train_imdb, label_60_train_imdb)\n",
    "imdb_predict_tfidf_60 = imdb_LR_tfidf_60.predict(imdb_test_tfidf_v3)\n",
    "print(imdb_LR_tfidf_60.score(imdb_test_tfidf_v3,labels_test_imdb))\n",
    "\n",
    "\n",
    "imdb_LR_tfidf_80 = LogisticRegression(random_state=0,max_iter=100,C=5.0).fit(datasize_80_train_imdb, label_80_train_imdb)\n",
    "imdb_tfidf_80 = imdb_LR_tfidf_80.predict(imdb_test_tfidf_v3)\n",
    "print(imdb_LR_tfidf_80.score(imdb_test_tfidf_v3,labels_test_imdb))"
   ]
  },
  {
   "cell_type": "code",
   "execution_count": 43,
   "metadata": {
    "id": "DzQMCPMLzh0M"
   },
   "outputs": [],
   "source": [
    "datasize_20_train_twenty = twenty_train_v5[:round(0.2 * twenty_train_v5.shape[0])]\n",
    "label_20_train_twenty = labels_train_twenty[:round(0.2 * twenty_train_v5.shape[0])]\n",
    "\n",
    "datasize_40_train_twenty = twenty_train_v5[:round(0.4 * twenty_train_v5.shape[0])]\n",
    "label_40_train_twenty = labels_train_twenty[:round(0.4 * twenty_train_v5.shape[0])]\n",
    "\n",
    "datasize_60_train_twenty = twenty_train_v5[:round(0.6 * twenty_train_v5.shape[0])]\n",
    "label_60_train_twenty = labels_train_twenty[:round(0.6 * twenty_train_v5.shape[0])]\n",
    "\n",
    "datasize_80_train_twenty = twenty_train_v5[:round(0.8 * twenty_train_v5.shape[0])]\n",
    "label_80_train_twenty = labels_train_twenty[:round(0.8 * twenty_train_v5.shape[0])]"
   ]
  },
  {
   "cell_type": "code",
   "execution_count": 45,
   "metadata": {
    "id": "3aWd5iTQzjk7"
   },
   "outputs": [],
   "source": [
    "datasize_20_train_imdb = imdb_train_v5[:round(0.2 * imdb_train_v5.shape[0])]\n",
    "label_20_train_imdb = labels_train_imdb[:round(0.2 * imdb_train_v5.shape[0])]\n",
    "\n",
    "datasize_40_train_imdb = imdb_train_v5[:round(0.4 * imdb_train_v5.shape[0])]\n",
    "label_40_train_imdb = labels_train_imdb[:round(0.4 * imdb_train_v5.shape[0])]\n",
    "\n",
    "datasize_60_train_imdb = imdb_train_v5[:round(0.6 * imdb_train_v5.shape[0])]\n",
    "label_60_train_imdb = labels_train_imdb[:round(0.6 * imdb_train_v5.shape[0])]\n",
    "\n",
    "datasize_80_train_imdb = imdb_train_v5[:round(0.8 * imdb_train_v5.shape[0])]\n",
    "label_80_train_imdb = labels_train_imdb[:round(0.8 * imdb_train_v5.shape[0])]"
   ]
  },
  {
   "cell_type": "markdown",
   "metadata": {
    "id": "9KRqpJRpnCPk"
   },
   "source": [
    "Predict using subset data on 20 news group dataset"
   ]
  },
  {
   "cell_type": "markdown",
   "metadata": {
    "id": "G6uppGbAnHm3"
   },
   "source": [
    "Predict using subset data on imdb dataset"
   ]
  },
  {
   "cell_type": "code",
   "execution_count": null,
   "metadata": {
    "id": "-JnPh-Xyzm5x"
   },
   "outputs": [],
   "source": [
    "a = five_fold(datasize_20_train_twenty, label_20_train_twenty)\n",
    "b = five_fold(datasize_40_train_twenty, label_40_train_twenty)\n",
    "c = five_fold(datasize_60_train_twenty, label_60_train_twenty)\n",
    "d = five_fold(datasize_80_train_twenty, label_80_train_twenty)"
   ]
  },
  {
   "cell_type": "code",
   "execution_count": null,
   "metadata": {
    "id": "lTMd29Thzq1m"
   },
   "outputs": [],
   "source": [
    "twenty_train_partial_acc = np.array([a,b,c,d])\n",
    "print(\"20NewsGroups\")\n",
    "for i in range(twenty_train_partial_acc.shape[0]):\n",
    "    print(f\"{(i+1)*20} percent of training data results in {twenty_train_partial_acc[i]*100}% accuracy!\")"
   ]
  },
  {
   "cell_type": "code",
   "execution_count": null,
   "metadata": {
    "id": "-uI1fhDIzuq6"
   },
   "outputs": [],
   "source": [
    "a = five_fold(datasize_20_train_imdb, label_20_train_imdb)\n",
    "b = five_fold(datasize_40_train_imdb, label_40_train_imdb)\n",
    "c = five_fold(datasize_60_train_imdb, label_60_train_imdb)\n",
    "d = five_fold(datasize_80_train_imdb, label_80_train_imdb)"
   ]
  },
  {
   "cell_type": "code",
   "execution_count": null,
   "metadata": {
    "id": "tdTzRIL5zxEh"
   },
   "outputs": [],
   "source": [
    "twenty_train_partial_acc = np.array([a,b,c,d])\n",
    "print(\"IMDB dataset:\")\n",
    "for i in range(twenty_train_partial_acc.shape[0]):\n",
    "    print(f\"{(i+1)*20} percent of training data results in {twenty_train_partial_acc[i]*100}% accuracy!\")"
   ]
  },
  {
   "cell_type": "markdown",
   "metadata": {
    "id": "NFGhM2hoOd0i"
   },
   "source": [
    "Plotting the accuracy of the two models as a function of the size of dataset for Task3 part 3. ![Task3Part3NewsGroup.png](data:image/png;base64,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)![Task3Part3IMBD.png](data:image/png;base64,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)"
   ]
  },
  {
   "cell_type": "code",
   "execution_count": null,
   "metadata": {
    "id": "zqy-MCfbRSvI"
   },
   "outputs": [],
   "source": []
  },
  {
   "cell_type": "code",
   "execution_count": null,
   "metadata": {
    "colab": {
     "base_uri": "https://localhost:8080/",
     "height": 279
    },
    "id": "AxtVX7NrMg0W",
    "outputId": "558616b1-8e44-4655-ab0a-385a15ff6b2c"
   },
   "outputs": [
    {
     "data": {
      "image/png": "[encoded data removed]",
      "text/plain": [
       "<Figure size 432x288 with 1 Axes>"
      ]
     },
     "metadata": {
      "needs_background": "light",
      "tags": []
     },
     "output_type": "display_data"
    }
   ],
   "source": [
    "percents=[20, 40, 60, 80]\n",
    "NewsGroupsTrainingData = [40.40, 52.00, 58.95,61.86]\n",
    "IMBDTrainingData = [83.60, 85.12, 85.51, 85.51]\n",
    "plt.plot(percents,NewsGroupsTrainingData,  label='20 News Group')\n",
    "plt.plot(percents,IMBDTrainingData,  label='IMBD Training Data')\n",
    "plt.legend()\n",
    "plt.xlabel('percents')\n",
    "plt.ylabel('accuracy')\n",
    "plt.show()"
   ]
  }
 ],
 "metadata": {
  "colab": {
   "collapsed_sections": [],
   "name": "COMP 551 - P2 - Task 1 - Data Preprocessing.ipynb",
   "provenance": []
  },
  "kernelspec": {
   "display_name": "Python 3",
   "language": "python",
   "name": "python3"
  },
  "language_info": {
   "codemirror_mode": {
    "name": "ipython",
    "version": 3
   },
   "file_extension": ".py",
   "mimetype": "text/x-python",
   "name": "python",
   "nbconvert_exporter": "python",
   "pygments_lexer": "ipython3",
   "version": "3.8.3"
  }
 },
 "nbformat": 4,
 "nbformat_minor": 1
}
